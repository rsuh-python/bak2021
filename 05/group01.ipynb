{
 "cells": [
  {
   "cell_type": "code",
   "execution_count": 3,
   "id": "751ecd41-5fce-47c9-8436-6816ac156516",
   "metadata": {},
   "outputs": [
    {
     "name": "stdout",
     "output_type": "stream",
     "text": [
      "бегущ\n"
     ]
    }
   ],
   "source": [
    "from nltk.stem.snowball import SnowballStemmer\n",
    "\n",
    "stemmer = SnowballStemmer('russian')\n",
    "print(stemmer.stem('бегущий'))"
   ]
  },
  {
   "cell_type": "markdown",
   "id": "eb16e085-34fd-4920-8ee8-0009ffcaf312",
   "metadata": {},
   "source": [
    "pip install git+https://github.com/nlpub/pymystem3\n",
    "\n",
    "pip install pymorphy2\n",
    "\n",
    "pip install -U pymorphy2-dicts-ru"
   ]
  },
  {
   "cell_type": "code",
   "execution_count": 5,
   "id": "8cd0d3f8-0d4a-4776-811a-6c80812c6ead",
   "metadata": {},
   "outputs": [],
   "source": [
    "import pymorphy2\n",
    "\n",
    "morph = pymorphy2.MorphAnalyzer()"
   ]
  },
  {
   "cell_type": "code",
   "execution_count": 6,
   "id": "17b9cbeb-8234-41e5-b59d-de1096ebe3c6",
   "metadata": {},
   "outputs": [
    {
     "data": {
      "text/plain": [
       "[Parse(word='семью', tag=OpencorporaTag('NOUN,inan,femn sing,accs'), normal_form='семья', score=0.768115, methods_stack=((DictionaryAnalyzer(), 'семью', 332, 3),)),\n",
       " Parse(word='семью', tag=OpencorporaTag('NUMR ablt'), normal_form='семь', score=0.217391, methods_stack=((DictionaryAnalyzer(), 'семью', 930, 4),)),\n",
       " Parse(word='семью', tag=OpencorporaTag('ADVB'), normal_form='семью', score=0.014492, methods_stack=((DictionaryAnalyzer(), 'семью', 3, 0),))]"
      ]
     },
     "execution_count": 6,
     "metadata": {},
     "output_type": "execute_result"
    }
   ],
   "source": [
    "p = morph.parse('семью')\n",
    "p"
   ]
  },
  {
   "cell_type": "code",
   "execution_count": 7,
   "id": "51b3c145-8ea5-4da5-ad91-6685bd8c0ebb",
   "metadata": {},
   "outputs": [
    {
     "data": {
      "text/plain": [
       "Parse(word='семью', tag=OpencorporaTag('NOUN,inan,femn sing,accs'), normal_form='семья', score=0.768115, methods_stack=((DictionaryAnalyzer(), 'семью', 332, 3),))"
      ]
     },
     "execution_count": 7,
     "metadata": {},
     "output_type": "execute_result"
    }
   ],
   "source": [
    "p[0]"
   ]
  },
  {
   "cell_type": "code",
   "execution_count": 8,
   "id": "d752b8ff-1758-4ca3-9cbf-1c7e071f0c2b",
   "metadata": {},
   "outputs": [
    {
     "data": {
      "text/plain": [
       "'семью'"
      ]
     },
     "execution_count": 8,
     "metadata": {},
     "output_type": "execute_result"
    }
   ],
   "source": [
    "p[0].word"
   ]
  },
  {
   "cell_type": "code",
   "execution_count": 9,
   "id": "a750334d-315f-43c9-88ae-8ca1e3a0a794",
   "metadata": {},
   "outputs": [
    {
     "data": {
      "text/plain": [
       "'семья'"
      ]
     },
     "execution_count": 9,
     "metadata": {},
     "output_type": "execute_result"
    }
   ],
   "source": [
    "p[0].normal_form"
   ]
  },
  {
   "cell_type": "code",
   "execution_count": 10,
   "id": "2e319aae-906a-42b4-b11a-2265c2c17d60",
   "metadata": {},
   "outputs": [
    {
     "data": {
      "text/plain": [
       "OpencorporaTag('NOUN,inan,femn sing,accs')"
      ]
     },
     "execution_count": 10,
     "metadata": {},
     "output_type": "execute_result"
    }
   ],
   "source": [
    "p[0].tag"
   ]
  },
  {
   "cell_type": "code",
   "execution_count": 11,
   "id": "2e31f565-9d65-4794-8637-846c39f06b93",
   "metadata": {},
   "outputs": [
    {
     "data": {
      "text/plain": [
       "'NOUN'"
      ]
     },
     "execution_count": 11,
     "metadata": {},
     "output_type": "execute_result"
    }
   ],
   "source": [
    "p[0].tag.POS"
   ]
  },
  {
   "cell_type": "code",
   "execution_count": 12,
   "id": "46b9b74b-600d-4831-9a7c-b5a51b37150d",
   "metadata": {},
   "outputs": [
    {
     "data": {
      "text/plain": [
       "'inan'"
      ]
     },
     "execution_count": 12,
     "metadata": {},
     "output_type": "execute_result"
    }
   ],
   "source": [
    "p[0].tag.animacy"
   ]
  },
  {
   "cell_type": "code",
   "execution_count": 13,
   "id": "5cbe3bfc-33f7-45be-8e7e-8b70be4eebed",
   "metadata": {},
   "outputs": [],
   "source": [
    "p[0].tag.tense"
   ]
  },
  {
   "cell_type": "code",
   "execution_count": 14,
   "id": "02eee0b6-4d04-4b81-9358-8249ba32d25b",
   "metadata": {},
   "outputs": [
    {
     "data": {
      "text/plain": [
       "'СУЩ,неод,жр ед,вн'"
      ]
     },
     "execution_count": 14,
     "metadata": {},
     "output_type": "execute_result"
    }
   ],
   "source": [
    "p[0].tag.cyr_repr"
   ]
  },
  {
   "cell_type": "code",
   "execution_count": 15,
   "id": "e87008d2-f248-4966-9b7c-f3ded9251ab2",
   "metadata": {},
   "outputs": [
    {
     "data": {
      "text/plain": [
       "Parse(word='семьи', tag=OpencorporaTag('NOUN,inan,femn sing,gent'), normal_form='семья', score=1.0, methods_stack=((DictionaryAnalyzer(), 'семьи', 332, 1),))"
      ]
     },
     "execution_count": 15,
     "metadata": {},
     "output_type": "execute_result"
    }
   ],
   "source": [
    "p[0].inflect({'gent'})"
   ]
  },
  {
   "cell_type": "code",
   "execution_count": 16,
   "id": "2d00c2fa-185f-496b-ae28-f2fb6d41ad38",
   "metadata": {},
   "outputs": [
    {
     "data": {
      "text/plain": [
       "[Parse(word='семья', tag=OpencorporaTag('NOUN,inan,femn sing,nomn'), normal_form='семья', score=1.0, methods_stack=((DictionaryAnalyzer(), 'семья', 332, 0),)),\n",
       " Parse(word='семьи', tag=OpencorporaTag('NOUN,inan,femn sing,gent'), normal_form='семья', score=1.0, methods_stack=((DictionaryAnalyzer(), 'семьи', 332, 1),)),\n",
       " Parse(word='семье', tag=OpencorporaTag('NOUN,inan,femn sing,datv'), normal_form='семья', score=1.0, methods_stack=((DictionaryAnalyzer(), 'семье', 332, 2),)),\n",
       " Parse(word='семью', tag=OpencorporaTag('NOUN,inan,femn sing,accs'), normal_form='семья', score=1.0, methods_stack=((DictionaryAnalyzer(), 'семью', 332, 3),)),\n",
       " Parse(word='семьёй', tag=OpencorporaTag('NOUN,inan,femn sing,ablt'), normal_form='семья', score=1.0, methods_stack=((DictionaryAnalyzer(), 'семьёй', 332, 4),)),\n",
       " Parse(word='семьёю', tag=OpencorporaTag('NOUN,inan,femn sing,ablt,V-ey'), normal_form='семья', score=1.0, methods_stack=((DictionaryAnalyzer(), 'семьёю', 332, 5),)),\n",
       " Parse(word='семье', tag=OpencorporaTag('NOUN,inan,femn sing,loct'), normal_form='семья', score=1.0, methods_stack=((DictionaryAnalyzer(), 'семье', 332, 6),)),\n",
       " Parse(word='семьи', tag=OpencorporaTag('NOUN,inan,femn plur,nomn'), normal_form='семья', score=1.0, methods_stack=((DictionaryAnalyzer(), 'семьи', 332, 7),)),\n",
       " Parse(word='семей', tag=OpencorporaTag('NOUN,inan,femn plur,gent'), normal_form='семья', score=1.0, methods_stack=((DictionaryAnalyzer(), 'семей', 332, 8),)),\n",
       " Parse(word='семьям', tag=OpencorporaTag('NOUN,inan,femn plur,datv'), normal_form='семья', score=1.0, methods_stack=((DictionaryAnalyzer(), 'семьям', 332, 9),)),\n",
       " Parse(word='семьи', tag=OpencorporaTag('NOUN,inan,femn plur,accs'), normal_form='семья', score=1.0, methods_stack=((DictionaryAnalyzer(), 'семьи', 332, 10),)),\n",
       " Parse(word='семьями', tag=OpencorporaTag('NOUN,inan,femn plur,ablt'), normal_form='семья', score=1.0, methods_stack=((DictionaryAnalyzer(), 'семьями', 332, 11),)),\n",
       " Parse(word='семьях', tag=OpencorporaTag('NOUN,inan,femn plur,loct'), normal_form='семья', score=1.0, methods_stack=((DictionaryAnalyzer(), 'семьях', 332, 12),))]"
      ]
     },
     "execution_count": 16,
     "metadata": {},
     "output_type": "execute_result"
    }
   ],
   "source": [
    "p[0].lexeme"
   ]
  },
  {
   "cell_type": "code",
   "execution_count": null,
   "id": "4deea7a9-d06b-49cb-9f41-d3a1f5032c5a",
   "metadata": {},
   "outputs": [],
   "source": [
    "# razdel"
   ]
  },
  {
   "cell_type": "code",
   "execution_count": 17,
   "id": "cf2bd752-8667-433f-8b8d-8c27ec071ab0",
   "metadata": {},
   "outputs": [],
   "source": [
    "import pymystem3\n",
    "\n",
    "m = pymystem3.Mystem(entire_input=False)"
   ]
  },
  {
   "cell_type": "code",
   "execution_count": 18,
   "id": "d46c4003-c36a-47d2-b591-3a254a25dc6a",
   "metadata": {},
   "outputs": [],
   "source": [
    "raw = 'Получил медицинское образование в Эдинбургском университете, как вольноопределяющийся участвовал в пяти кампаниях Англо-бурской войны. '"
   ]
  },
  {
   "cell_type": "code",
   "execution_count": 19,
   "id": "9c1734d6-26b8-4795-8eb9-32acf801af8d",
   "metadata": {},
   "outputs": [],
   "source": [
    "lemmas = m.lemmatize(raw)"
   ]
  },
  {
   "cell_type": "code",
   "execution_count": 20,
   "id": "ec3ddd92-252b-44f9-84fb-3123af8862fd",
   "metadata": {},
   "outputs": [
    {
     "data": {
      "text/plain": [
       "['получать',\n",
       " 'медицинский',\n",
       " 'образование',\n",
       " 'в',\n",
       " 'эдинбургский',\n",
       " 'университет',\n",
       " 'как',\n",
       " 'вольноопределяющийся',\n",
       " 'участвовать',\n",
       " 'в',\n",
       " 'пять',\n",
       " 'кампания',\n",
       " 'англо-бурский',\n",
       " 'война']"
      ]
     },
     "execution_count": 20,
     "metadata": {},
     "output_type": "execute_result"
    }
   ],
   "source": [
    "lemmas"
   ]
  },
  {
   "cell_type": "code",
   "execution_count": 21,
   "id": "51cf5946-9d38-422e-b25e-b318871dc673",
   "metadata": {},
   "outputs": [],
   "source": [
    "analyse = m.analyze(raw)"
   ]
  },
  {
   "cell_type": "code",
   "execution_count": 22,
   "id": "bc28fcc6-db0d-4a60-88dc-c8e374f1efef",
   "metadata": {},
   "outputs": [
    {
     "data": {
      "text/plain": [
       "[{'analysis': [{'lex': 'получать',\n",
       "    'wt': 1,\n",
       "    'gr': 'V,пе=прош,ед,изъяв,муж,сов'}],\n",
       "  'text': 'Получил'},\n",
       " {'analysis': [{'lex': 'медицинский',\n",
       "    'wt': 1,\n",
       "    'gr': 'A=(вин,ед,полн,сред|им,ед,полн,сред)'}],\n",
       "  'text': 'медицинское'},\n",
       " {'analysis': [{'lex': 'образование',\n",
       "    'wt': 1,\n",
       "    'gr': 'S,сред,неод=(вин,ед|им,ед)'}],\n",
       "  'text': 'образование'},\n",
       " {'analysis': [{'lex': 'в', 'wt': 0.9999917878, 'gr': 'PR='}], 'text': 'в'},\n",
       " {'analysis': [{'lex': 'эдинбургский',\n",
       "    'wt': 1,\n",
       "    'gr': 'A=(пр,ед,полн,муж|пр,ед,полн,сред)'}],\n",
       "  'text': 'Эдинбургском'},\n",
       " {'analysis': [{'lex': 'университет', 'wt': 1, 'gr': 'S,муж,неод=пр,ед'}],\n",
       "  'text': 'университете'},\n",
       " {'analysis': [{'lex': 'как', 'wt': 0.6102574114, 'gr': 'CONJ='}],\n",
       "  'text': 'как'},\n",
       " {'analysis': [{'lex': 'вольноопределяющийся',\n",
       "    'wt': 1,\n",
       "    'gr': 'S,муж,од=им,ед'}],\n",
       "  'text': 'вольноопределяющийся'},\n",
       " {'analysis': [{'lex': 'участвовать',\n",
       "    'wt': 1,\n",
       "    'gr': 'V,несов,нп=прош,ед,изъяв,муж'}],\n",
       "  'text': 'участвовал'},\n",
       " {'analysis': [{'lex': 'в', 'wt': 0.9999917878, 'gr': 'PR='}], 'text': 'в'},\n",
       " {'analysis': [{'lex': 'пять', 'wt': 1, 'gr': 'NUM=(пр|дат|род)'}],\n",
       "  'text': 'пяти'},\n",
       " {'analysis': [{'lex': 'кампания', 'wt': 1, 'gr': 'S,жен,неод=пр,мн'}],\n",
       "  'text': 'кампаниях'},\n",
       " {'analysis': [{'lex': 'англо-бурский',\n",
       "    'wt': 1,\n",
       "    'gr': 'A=(пр,ед,полн,жен|дат,ед,полн,жен|род,ед,полн,жен|твор,ед,полн,жен)'}],\n",
       "  'text': 'Англо-бурской'},\n",
       " {'analysis': [{'lex': 'война',\n",
       "    'wt': 1,\n",
       "    'gr': 'S,жен,неод=(вин,мн|род,ед|им,мн)'}],\n",
       "  'text': 'войны'}]"
      ]
     },
     "execution_count": 22,
     "metadata": {},
     "output_type": "execute_result"
    }
   ],
   "source": [
    "analyse"
   ]
  },
  {
   "cell_type": "code",
   "execution_count": 23,
   "id": "8888d664-af91-4193-ab8d-32668bdb20d4",
   "metadata": {},
   "outputs": [
    {
     "data": {
      "text/plain": [
       "{'analysis': [{'lex': 'получать',\n",
       "   'wt': 1,\n",
       "   'gr': 'V,пе=прош,ед,изъяв,муж,сов'}],\n",
       " 'text': 'Получил'}"
      ]
     },
     "execution_count": 23,
     "metadata": {},
     "output_type": "execute_result"
    }
   ],
   "source": [
    "analyse[0]"
   ]
  },
  {
   "cell_type": "code",
   "execution_count": 24,
   "id": "bbba46b8-39f0-4b60-9984-839659b428a9",
   "metadata": {},
   "outputs": [
    {
     "data": {
      "text/plain": [
       "dict_keys(['analysis', 'text'])"
      ]
     },
     "execution_count": 24,
     "metadata": {},
     "output_type": "execute_result"
    }
   ],
   "source": [
    "analyse[0].keys()"
   ]
  },
  {
   "cell_type": "code",
   "execution_count": 28,
   "id": "87a256f8-f86a-486a-b4ba-09055359cbc1",
   "metadata": {},
   "outputs": [
    {
     "data": {
      "text/plain": [
       "'получать'"
      ]
     },
     "execution_count": 28,
     "metadata": {},
     "output_type": "execute_result"
    }
   ],
   "source": [
    "analyse[0]['analysis'][0]['lex']"
   ]
  },
  {
   "cell_type": "code",
   "execution_count": 29,
   "id": "452d315a-319e-49d2-97e5-231129282595",
   "metadata": {},
   "outputs": [
    {
     "data": {
      "text/plain": [
       "'V,пе=прош,ед,изъяв,муж,сов'"
      ]
     },
     "execution_count": 29,
     "metadata": {},
     "output_type": "execute_result"
    }
   ],
   "source": [
    "analyse[0]['analysis'][0]['gr']"
   ]
  },
  {
   "cell_type": "code",
   "execution_count": 31,
   "id": "8dad5929-49ac-4038-b271-ccfb53f3e70e",
   "metadata": {},
   "outputs": [
    {
     "name": "stderr",
     "output_type": "stream",
     "text": [
      "Exception ignored in: <function Mystem.__del__ at 0x000001C0C19F6280>\n",
      "Traceback (most recent call last):\n",
      "  File \"E:\\JupyterLab-Portable-3.0.16-3.8\\apps\\lib\\site-packages\\pymystem3\\mystem.py\", line 196, in __del__\n",
      "    self.close()  # terminate process on exit\n",
      "  File \"E:\\JupyterLab-Portable-3.0.16-3.8\\apps\\lib\\site-packages\\pymystem3\\mystem.py\", line 216, in close\n",
      "    if self._proc is not None:\n",
      "AttributeError: 'Mystem' object has no attribute '_proc'\n"
     ]
    },
    {
     "ename": "TypeError",
     "evalue": "__init__() got an unexpected keyword argument 'glue_grammar_info'",
     "output_type": "error",
     "traceback": [
      "\u001b[1;31m---------------------------------------------------------------------------\u001b[0m",
      "\u001b[1;31mTypeError\u001b[0m                                 Traceback (most recent call last)",
      "\u001b[1;32m<ipython-input-31-a302400ecee0>\u001b[0m in \u001b[0;36m<module>\u001b[1;34m\u001b[0m\n\u001b[1;32m----> 1\u001b[1;33m \u001b[0mm_noglue\u001b[0m \u001b[1;33m=\u001b[0m \u001b[0mpymystem3\u001b[0m\u001b[1;33m.\u001b[0m\u001b[0mMystem\u001b[0m\u001b[1;33m(\u001b[0m\u001b[0mentire_input\u001b[0m\u001b[1;33m=\u001b[0m\u001b[1;32mFalse\u001b[0m\u001b[1;33m,\u001b[0m \u001b[0mglue_grammar_info\u001b[0m\u001b[1;33m=\u001b[0m\u001b[1;32mFalse\u001b[0m\u001b[1;33m)\u001b[0m\u001b[1;33m\u001b[0m\u001b[1;33m\u001b[0m\u001b[0m\n\u001b[0m",
      "\u001b[1;31mTypeError\u001b[0m: __init__() got an unexpected keyword argument 'glue_grammar_info'"
     ]
    }
   ],
   "source": [
    "m_noglue = pymystem3.Mystem(entire_input=False, glue_grammar_info=False)"
   ]
  },
  {
   "cell_type": "code",
   "execution_count": 32,
   "id": "f1b43828-88a9-46e9-a1e9-4a6cd91f1475",
   "metadata": {},
   "outputs": [
    {
     "ename": "AttributeError",
     "evalue": "'Mystem' object has no attribute 'get_pos'",
     "output_type": "error",
     "traceback": [
      "\u001b[1;31m---------------------------------------------------------------------------\u001b[0m",
      "\u001b[1;31mAttributeError\u001b[0m                            Traceback (most recent call last)",
      "\u001b[1;32m<ipython-input-32-534ec96d98eb>\u001b[0m in \u001b[0;36m<module>\u001b[1;34m\u001b[0m\n\u001b[1;32m----> 1\u001b[1;33m \u001b[0mm\u001b[0m\u001b[1;33m.\u001b[0m\u001b[0mget_pos\u001b[0m\u001b[1;33m(\u001b[0m\u001b[0manalyse\u001b[0m\u001b[1;33m[\u001b[0m\u001b[1;36m0\u001b[0m\u001b[1;33m]\u001b[0m\u001b[1;33m)\u001b[0m\u001b[1;33m\u001b[0m\u001b[1;33m\u001b[0m\u001b[0m\n\u001b[0m",
      "\u001b[1;31mAttributeError\u001b[0m: 'Mystem' object has no attribute 'get_pos'"
     ]
    }
   ],
   "source": [
    "m.get_pos(analyse[0])"
   ]
  },
  {
   "cell_type": "code",
   "execution_count": null,
   "id": "06f15a68-90a1-4f94-b2cd-0eb4b5a70e33",
   "metadata": {},
   "outputs": [],
   "source": [
    "myfile = open(path, ...).read().replace('\\n', ' ')\n",
    "\n",
    "m.analyse(myfile)"
   ]
  },
  {
   "cell_type": "code",
   "execution_count": null,
   "id": "5b9378ac-16ba-41aa-b696-9d0e6663e61d",
   "metadata": {},
   "outputs": [],
   "source": [
    "m.analyse(file_path=path)"
   ]
  },
  {
   "cell_type": "code",
   "execution_count": null,
   "id": "036c4049-1406-44c4-b5c2-dd004ef78c54",
   "metadata": {},
   "outputs": [],
   "source": [
    "import rnnmorph"
   ]
  },
  {
   "cell_type": "code",
   "execution_count": 35,
   "id": "7a5cc2c0-addb-4517-92ee-c6f8e60e2cdf",
   "metadata": {},
   "outputs": [],
   "source": [
    "from razdel import sentenize, tokenize"
   ]
  },
  {
   "cell_type": "code",
   "execution_count": 34,
   "id": "5f1507c2-bd02-4336-bb1a-3f088c17b889",
   "metadata": {},
   "outputs": [],
   "source": [
    "raw = '''Алистер Форбс Маккей (англ. Alistair Forbes Mackay, 1878—1914) — шотландский путешественник, военный врач. Наиболее известен как участник экспедиции Шеклтона в Антарктиду, во время которой в команде австралийских геологов Дэвида и Моусона достиг Южного магнитного полюса.\n",
    "\n",
    "Получил медицинское образование в Эдинбургском университете, как вольноопределяющийся участвовал в пяти кампаниях Англо-бурской войны. Был награждён Королевской южноафриканской медалью. В 1902—1906 годах служил в Королевском военно-морском флоте судовым врачом, из-за нелюдимости и склонности к запоям сменил пять кораблей. Был принят в экспедицию Шеклтона, в которой сначала отвечал за лошадей, на которых планировалось достигнуть Южного полюса. Вместе с австралийскими геологами профессором Эджуортом Дэвидом и его учеником Дугласом Моусоном в октябре 1908 — феврале 1909 года осуществил первое достижение Южного магнитного полюса (16 января 1909 года). Во время путешествия конфликтовал с главой походной партии Дэвидом. Был награждён Полярной медалью. После возвращения в Шотландию некоторое время служил судовым врачом в торговом флоте, но также не смог удержаться на должности.'''"
   ]
  },
  {
   "cell_type": "code",
   "execution_count": 36,
   "id": "b08f9a72-e8a5-4c26-b7b9-0dbdfcf51eab",
   "metadata": {},
   "outputs": [],
   "source": [
    "with open('myfile.conllu', 'w', encoding='utf8') as file:\n",
    "    for sent in sentenize(raw):\n",
    "        for i, token in enumerate(tokenize(sent.text), 1):\n",
    "            print(f'{i}\\t{token.text}', file=file)\n",
    "        print(file=file)"
   ]
  },
  {
   "cell_type": "code",
   "execution_count": null,
   "id": "4db8fa8d-af78-4f2e-8633-daa248011787",
   "metadata": {},
   "outputs": [],
   "source": []
  }
 ],
 "metadata": {
  "kernelspec": {
   "display_name": "Python 3",
   "language": "python",
   "name": "python3"
  },
  "language_info": {
   "codemirror_mode": {
    "name": "ipython",
    "version": 3
   },
   "file_extension": ".py",
   "mimetype": "text/x-python",
   "name": "python",
   "nbconvert_exporter": "python",
   "pygments_lexer": "ipython3",
   "version": "3.8.10"
  }
 },
 "nbformat": 4,
 "nbformat_minor": 5
}
