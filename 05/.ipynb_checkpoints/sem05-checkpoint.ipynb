{
 "cells": [
  {
   "cell_type": "markdown",
   "id": "f911238e-2828-4da3-98ce-1b2f73cc2681",
   "metadata": {},
   "source": [
    "#### Задача 1.\n",
    "\n",
    "Возьмите любой текст (в файле или можно прямо в коде задать). Токенизируйте его и соберите список лемм с помощью pymorphy."
   ]
  },
  {
   "cell_type": "code",
   "execution_count": null,
   "id": "6c1f25d6-48a9-44f9-80cc-8f22f003e31c",
   "metadata": {},
   "outputs": [],
   "source": [
    "# your code here"
   ]
  },
  {
   "cell_type": "markdown",
   "id": "ee839604-76be-4ba4-a0ad-147ac6fa2166",
   "metadata": {},
   "source": [
    "#### Задача 2. \n",
    "\n",
    "Возьмите любой текст (можно тот же) и посчитайте с помощью mystem, сколько в нем в процентах каких частей речи."
   ]
  },
  {
   "cell_type": "code",
   "execution_count": null,
   "id": "bd3b4984-5cf7-4d24-8338-8a2ecdc8d9d6",
   "metadata": {},
   "outputs": [],
   "source": [
    "# your code here"
   ]
  },
  {
   "cell_type": "markdown",
   "id": "795e5ac9-dc2a-422b-955d-13bcf795b161",
   "metadata": {},
   "source": [
    "#### Задача 3.\n",
    "\n",
    "Подготовьте из этого текста файл в формате .conllu и разберите его в интегральном морфопарсере ([Ссылка](https://colab.research.google.com/drive/1nuIqJ-YUuDihSzi37A-YLy2uW7Ll-2Rr?usp=sharing)) - копию тетрадки с парсером лучше сохраните к себе на гугл-драйв. "
   ]
  },
  {
   "cell_type": "code",
   "execution_count": null,
   "id": "94e64f96-1696-4b17-a806-84413f14aa9b",
   "metadata": {},
   "outputs": [],
   "source": [
    "# your code here"
   ]
  }
 ],
 "metadata": {
  "kernelspec": {
   "display_name": "Python 3 (ipykernel)",
   "language": "python",
   "name": "python3"
  },
  "language_info": {
   "codemirror_mode": {
    "name": "ipython",
    "version": 3
   },
   "file_extension": ".py",
   "mimetype": "text/x-python",
   "name": "python",
   "nbconvert_exporter": "python",
   "pygments_lexer": "ipython3",
   "version": "3.8.10"
  }
 },
 "nbformat": 4,
 "nbformat_minor": 5
}
