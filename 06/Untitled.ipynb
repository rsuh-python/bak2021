{
 "cells": [
  {
   "cell_type": "code",
   "execution_count": null,
   "id": "2f595d58-3291-4a72-b7d2-0dd0fb3fb7a2",
   "metadata": {},
   "outputs": [],
   "source": [
    "!pip install nltk"
   ]
  },
  {
   "cell_type": "code",
   "execution_count": 2,
   "id": "24b27352-2a4a-4ef4-b024-1f319e93a29b",
   "metadata": {},
   "outputs": [
    {
     "name": "stdout",
     "output_type": "stream",
     "text": [
      "showing info https://raw.githubusercontent.com/nltk/nltk_data/gh-pages/index.xml\n"
     ]
    },
    {
     "data": {
      "text/plain": [
       "True"
      ]
     },
     "execution_count": 2,
     "metadata": {},
     "output_type": "execute_result"
    }
   ],
   "source": [
    "import nltk\n",
    "\n",
    "nltk.download()"
   ]
  },
  {
   "cell_type": "code",
   "execution_count": 3,
   "id": "dc37b972-2ca6-487d-a55e-66b4a6e01ede",
   "metadata": {},
   "outputs": [
    {
     "name": "stdout",
     "output_type": "stream",
     "text": [
      "*** Introductory Examples for the NLTK Book ***\n",
      "Loading text1, ..., text9 and sent1, ..., sent9\n",
      "Type the name of the text or sentence to view it.\n",
      "Type: 'texts()' or 'sents()' to list the materials.\n",
      "text1: Moby Dick by Herman Melville 1851\n",
      "text2: Sense and Sensibility by Jane Austen 1811\n",
      "text3: The Book of Genesis\n",
      "text4: Inaugural Address Corpus\n",
      "text5: Chat Corpus\n",
      "text6: Monty Python and the Holy Grail\n",
      "text7: Wall Street Journal\n",
      "text8: Personals Corpus\n",
      "text9: The Man Who Was Thursday by G . K . Chesterton 1908\n"
     ]
    }
   ],
   "source": [
    "from nltk.book import *"
   ]
  },
  {
   "cell_type": "code",
   "execution_count": 4,
   "id": "91fae0bc-4ee0-4fe5-a189-f0af10a42305",
   "metadata": {},
   "outputs": [
    {
     "data": {
      "text/plain": [
       "<Text: Moby Dick by Herman Melville 1851>"
      ]
     },
     "execution_count": 4,
     "metadata": {},
     "output_type": "execute_result"
    }
   ],
   "source": [
    "text1"
   ]
  },
  {
   "cell_type": "code",
   "execution_count": 5,
   "id": "56de0da0-edd4-4de0-be8a-dba1736454fc",
   "metadata": {},
   "outputs": [
    {
     "data": {
      "text/plain": [
       "nltk.text.Text"
      ]
     },
     "execution_count": 5,
     "metadata": {},
     "output_type": "execute_result"
    }
   ],
   "source": [
    "type(text1)"
   ]
  },
  {
   "cell_type": "code",
   "execution_count": 6,
   "id": "a23bb1af-a202-4413-add6-23f03b4471ce",
   "metadata": {},
   "outputs": [
    {
     "data": {
      "text/plain": [
       "'Moby'"
      ]
     },
     "execution_count": 6,
     "metadata": {},
     "output_type": "execute_result"
    }
   ],
   "source": [
    "text1[1]"
   ]
  },
  {
   "cell_type": "code",
   "execution_count": 7,
   "id": "4ba41a76-dae9-4e13-a68a-1a4203649cb2",
   "metadata": {},
   "outputs": [
    {
     "data": {
      "text/plain": [
       "260819"
      ]
     },
     "execution_count": 7,
     "metadata": {},
     "output_type": "execute_result"
    }
   ],
   "source": [
    "len(text1)"
   ]
  },
  {
   "cell_type": "code",
   "execution_count": 9,
   "id": "55bbe7b1-330d-4adc-aed0-c507145a35b4",
   "metadata": {},
   "outputs": [
    {
     "data": {
      "text/plain": [
       "84"
      ]
     },
     "execution_count": 9,
     "metadata": {},
     "output_type": "execute_result"
    }
   ],
   "source": [
    "text1.count('Moby')"
   ]
  },
  {
   "cell_type": "code",
   "execution_count": 11,
   "id": "81eace0a-3510-4f01-b041-76a3d0f5dc0e",
   "metadata": {},
   "outputs": [
    {
     "name": "stdout",
     "output_type": "stream",
     "text": [
      "Displaying 3 of 84 matches:\n",
      "[ Moby Dick by Herman Me\n",
      "me that some call Moby Dick .\" \" Moby Di\n",
      "ll Moby Dick .\" \" Moby Dick ?\" shouted A\n"
     ]
    }
   ],
   "source": [
    "text1.concordance('Moby', width=40, lines=3)"
   ]
  },
  {
   "cell_type": "code",
   "execution_count": 13,
   "id": "c96c2af2-5355-4275-a3f4-9897ffe27bf8",
   "metadata": {},
   "outputs": [
    {
     "name": "stdout",
     "output_type": "stream",
     "text": [
      "the_, the_' the_.\n"
     ]
    }
   ],
   "source": [
    "text1.common_contexts(['whale', 'ship'], num=3)"
   ]
  },
  {
   "cell_type": "code",
   "execution_count": 14,
   "id": "6a627a8a-6909-469f-a9a2-a046503eb128",
   "metadata": {},
   "outputs": [
    {
     "name": "stdout",
     "output_type": "stream",
     "text": [
      "ship boat sea man captain whales time water head world fish one line\n",
      "men thing other side leviathan mast boats\n"
     ]
    }
   ],
   "source": [
    "text1.similar('whale')"
   ]
  },
  {
   "cell_type": "code",
   "execution_count": null,
   "id": "095bde6f-e135-4309-bd8d-662a5625fd8d",
   "metadata": {},
   "outputs": [],
   "source": [
    "!pip install numpy\n",
    "!pip install matplotlib"
   ]
  },
  {
   "cell_type": "code",
   "execution_count": 15,
   "id": "a5b1b587-86ed-4f4c-bedb-2c683233d6d2",
   "metadata": {},
   "outputs": [
    {
     "data": {
      "image/png": "[encoded data removed]",
      "text/plain": [
       "<Figure size 432x288 with 1 Axes>"
      ]
     },
     "metadata": {
      "needs_background": "light"
     },
     "output_type": "display_data"
    }
   ],
   "source": [
    "text1.dispersion_plot(['Ahab', 'Ishmael'])"
   ]
  },
  {
   "cell_type": "code",
   "execution_count": 16,
   "id": "60a3af4f-ea6c-4efe-bf2d-ee17925204bd",
   "metadata": {},
   "outputs": [
    {
     "name": "stderr",
     "output_type": "stream",
     "text": [
      "Building ngram index...\n"
     ]
    },
    {
     "name": "stdout",
     "output_type": "stream",
     "text": [
      "long , from one to the top - mast , and no coffin and went out a sea\n",
      "captain -- this peaking of the whales . , so as to preserve all his\n",
      "might had in former years abounding with them , they toil with their\n",
      "lances , strange tales of Southern whaling . at once the bravest\n",
      "Indians he was , after in vain strove to pierce the profundity . ?\n",
      "then ?\" a levelled flame of pale , And give no chance , watch him ;\n",
      "though the line , it is to be gainsaid . have been\n"
     ]
    },
    {
     "data": {
      "text/plain": [
       "'long , from one to the top - mast , and no coffin and went out a sea\\ncaptain -- this peaking of the whales . , so as to preserve all his\\nmight had in former years abounding with them , they toil with their\\nlances , strange tales of Southern whaling . at once the bravest\\nIndians he was , after in vain strove to pierce the profundity . ?\\nthen ?\" a levelled flame of pale , And give no chance , watch him ;\\nthough the line , it is to be gainsaid . have been'"
      ]
     },
     "execution_count": 16,
     "metadata": {},
     "output_type": "execute_result"
    }
   ],
   "source": [
    "text1.generate()"
   ]
  },
  {
   "cell_type": "code",
   "execution_count": 17,
   "id": "fc2af57c-21c4-46eb-b5dd-0f0706349acd",
   "metadata": {},
   "outputs": [
    {
     "data": {
      "text/plain": [
       "['THE',\n",
       " 'suburb',\n",
       " 'of',\n",
       " 'Saffron',\n",
       " 'Park',\n",
       " 'lay',\n",
       " 'on',\n",
       " 'the',\n",
       " 'sunset',\n",
       " 'side',\n",
       " 'of',\n",
       " 'London',\n",
       " ',',\n",
       " 'as',\n",
       " 'red',\n",
       " 'and',\n",
       " 'ragged',\n",
       " 'as',\n",
       " 'a',\n",
       " 'cloud',\n",
       " 'of',\n",
       " 'sunset',\n",
       " '.']"
      ]
     },
     "execution_count": 17,
     "metadata": {},
     "output_type": "execute_result"
    }
   ],
   "source": [
    "sent9"
   ]
  },
  {
   "cell_type": "code",
   "execution_count": 18,
   "id": "723b79d0-d9aa-4e95-b9d7-961fba186fea",
   "metadata": {},
   "outputs": [],
   "source": [
    "from nltk.util import ngrams"
   ]
  },
  {
   "cell_type": "code",
   "execution_count": 19,
   "id": "cf9cf9fe-f958-4985-9c0a-9e3199c24641",
   "metadata": {},
   "outputs": [
    {
     "data": {
      "text/plain": [
       "[('THE', 'suburb', 'of'),\n",
       " ('suburb', 'of', 'Saffron'),\n",
       " ('of', 'Saffron', 'Park'),\n",
       " ('Saffron', 'Park', 'lay'),\n",
       " ('Park', 'lay', 'on'),\n",
       " ('lay', 'on', 'the'),\n",
       " ('on', 'the', 'sunset'),\n",
       " ('the', 'sunset', 'side'),\n",
       " ('sunset', 'side', 'of'),\n",
       " ('side', 'of', 'London'),\n",
       " ('of', 'London', ','),\n",
       " ('London', ',', 'as'),\n",
       " (',', 'as', 'red'),\n",
       " ('as', 'red', 'and'),\n",
       " ('red', 'and', 'ragged'),\n",
       " ('and', 'ragged', 'as'),\n",
       " ('ragged', 'as', 'a'),\n",
       " ('as', 'a', 'cloud'),\n",
       " ('a', 'cloud', 'of'),\n",
       " ('cloud', 'of', 'sunset'),\n",
       " ('of', 'sunset', '.')]"
      ]
     },
     "execution_count": 19,
     "metadata": {},
     "output_type": "execute_result"
    }
   ],
   "source": [
    "list(ngrams(sent9, 3))"
   ]
  },
  {
   "cell_type": "code",
   "execution_count": 20,
   "id": "0dd1f3db-f71b-49c8-bdd7-e50da8754b43",
   "metadata": {},
   "outputs": [
    {
     "name": "stdout",
     "output_type": "stream",
     "text": [
      "Sperm Whale; Moby Dick; White Whale; old man; Captain Ahab; sperm\n",
      "whale; Right Whale; Captain Peleg; New Bedford; Cape Horn; cried Ahab;\n",
      "years ago; lower jaw; never mind; Father Mapple; cried Stubb; chief\n",
      "mate; white whale; ivory leg; one hand\n"
     ]
    }
   ],
   "source": [
    "text1.collocations()"
   ]
  },
  {
   "cell_type": "code",
   "execution_count": 21,
   "id": "6103b03c-bdca-4a0f-9e7c-190b378da760",
   "metadata": {},
   "outputs": [],
   "source": [
    "from nltk import word_tokenize, sent_tokenize"
   ]
  },
  {
   "cell_type": "code",
   "execution_count": 24,
   "id": "372c5686-50e3-4885-94e6-c773ab5dd16e",
   "metadata": {},
   "outputs": [],
   "source": [
    "raw = open('warpeace.txt', encoding='cp1251').read()"
   ]
  },
  {
   "cell_type": "code",
   "execution_count": 25,
   "id": "f66339e5-7f2b-4d2e-b34a-0965f5916026",
   "metadata": {},
   "outputs": [
    {
     "data": {
      "text/plain": [
       "'Спасибо, ч'"
      ]
     },
     "execution_count": 25,
     "metadata": {},
     "output_type": "execute_result"
    }
   ],
   "source": [
    "raw[:10]"
   ]
  },
  {
   "cell_type": "code",
   "execution_count": 26,
   "id": "7980b7d5-bfb4-41ea-88fa-a4de2af5f308",
   "metadata": {},
   "outputs": [],
   "source": [
    "tokens = word_tokenize(raw)"
   ]
  },
  {
   "cell_type": "code",
   "execution_count": 27,
   "id": "beb0632e-b8d9-4452-9cab-21a42443808e",
   "metadata": {},
   "outputs": [
    {
     "data": {
      "text/plain": [
       "['Спасибо', ',', 'что', 'скачали', 'книгу']"
      ]
     },
     "execution_count": 27,
     "metadata": {},
     "output_type": "execute_result"
    }
   ],
   "source": [
    "tokens[:5]"
   ]
  },
  {
   "cell_type": "code",
   "execution_count": 28,
   "id": "d9fbf192-492a-490a-b697-190ee12e5f58",
   "metadata": {},
   "outputs": [],
   "source": [
    "text10 = nltk.Text(tokens)"
   ]
  },
  {
   "cell_type": "code",
   "execution_count": 29,
   "id": "03f266a4-0a13-4ffd-b3aa-2feaae54b9b7",
   "metadata": {},
   "outputs": [
    {
     "data": {
      "text/plain": [
       "<Text: Спасибо , что скачали книгу в бесплатной электронной...>"
      ]
     },
     "execution_count": 29,
     "metadata": {},
     "output_type": "execute_result"
    }
   ],
   "source": [
    "text10"
   ]
  },
  {
   "cell_type": "code",
   "execution_count": 30,
   "id": "b1743cab-a81d-4fa1-8574-535176d6f970",
   "metadata": {},
   "outputs": [
    {
     "data": {
      "image/png": "[encoded data removed]",
      "text/plain": [
       "<Figure size 432x288 with 1 Axes>"
      ]
     },
     "metadata": {
      "needs_background": "light"
     },
     "output_type": "display_data"
    }
   ],
   "source": [
    "text10.dispersion_plot(['Пьер', 'Наташа'])"
   ]
  },
  {
   "cell_type": "code",
   "execution_count": null,
   "id": "1ecd210c-4bb7-4fd2-851b-d92782aa3ea5",
   "metadata": {},
   "outputs": [],
   "source": [
    "from collections import Counter\n",
    "\n"
   ]
  },
  {
   "cell_type": "code",
   "execution_count": 31,
   "id": "69cb59ed-0b46-4f5d-8182-e981c5790cf6",
   "metadata": {},
   "outputs": [
    {
     "name": "stderr",
     "output_type": "stream",
     "text": [
      "2022-05-07 13:51:06.686233: W tensorflow/stream_executor/platform/default/dso_loader.cc:64] Could not load dynamic library 'libcudart.so.11.0'; dlerror: libcudart.so.11.0: cannot open shared object file: No such file or directory\n",
      "2022-05-07 13:51:06.686293: I tensorflow/stream_executor/cuda/cudart_stub.cc:29] Ignore above cudart dlerror if you do not have a GPU set up on your machine.\n"
     ]
    }
   ],
   "source": [
    "import spacy"
   ]
  },
  {
   "cell_type": "code",
   "execution_count": 32,
   "id": "7e87832b-34ed-4c93-8109-dbd551906e73",
   "metadata": {},
   "outputs": [],
   "source": [
    "nlp = spacy.blank('en')"
   ]
  },
  {
   "cell_type": "code",
   "execution_count": 49,
   "id": "09628ba2-c0a7-4529-853a-58fdbe73bb7d",
   "metadata": {},
   "outputs": [],
   "source": [
    "text = '''Daisy Pearce (born 1988) is an Australian rules footballer playing for the Melbourne Football Club in the AFL Women's (AFLW) competition. Often regarded as the face of women's Australian rules football, Pearce has served as Melbourne captain starting with the AFLW's inaugural season in 2017.'''"
   ]
  },
  {
   "cell_type": "code",
   "execution_count": 50,
   "id": "7a0f706c-4eeb-485b-a1b1-46d81bfbe60f",
   "metadata": {},
   "outputs": [],
   "source": [
    "doc = nlp(text)"
   ]
  },
  {
   "cell_type": "code",
   "execution_count": 39,
   "id": "cd6bf6e0-0fa4-4751-8c41-a9a556fc5169",
   "metadata": {},
   "outputs": [],
   "source": [
    "span = doc[2:6]"
   ]
  },
  {
   "cell_type": "code",
   "execution_count": null,
   "id": "4733b34c-9f88-4404-b365-7b540bce9784",
   "metadata": {},
   "outputs": [],
   "source": [
    "for token in doc:\n",
    "    print(token.i, token.text, token.is_alpha)\n",
    "    \n",
    "[token.text for token in doc if not token.is_punct]"
   ]
  },
  {
   "cell_type": "code",
   "execution_count": null,
   "id": "ea75ea94-736b-48dd-b286-0ae52a24d163",
   "metadata": {},
   "outputs": [],
   "source": [
    "# token.is_punct\n",
    "# token.like_num"
   ]
  },
  {
   "cell_type": "code",
   "execution_count": 45,
   "id": "69bf5fd4-809c-498c-802c-250695dd91c3",
   "metadata": {},
   "outputs": [],
   "source": [
    "nlp = spacy.load('en_core_web_lg')"
   ]
  },
  {
   "cell_type": "code",
   "execution_count": 46,
   "id": "5da74ac1-3c24-4537-8ca5-be1bea8e2d02",
   "metadata": {},
   "outputs": [],
   "source": [
    "doc = nlp(text)"
   ]
  },
  {
   "cell_type": "code",
   "execution_count": 47,
   "id": "295b98a3-96dc-4569-aad5-19ccc450f670",
   "metadata": {},
   "outputs": [
    {
     "name": "stdout",
     "output_type": "stream",
     "text": [
      "This DET det chapter\n",
      "chapter NOUN nsubj continues\n",
      "continues VERB ROOT continues\n",
      "to PART aux present\n",
      "present VERB xcomp continues\n",
      "programming NOUN compound concepts\n",
      "concepts NOUN dobj present\n",
      "by ADP prep present\n",
      "example NOUN pobj by\n",
      ", PUNCT punct present\n",
      "in ADP prep present\n",
      "the DET det context\n",
      "context NOUN pobj in\n",
      "of ADP prep context\n",
      "a DET det task\n",
      "linguistic ADJ amod task\n",
      "processing NOUN compound task\n",
      "task NOUN pobj of\n",
      ". PUNCT punct continues\n",
      "We PRON nsubj wait\n",
      "will AUX aux wait\n",
      "wait VERB ROOT wait\n",
      "until ADP prep wait\n",
      "later ADV advmod before\n",
      "before ADP prep wait\n",
      "exploring VERB pcomp before\n",
      "each DET det Python\n",
      "Python PROPN dobj exploring\n",
      "construct VERB advcl wait\n",
      "systematically ADV advmod construct\n",
      ". PUNCT punct wait\n",
      "Do AUX aux worry\n",
      "n't PART neg worry\n",
      "worry VERB advcl try\n",
      "if SCONJ mark see\n",
      "you PRON nsubj see\n",
      "see VERB advcl worry\n",
      "an DET det example\n",
      "example NOUN dobj see\n",
      "that DET nsubj contains\n",
      "contains VERB relcl example\n",
      "something PRON dobj contains\n",
      "unfamiliar ADJ amod something\n",
      "; PUNCT punct try\n",
      "simply ADV advmod try\n",
      "try VERB ROOT try\n",
      "it PRON dobj try\n",
      "out ADP prt try\n",
      "and CCONJ cc try\n",
      "see VERB conj try\n",
      "what PRON dobj does\n",
      "it PRON nsubj does\n",
      "does VERB ccomp see\n",
      ", PUNCT punct try\n",
      "and CCONJ cc try\n",
      "— PUNCT punct modify\n",
      "if SCONJ mark 're\n",
      "you PRON nsubj 're\n",
      "'re VERB advcl modify\n",
      "game NOUN attr 're\n",
      "— PUNCT punct modify\n",
      "modify VERB conj try\n",
      "it PRON dobj modify\n",
      "by ADP prep modify\n",
      "substituting VERB pcomp by\n",
      "some DET det part\n",
      "part NOUN dobj substituting\n",
      "of ADP prep part\n",
      "the DET det code\n",
      "code NOUN pobj of\n",
      "with ADP prep substituting\n",
      "a DET det text\n",
      "different ADJ amod text\n",
      "text NOUN pobj with\n",
      "or CCONJ cc text\n",
      "word NOUN conj text\n",
      ". PUNCT punct modify\n",
      "This DET det way\n",
      "way NOUN npadvmod associate\n",
      "you PRON nsubj associate\n",
      "will AUX aux associate\n",
      "associate VERB ROOT associate\n",
      "a DET det task\n",
      "task NOUN dobj associate\n",
      "with ADP prep associate\n",
      "a DET det idiom\n",
      "programming NOUN compound idiom\n",
      "idiom NOUN pobj with\n",
      ", PUNCT punct associate\n",
      "and CCONJ cc associate\n",
      "learn VERB conj associate\n",
      "the DET det s\n",
      "how ADV compound s\n",
      "s NOUN dobj learn\n",
      "and CCONJ cc s\n",
      "why ADV advmod s\n",
      "s VERB conj s\n",
      "later ADV advmod s\n",
      ". PUNCT punct associate\n"
     ]
    }
   ],
   "source": [
    "for token in doc:\n",
    "    print(token.text, token.pos_, token.dep_, token.head.text)"
   ]
  },
  {
   "cell_type": "code",
   "execution_count": 51,
   "id": "0c30b377-bc5b-4c19-a778-2989120326e1",
   "metadata": {},
   "outputs": [
    {
     "name": "stdout",
     "output_type": "stream",
     "text": [
      "Daisy Pearce PERSON\n",
      "1988 DATE\n",
      "Australian NORP\n",
      "the Melbourne Football Club ORG\n",
      "the AFL Women's ORG\n",
      "Australian NORP\n",
      "Pearce PERSON\n",
      "Melbourne GPE\n",
      "2017 DATE\n"
     ]
    }
   ],
   "source": [
    "for ent in doc.ents:\n",
    "    print(ent.text, ent.label_)"
   ]
  },
  {
   "cell_type": "code",
   "execution_count": 53,
   "id": "b9157c60-505e-43f7-8449-5e527ac3c01a",
   "metadata": {},
   "outputs": [
    {
     "data": {
      "text/plain": [
       "'noun phrase as adverbial modifier'"
      ]
     },
     "execution_count": 53,
     "metadata": {},
     "output_type": "execute_result"
    }
   ],
   "source": [
    "spacy.explain('npadvmod')"
   ]
  },
  {
   "cell_type": "code",
   "execution_count": null,
   "id": "f2a7de45-2c28-4a69-abf4-3a37bb942c49",
   "metadata": {},
   "outputs": [],
   "source": [
    "!pip install spacy_udpipe"
   ]
  },
  {
   "cell_type": "code",
   "execution_count": 54,
   "id": "774129c9-7acb-4a14-a217-c4537294ecaa",
   "metadata": {},
   "outputs": [
    {
     "name": "stdout",
     "output_type": "stream",
     "text": [
      "Already downloaded a model for the 'en' language\n"
     ]
    }
   ],
   "source": [
    "import spacy_udpipe\n",
    "\n",
    "spacy_udpipe.download('en')"
   ]
  },
  {
   "cell_type": "code",
   "execution_count": 55,
   "id": "a472c7e8-d078-45b2-8348-e2f8229b5758",
   "metadata": {},
   "outputs": [],
   "source": [
    "nlp = spacy_udpipe.load('en')"
   ]
  },
  {
   "cell_type": "code",
   "execution_count": 56,
   "id": "9820eb9a-12c9-4fd2-bfba-66d9133223de",
   "metadata": {},
   "outputs": [],
   "source": [
    "doc = nlp(text)"
   ]
  },
  {
   "cell_type": "code",
   "execution_count": null,
   "id": "09258304-1a8a-4fdc-83d4-4236a9e21a59",
   "metadata": {},
   "outputs": [],
   "source": [
    "for token in doc:\n",
    "    print(token.text, token.lemma_, token.pos_, token.dep_)"
   ]
  },
  {
   "cell_type": "code",
   "execution_count": null,
   "id": "bcf319bd-4197-4dcb-933f-6d3686f78bbd",
   "metadata": {},
   "outputs": [],
   "source": [
    "pip install corpy"
   ]
  },
  {
   "cell_type": "code",
   "execution_count": 58,
   "id": "31a22c0b-8b7a-478c-824b-8125f0a08718",
   "metadata": {},
   "outputs": [],
   "source": [
    "from corpy.udpipe import Model"
   ]
  },
  {
   "cell_type": "code",
   "execution_count": 59,
   "id": "6a1d1937-d2ed-4625-8f82-c476627c8264",
   "metadata": {},
   "outputs": [],
   "source": [
    "m = Model('english-ewt-ud-2.5-191206.udpipe')"
   ]
  },
  {
   "cell_type": "code",
   "execution_count": 60,
   "id": "34d541d9-4fa6-4653-96e9-e7ea0b1d75c5",
   "metadata": {},
   "outputs": [],
   "source": [
    "sents = list(m.process(text))"
   ]
  },
  {
   "cell_type": "code",
   "execution_count": 68,
   "id": "49bf753f-b4fc-47d7-ac36-8503f820256f",
   "metadata": {},
   "outputs": [
    {
     "name": "stdout",
     "output_type": "stream",
     "text": [
      "0 <root> <root> <root> \n",
      "1 daisy PROPN Number=Sing nsubj\n",
      "2 Pearce PROPN Number=Sing flat\n",
      "3 ( PUNCT  punct\n",
      "4 bear VERB Tense=Past|VerbForm=Part acl\n",
      "5 1988 NUM NumType=Card nummod\n",
      "6 ) PUNCT  punct\n",
      "7 be AUX Mood=Ind|Number=Sing|Person=3|Tense=Pres|VerbForm=Fin cop\n",
      "8 a DET Definite=Ind|PronType=Art det\n",
      "9 australian ADJ Degree=Pos amod\n",
      "10 rule NOUN Number=Plur compound\n",
      "11 footballer NOUN Number=Sing root\n",
      "12 play VERB VerbForm=Ger acl\n",
      "13 for ADP  case\n",
      "14 the DET Definite=Def|PronType=Art det\n",
      "15 Melbourne PROPN Number=Sing compound\n",
      "16 football PROPN Number=Sing compound\n",
      "17 Club PROPN Number=Sing obl\n",
      "18 in ADP  case\n",
      "19 the DET Definite=Def|PronType=Art det\n",
      "20 AFL PROPN Number=Sing compound\n",
      "21 woman PROPN Number=Sing compound\n",
      "22 's PART  case\n",
      "23 ( PUNCT  punct\n",
      "24 AFLW PROPN Number=Sing appos\n",
      "25 ) PUNCT  punct\n",
      "26 competition NOUN Number=Sing nmod\n",
      "27 . PUNCT  punct\n",
      "0 <root> <root> <root> \n",
      "1 often ADV  advmod\n",
      "2 regard VERB Tense=Past|VerbForm=Part advcl\n",
      "3 as ADP  case\n",
      "4 the DET Definite=Def|PronType=Art det\n",
      "5 face NOUN Number=Sing obl\n",
      "6 of ADP  case\n",
      "7 woman NOUN Number=Plur nmod:poss\n",
      "8 's PART  case\n",
      "9 australian ADJ Degree=Pos amod\n",
      "10 rule NOUN Number=Plur compound\n",
      "11 football NOUN Number=Sing nmod\n",
      "12 , PUNCT  punct\n",
      "13 Pearce PROPN Number=Sing nsubj\n",
      "14 have AUX Mood=Ind|Number=Sing|Person=3|Tense=Pres|VerbForm=Fin aux\n",
      "15 serve VERB Tense=Past|VerbForm=Part root\n",
      "16 as ADP  case\n",
      "17 Melbourne PROPN Number=Sing compound\n",
      "18 captain PROPN Number=Sing obl\n",
      "19 start VERB VerbForm=Ger advcl\n",
      "20 with ADP  case\n",
      "21 the DET Definite=Def|PronType=Art det\n",
      "22 AFLW PROPN Number=Sing nmod:poss\n",
      "23 's PART  case\n",
      "24 inaugural ADJ Degree=Pos amod\n",
      "25 season NOUN Number=Sing obl\n",
      "26 in ADP  case\n",
      "27 2017 NUM NumType=Card obl\n",
      "28 . PUNCT  punct\n"
     ]
    }
   ],
   "source": [
    "for sent in sents:\n",
    "    for word in sent.words:\n",
    "        print(word.id, word.lemma, word.upostag, word.feats, word.deprel)"
   ]
  },
  {
   "cell_type": "code",
   "execution_count": 70,
   "id": "30ef4255-76c8-445a-96eb-8eeba045f210",
   "metadata": {},
   "outputs": [
    {
     "name": "stdout",
     "output_type": "stream",
     "text": [
      "[Sentence(\n",
      "   comments=[\n",
      "     '# newdoc',\n",
      "     '# newpar',\n",
      "     '# sent_id = 1',\n",
      "     \"# text = Daisy Pearce (born 1988) is an Australian rules footballer playing for the Melbourne Football Club in the AFL Women's (AFLW) competition.\"],\n",
      "   words=[\n",
      "     Word(id=0, <root>),\n",
      "     Word(id=1,\n",
      "          form='Daisy',\n",
      "          lemma='daisy',\n",
      "          xpostag='NNP',\n",
      "          upostag='PROPN',\n",
      "          feats='Number=Sing',\n",
      "          head=11,\n",
      "          deprel='nsubj'),\n",
      "     Word(id=2,\n",
      "          form='Pearce',\n",
      "          lemma='Pearce',\n",
      "          xpostag='NNP',\n",
      "          upostag='PROPN',\n",
      "          feats='Number=Sing',\n",
      "          head=1,\n",
      "          deprel='flat'),\n",
      "     Word(id=3,\n",
      "          form='(',\n",
      "          lemma='(',\n",
      "          xpostag='-LRB-',\n",
      "          upostag='PUNCT',\n",
      "          head=4,\n",
      "          deprel='punct',\n",
      "          misc='SpaceAfter=No'),\n",
      "     Word(id=4,\n",
      "          form='born',\n",
      "          lemma='bear',\n",
      "          xpostag='VBN',\n",
      "          upostag='VERB',\n",
      "          feats='Tense=Past|VerbForm=Part',\n",
      "          head=1,\n",
      "          deprel='acl'),\n",
      "     Word(id=5,\n",
      "          form='1988',\n",
      "          lemma='1988',\n",
      "          xpostag='CD',\n",
      "          upostag='NUM',\n",
      "          feats='NumType=Card',\n",
      "          head=4,\n",
      "          deprel='nummod',\n",
      "          misc='SpaceAfter=No'),\n",
      "     Word(id=6,\n",
      "          form=')',\n",
      "          lemma=')',\n",
      "          xpostag='-RRB-',\n",
      "          upostag='PUNCT',\n",
      "          head=4,\n",
      "          deprel='punct'),\n",
      "     Word(id=7,\n",
      "          form='is',\n",
      "          lemma='be',\n",
      "          xpostag='VBZ',\n",
      "          upostag='AUX',\n",
      "          feats='Mood=Ind|Number=Sing|Person=3|Tense=Pres|VerbForm=Fin',\n",
      "          head=11,\n",
      "          deprel='cop'),\n",
      "     Word(id=8,\n",
      "          form='an',\n",
      "          lemma='a',\n",
      "          xpostag='DT',\n",
      "          upostag='DET',\n",
      "          feats='Definite=Ind|PronType=Art',\n",
      "          head=11,\n",
      "          deprel='det'),\n",
      "     Word(id=9,\n",
      "          form='Australian',\n",
      "          lemma='australian',\n",
      "          xpostag='JJ',\n",
      "          upostag='ADJ',\n",
      "          feats='Degree=Pos',\n",
      "          head=10,\n",
      "          deprel='amod'),\n",
      "     Word(id=10,\n",
      "          form='rules',\n",
      "          lemma='rule',\n",
      "          xpostag='NNS',\n",
      "          upostag='NOUN',\n",
      "          feats='Number=Plur',\n",
      "          head=11,\n",
      "          deprel='compound'),\n",
      "     Word(id=11,\n",
      "          form='footballer',\n",
      "          lemma='footballer',\n",
      "          xpostag='NN',\n",
      "          upostag='NOUN',\n",
      "          feats='Number=Sing',\n",
      "          head=0,\n",
      "          deprel='root'),\n",
      "     Word(id=12,\n",
      "          form='playing',\n",
      "          lemma='play',\n",
      "          xpostag='VBG',\n",
      "          upostag='VERB',\n",
      "          feats='VerbForm=Ger',\n",
      "          head=11,\n",
      "          deprel='acl'),\n",
      "     Word(id=13,\n",
      "          form='for',\n",
      "          lemma='for',\n",
      "          xpostag='IN',\n",
      "          upostag='ADP',\n",
      "          head=17,\n",
      "          deprel='case'),\n",
      "     Word(id=14,\n",
      "          form='the',\n",
      "          lemma='the',\n",
      "          xpostag='DT',\n",
      "          upostag='DET',\n",
      "          feats='Definite=Def|PronType=Art',\n",
      "          head=17,\n",
      "          deprel='det'),\n",
      "     Word(id=15,\n",
      "          form='Melbourne',\n",
      "          lemma='Melbourne',\n",
      "          xpostag='NNP',\n",
      "          upostag='PROPN',\n",
      "          feats='Number=Sing',\n",
      "          head=17,\n",
      "          deprel='compound'),\n",
      "     Word(id=16,\n",
      "          form='Football',\n",
      "          lemma='football',\n",
      "          xpostag='NNP',\n",
      "          upostag='PROPN',\n",
      "          feats='Number=Sing',\n",
      "          head=17,\n",
      "          deprel='compound'),\n",
      "     Word(id=17,\n",
      "          form='Club',\n",
      "          lemma='Club',\n",
      "          xpostag='NNP',\n",
      "          upostag='PROPN',\n",
      "          feats='Number=Sing',\n",
      "          head=12,\n",
      "          deprel='obl'),\n",
      "     Word(id=18,\n",
      "          form='in',\n",
      "          lemma='in',\n",
      "          xpostag='IN',\n",
      "          upostag='ADP',\n",
      "          head=26,\n",
      "          deprel='case'),\n",
      "     Word(id=19,\n",
      "          form='the',\n",
      "          lemma='the',\n",
      "          xpostag='DT',\n",
      "          upostag='DET',\n",
      "          feats='Definite=Def|PronType=Art',\n",
      "          head=21,\n",
      "          deprel='det'),\n",
      "     Word(id=20,\n",
      "          form='AFL',\n",
      "          lemma='AFL',\n",
      "          xpostag='NNP',\n",
      "          upostag='PROPN',\n",
      "          feats='Number=Sing',\n",
      "          head=21,\n",
      "          deprel='compound'),\n",
      "     Word(id=21,\n",
      "          form='Women',\n",
      "          lemma='woman',\n",
      "          xpostag='NNP',\n",
      "          upostag='PROPN',\n",
      "          feats='Number=Sing',\n",
      "          head=26,\n",
      "          deprel='compound',\n",
      "          misc='SpaceAfter=No'),\n",
      "     Word(id=22,\n",
      "          form=\"'s\",\n",
      "          lemma=\"'s\",\n",
      "          xpostag='POS',\n",
      "          upostag='PART',\n",
      "          head=21,\n",
      "          deprel='case'),\n",
      "     Word(id=23,\n",
      "          form='(',\n",
      "          lemma='(',\n",
      "          xpostag='-LRB-',\n",
      "          upostag='PUNCT',\n",
      "          head=24,\n",
      "          deprel='punct',\n",
      "          misc='SpaceAfter=No'),\n",
      "     Word(id=24,\n",
      "          form='AFLW',\n",
      "          lemma='AFLW',\n",
      "          xpostag='NNP',\n",
      "          upostag='PROPN',\n",
      "          feats='Number=Sing',\n",
      "          head=21,\n",
      "          deprel='appos',\n",
      "          misc='SpaceAfter=No'),\n",
      "     Word(id=25,\n",
      "          form=')',\n",
      "          lemma=')',\n",
      "          xpostag='-RRB-',\n",
      "          upostag='PUNCT',\n",
      "          head=24,\n",
      "          deprel='punct'),\n",
      "     Word(id=26,\n",
      "          form='competition',\n",
      "          lemma='competition',\n",
      "          xpostag='NN',\n",
      "          upostag='NOUN',\n",
      "          feats='Number=Sing',\n",
      "          head=17,\n",
      "          deprel='nmod',\n",
      "          misc='SpaceAfter=No'),\n",
      "     Word(id=27,\n",
      "          form='.',\n",
      "          lemma='.',\n",
      "          xpostag='.',\n",
      "          upostag='PUNCT',\n",
      "          head=11,\n",
      "          deprel='punct')]),\n",
      " Sentence(\n",
      "   comments=[\n",
      "     '# sent_id = 2',\n",
      "     \"# text = Often regarded as the face of women's Australian rules football, Pearce has served as Melbourne captain starting with the AFLW's inaugural season in 2017.\"],\n",
      "   words=[\n",
      "     Word(id=0, <root>),\n",
      "     Word(id=1,\n",
      "          form='Often',\n",
      "          lemma='often',\n",
      "          xpostag='RB',\n",
      "          upostag='ADV',\n",
      "          head=2,\n",
      "          deprel='advmod'),\n",
      "     Word(id=2,\n",
      "          form='regarded',\n",
      "          lemma='regard',\n",
      "          xpostag='VBN',\n",
      "          upostag='VERB',\n",
      "          feats='Tense=Past|VerbForm=Part',\n",
      "          head=15,\n",
      "          deprel='advcl'),\n",
      "     Word(id=3,\n",
      "          form='as',\n",
      "          lemma='as',\n",
      "          xpostag='IN',\n",
      "          upostag='ADP',\n",
      "          head=5,\n",
      "          deprel='case'),\n",
      "     Word(id=4,\n",
      "          form='the',\n",
      "          lemma='the',\n",
      "          xpostag='DT',\n",
      "          upostag='DET',\n",
      "          feats='Definite=Def|PronType=Art',\n",
      "          head=5,\n",
      "          deprel='det'),\n",
      "     Word(id=5,\n",
      "          form='face',\n",
      "          lemma='face',\n",
      "          xpostag='NN',\n",
      "          upostag='NOUN',\n",
      "          feats='Number=Sing',\n",
      "          head=2,\n",
      "          deprel='obl'),\n",
      "     Word(id=6,\n",
      "          form='of',\n",
      "          lemma='of',\n",
      "          xpostag='IN',\n",
      "          upostag='ADP',\n",
      "          head=11,\n",
      "          deprel='case'),\n",
      "     Word(id=7,\n",
      "          form='women',\n",
      "          lemma='woman',\n",
      "          xpostag='NNS',\n",
      "          upostag='NOUN',\n",
      "          feats='Number=Plur',\n",
      "          head=11,\n",
      "          deprel='nmod:poss',\n",
      "          misc='SpaceAfter=No'),\n",
      "     Word(id=8,\n",
      "          form=\"'s\",\n",
      "          lemma=\"'s\",\n",
      "          xpostag='POS',\n",
      "          upostag='PART',\n",
      "          head=7,\n",
      "          deprel='case'),\n",
      "     Word(id=9,\n",
      "          form='Australian',\n",
      "          lemma='australian',\n",
      "          xpostag='JJ',\n",
      "          upostag='ADJ',\n",
      "          feats='Degree=Pos',\n",
      "          head=11,\n",
      "          deprel='amod'),\n",
      "     Word(id=10,\n",
      "          form='rules',\n",
      "          lemma='rule',\n",
      "          xpostag='NNS',\n",
      "          upostag='NOUN',\n",
      "          feats='Number=Plur',\n",
      "          head=11,\n",
      "          deprel='compound'),\n",
      "     Word(id=11,\n",
      "          form='football',\n",
      "          lemma='football',\n",
      "          xpostag='NN',\n",
      "          upostag='NOUN',\n",
      "          feats='Number=Sing',\n",
      "          head=5,\n",
      "          deprel='nmod',\n",
      "          misc='SpaceAfter=No'),\n",
      "     Word(id=12,\n",
      "          form=',',\n",
      "          lemma=',',\n",
      "          xpostag=',',\n",
      "          upostag='PUNCT',\n",
      "          head=15,\n",
      "          deprel='punct'),\n",
      "     Word(id=13,\n",
      "          form='Pearce',\n",
      "          lemma='Pearce',\n",
      "          xpostag='NNP',\n",
      "          upostag='PROPN',\n",
      "          feats='Number=Sing',\n",
      "          head=15,\n",
      "          deprel='nsubj'),\n",
      "     Word(id=14,\n",
      "          form='has',\n",
      "          lemma='have',\n",
      "          xpostag='VBZ',\n",
      "          upostag='AUX',\n",
      "          feats='Mood=Ind|Number=Sing|Person=3|Tense=Pres|VerbForm=Fin',\n",
      "          head=15,\n",
      "          deprel='aux'),\n",
      "     Word(id=15,\n",
      "          form='served',\n",
      "          lemma='serve',\n",
      "          xpostag='VBN',\n",
      "          upostag='VERB',\n",
      "          feats='Tense=Past|VerbForm=Part',\n",
      "          head=0,\n",
      "          deprel='root'),\n",
      "     Word(id=16,\n",
      "          form='as',\n",
      "          lemma='as',\n",
      "          xpostag='IN',\n",
      "          upostag='ADP',\n",
      "          head=18,\n",
      "          deprel='case'),\n",
      "     Word(id=17,\n",
      "          form='Melbourne',\n",
      "          lemma='Melbourne',\n",
      "          xpostag='NNP',\n",
      "          upostag='PROPN',\n",
      "          feats='Number=Sing',\n",
      "          head=18,\n",
      "          deprel='compound'),\n",
      "     Word(id=18,\n",
      "          form='captain',\n",
      "          lemma='captain',\n",
      "          xpostag='NNP',\n",
      "          upostag='PROPN',\n",
      "          feats='Number=Sing',\n",
      "          head=15,\n",
      "          deprel='obl'),\n",
      "     Word(id=19,\n",
      "          form='starting',\n",
      "          lemma='start',\n",
      "          xpostag='VBG',\n",
      "          upostag='VERB',\n",
      "          feats='VerbForm=Ger',\n",
      "          head=15,\n",
      "          deprel='advcl'),\n",
      "     Word(id=20,\n",
      "          form='with',\n",
      "          lemma='with',\n",
      "          xpostag='IN',\n",
      "          upostag='ADP',\n",
      "          head=25,\n",
      "          deprel='case'),\n",
      "     Word(id=21,\n",
      "          form='the',\n",
      "          lemma='the',\n",
      "          xpostag='DT',\n",
      "          upostag='DET',\n",
      "          feats='Definite=Def|PronType=Art',\n",
      "          head=22,\n",
      "          deprel='det'),\n",
      "     Word(id=22,\n",
      "          form='AFLW',\n",
      "          lemma='AFLW',\n",
      "          xpostag='NNP',\n",
      "          upostag='PROPN',\n",
      "          feats='Number=Sing',\n",
      "          head=25,\n",
      "          deprel='nmod:poss',\n",
      "          misc='SpaceAfter=No'),\n",
      "     Word(id=23,\n",
      "          form=\"'s\",\n",
      "          lemma=\"'s\",\n",
      "          xpostag='POS',\n",
      "          upostag='PART',\n",
      "          head=22,\n",
      "          deprel='case'),\n",
      "     Word(id=24,\n",
      "          form='inaugural',\n",
      "          lemma='inaugural',\n",
      "          xpostag='JJ',\n",
      "          upostag='ADJ',\n",
      "          feats='Degree=Pos',\n",
      "          head=25,\n",
      "          deprel='amod'),\n",
      "     Word(id=25,\n",
      "          form='season',\n",
      "          lemma='season',\n",
      "          xpostag='NN',\n",
      "          upostag='NOUN',\n",
      "          feats='Number=Sing',\n",
      "          head=19,\n",
      "          deprel='obl'),\n",
      "     Word(id=26,\n",
      "          form='in',\n",
      "          lemma='in',\n",
      "          xpostag='IN',\n",
      "          upostag='ADP',\n",
      "          head=27,\n",
      "          deprel='case'),\n",
      "     Word(id=27,\n",
      "          form='2017',\n",
      "          lemma='2017',\n",
      "          xpostag='CD',\n",
      "          upostag='NUM',\n",
      "          feats='NumType=Card',\n",
      "          head=19,\n",
      "          deprel='obl',\n",
      "          misc='SpaceAfter=No'),\n",
      "     Word(id=28,\n",
      "          form='.',\n",
      "          lemma='.',\n",
      "          xpostag='.',\n",
      "          upostag='PUNCT',\n",
      "          head=15,\n",
      "          deprel='punct',\n",
      "          misc='SpaceAfter=No')])]\n"
     ]
    }
   ],
   "source": [
    "from corpy.udpipe import pprint\n",
    "\n",
    "pprint(sents)"
   ]
  },
  {
   "cell_type": "code",
   "execution_count": null,
   "id": "138df311-2bab-4324-8f59-44b836a43216",
   "metadata": {},
   "outputs": [],
   "source": []
  }
 ],
 "metadata": {
  "kernelspec": {
   "display_name": "Python 3 (ipykernel)",
   "language": "python",
   "name": "python3"
  },
  "language_info": {
   "codemirror_mode": {
    "name": "ipython",
    "version": 3
   },
   "file_extension": ".py",
   "mimetype": "text/x-python",
   "name": "python",
   "nbconvert_exporter": "python",
   "pygments_lexer": "ipython3",
   "version": "3.8.10"
  }
 },
 "nbformat": 4,
 "nbformat_minor": 5
}
