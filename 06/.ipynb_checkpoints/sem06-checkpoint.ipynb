{
 "cells": [
  {
   "cell_type": "markdown",
   "id": "dbfd5c64-6e2f-4a28-bb71-7e14e400163c",
   "metadata": {},
   "source": [
    "Что нужно установить для семинара:\n",
    "\n",
    "    pip install spacy\n",
    "    pip install spacy_udpipe\n",
    "    pip install nltk\n",
    "    pip install corpy\n",
    "    \n",
    "Второе и четвертое могут у вас не установиться без этого: [C++ Build Tools](https://www.microsoft.com/ru-ru/download/details.aspx?id=48159). Почему? Потому что внутри себя udpipe написан в С++, и когда вы устанавливаете эту библиотеку, ваш компьютер должен ее скомпилировать (потому что С++ - компилируемый ЯП и программы, написанные на нем, умеют запускаться сами по себе, в отличие от скриптов питона, которым нужен питон). Для компиляции и нужны эти самые инструменты. "
   ]
  },
  {
   "cell_type": "markdown",
   "id": "4126ab61-285b-47e9-8304-90ffba672656",
   "metadata": {},
   "source": [
    "Полезные ссылки:\n",
    "\n",
    "[Модели UDpipe](https://lindat.mff.cuni.cz/repository/xmlui/handle/11234/1-3131)\n",
    "\n",
    "[Модели spacy](https://spacy.io/usage/models)"
   ]
  },
  {
   "cell_type": "markdown",
   "id": "abecf4ef-d8e1-4280-ac2f-b219d874ee5a",
   "metadata": {},
   "source": [
    "#### Задача 1.\n",
    "\n",
    "Выберите любой понравившийся художественный текст (в текстовом файле! Вставлять текст в код нельзя). Превратите его в объект Text() nltk. Попробуйте поискать вхождения какого-нибудь слова. "
   ]
  },
  {
   "cell_type": "code",
   "execution_count": null,
   "id": "c64ed6b4-75a9-4d2d-b103-34bd5cd0bcaf",
   "metadata": {},
   "outputs": [],
   "source": [
    "# your code here"
   ]
  },
  {
   "cell_type": "markdown",
   "id": "2d7666e9-40d7-461c-bd69-60500df5e1cf",
   "metadata": {},
   "source": [
    "#### Задача 2.\n",
    "\n",
    "Выведите 5 самых частотных 4-грамов в этом тексте."
   ]
  },
  {
   "cell_type": "code",
   "execution_count": null,
   "id": "5c8641df-cccc-47fb-9c26-e929ae762bbc",
   "metadata": {},
   "outputs": [],
   "source": [
    "# your code here"
   ]
  },
  {
   "cell_type": "markdown",
   "id": "321037b2-cc31-4dd1-b13e-9b4796702b79",
   "metadata": {},
   "source": [
    "#### Задача 3. \n",
    "\n",
    "Выберите какое-нибудь довольно сложное предложение на английском языке и токенизируйте его с помощью nltk и с помощью spacy. Какой вариант вам больше нравится?"
   ]
  },
  {
   "cell_type": "code",
   "execution_count": null,
   "id": "06ca2a3b-e72b-4903-84d8-890e760d940d",
   "metadata": {},
   "outputs": [],
   "source": [
    "# your code here"
   ]
  },
  {
   "cell_type": "markdown",
   "id": "0f80fdb2-1a72-4a91-8c7d-0bb0c21172f6",
   "metadata": {},
   "source": [
    "#### Задача 4. \n",
    "\n",
    "Установите модель spacy для выбранного вами языка. Возьмите маленький текст на этом языке и сделайте его морфоразбор по частям речи. Как вам этот морфоразбор?"
   ]
  },
  {
   "cell_type": "code",
   "execution_count": null,
   "id": "a7445ca8-e391-4307-9fd6-44c8405e6002",
   "metadata": {},
   "outputs": [],
   "source": [
    "# your code here"
   ]
  },
  {
   "cell_type": "markdown",
   "id": "263feac5-a353-40b2-9e3d-2b424f3eb75d",
   "metadata": {},
   "source": [
    "#### Задача 5. \n",
    "\n",
    "Лемматизируйте текст на любом выбранном языке с помощью spacy_udpipe или corpy. Посчитайте частотность лемм и выведите топ-5 самых частотных слов для текста. "
   ]
  },
  {
   "cell_type": "code",
   "execution_count": null,
   "id": "48cd9a2b-5b58-4855-a661-d06754e35bbd",
   "metadata": {},
   "outputs": [],
   "source": [
    "# your code here"
   ]
  }
 ],
 "metadata": {
  "kernelspec": {
   "display_name": "Python 3 (ipykernel)",
   "language": "python",
   "name": "python3"
  },
  "language_info": {
   "codemirror_mode": {
    "name": "ipython",
    "version": 3
   },
   "file_extension": ".py",
   "mimetype": "text/x-python",
   "name": "python",
   "nbconvert_exporter": "python",
   "pygments_lexer": "ipython3",
   "version": "3.8.10"
  }
 },
 "nbformat": 4,
 "nbformat_minor": 5
}
