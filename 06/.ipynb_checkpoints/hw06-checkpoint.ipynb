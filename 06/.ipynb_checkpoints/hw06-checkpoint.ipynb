{
 "cells": [
  {
   "cell_type": "markdown",
   "id": "5247ccb1-1bfe-4d7f-b8c3-cc59ea0e9d87",
   "metadata": {},
   "source": [
    "#### Задача 1 (она же единственная, 2 балла).\n",
    "\n",
    "1. Возьмите текст на любом языке, для которого есть модель corpy. Текст **обязательно** должен быть в файле. \n",
    "2. Обработайте его с помощью corpy и получите все необходимые для conllu категории для каждого токена. \n",
    "3. Запишите результат в формате .conllu. Не забудьте, что там в некоторых местах нижние подчеркивания. Число колонок в conllu должно быть строго определено. \n",
    "4. Отрисуйте любым понравившимся инструментом дерево зависимостей для одного предложения из этого текста. \n",
    "\n",
    "Я ожидаю, что вы мне пришлете код, файл .conllu и картинку. "
   ]
  },
  {
   "cell_type": "code",
   "execution_count": null,
   "id": "45140d71-58f0-4480-9d88-e6fdbf4415a8",
   "metadata": {},
   "outputs": [],
   "source": [
    "# your code here"
   ]
  }
 ],
 "metadata": {
  "kernelspec": {
   "display_name": "Python 3 (ipykernel)",
   "language": "python",
   "name": "python3"
  },
  "language_info": {
   "codemirror_mode": {
    "name": "ipython",
    "version": 3
   },
   "file_extension": ".py",
   "mimetype": "text/x-python",
   "name": "python",
   "nbconvert_exporter": "python",
   "pygments_lexer": "ipython3",
   "version": "3.8.10"
  }
 },
 "nbformat": 4,
 "nbformat_minor": 5
}
