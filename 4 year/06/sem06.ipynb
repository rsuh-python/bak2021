{
 "cells": [
  {
   "cell_type": "code",
   "execution_count": 82,
   "id": "d7fe22b5-9578-4696-9522-ac8b2d336a97",
   "metadata": {},
   "outputs": [],
   "source": [
    "import pandas as pd\n",
    "import numpy as np\n",
    "import re"
   ]
  },
  {
   "cell_type": "markdown",
   "id": "2b4097a2-772a-4399-8abd-f7bcba9e3a01",
   "metadata": {},
   "source": [
    "#### Задача 1. \n",
    "\n",
    "Откройте датасет \"Covid Live\", посмотрите первые пять его строчек. Переименуйте названия колонок таким образом, чтобы было:\n",
    "\n",
    "    Country,\\nOther => Country_Other\n",
    "    Total\\nCases => Total_Cases\n",
    "    Deaths/\\n1M pop => Deaths_1M pop\n",
    "    \n",
    "(Для последней задачи понадобится написать простенькую регулярку)."
   ]
  },
  {
   "cell_type": "code",
   "execution_count": null,
   "id": "a8dd0d36-96cc-49c8-b524-be13eea1cc04",
   "metadata": {},
   "outputs": [],
   "source": [
    "# your code here"
   ]
  },
  {
   "cell_type": "code",
   "execution_count": 59,
   "id": "de32cf70-3e33-4ea7-8c4e-00478c4c92c3",
   "metadata": {},
   "outputs": [
    {
     "data": {
      "text/html": [
       "<div>\n",
       "<style scoped>\n",
       "    .dataframe tbody tr th:only-of-type {\n",
       "        vertical-align: middle;\n",
       "    }\n",
       "\n",
       "    .dataframe tbody tr th {\n",
       "        vertical-align: top;\n",
       "    }\n",
       "\n",
       "    .dataframe thead th {\n",
       "        text-align: right;\n",
       "    }\n",
       "</style>\n",
       "<table border=\"1\" class=\"dataframe\">\n",
       "  <thead>\n",
       "    <tr style=\"text-align: right;\">\n",
       "      <th></th>\n",
       "      <th>#</th>\n",
       "      <th>Country,\\nOther</th>\n",
       "      <th>Total\\nCases</th>\n",
       "      <th>Total\\nDeaths</th>\n",
       "      <th>New\\nDeaths</th>\n",
       "      <th>Total\\nRecovered</th>\n",
       "      <th>Active\\nCases</th>\n",
       "      <th>Serious,\\nCritical</th>\n",
       "      <th>Tot Cases/\\n1M pop</th>\n",
       "      <th>Deaths/\\n1M pop</th>\n",
       "      <th>Total\\nTests</th>\n",
       "      <th>Tests/\\n1M pop</th>\n",
       "      <th>Population</th>\n",
       "    </tr>\n",
       "  </thead>\n",
       "  <tbody>\n",
       "    <tr>\n",
       "      <th>0</th>\n",
       "      <td>1</td>\n",
       "      <td>USA</td>\n",
       "      <td>98,166,904</td>\n",
       "      <td>1,084,282</td>\n",
       "      <td>NaN</td>\n",
       "      <td>94,962,112</td>\n",
       "      <td>2,120,510</td>\n",
       "      <td>2,970</td>\n",
       "      <td>293,206</td>\n",
       "      <td>3,239</td>\n",
       "      <td>1,118,158,870</td>\n",
       "      <td>3,339,729</td>\n",
       "      <td>334,805,269</td>\n",
       "    </tr>\n",
       "    <tr>\n",
       "      <th>1</th>\n",
       "      <td>2</td>\n",
       "      <td>India</td>\n",
       "      <td>44,587,307</td>\n",
       "      <td>528,629</td>\n",
       "      <td>NaN</td>\n",
       "      <td>44,019,095</td>\n",
       "      <td>39,583</td>\n",
       "      <td>698</td>\n",
       "      <td>31,698</td>\n",
       "      <td>376</td>\n",
       "      <td>894,416,853</td>\n",
       "      <td>635,857</td>\n",
       "      <td>1,406,631,776</td>\n",
       "    </tr>\n",
       "    <tr>\n",
       "      <th>2</th>\n",
       "      <td>3</td>\n",
       "      <td>France</td>\n",
       "      <td>35,342,950</td>\n",
       "      <td>155,078</td>\n",
       "      <td>NaN</td>\n",
       "      <td>34,527,115</td>\n",
       "      <td>660,757</td>\n",
       "      <td>869</td>\n",
       "      <td>538,892</td>\n",
       "      <td>2,365</td>\n",
       "      <td>271,490,188</td>\n",
       "      <td>4,139,547</td>\n",
       "      <td>65,584,518</td>\n",
       "    </tr>\n",
       "    <tr>\n",
       "      <th>3</th>\n",
       "      <td>4</td>\n",
       "      <td>Brazil</td>\n",
       "      <td>34,706,757</td>\n",
       "      <td>686,027</td>\n",
       "      <td>NaN</td>\n",
       "      <td>33,838,636</td>\n",
       "      <td>182,094</td>\n",
       "      <td>8,318</td>\n",
       "      <td>161,162</td>\n",
       "      <td>3,186</td>\n",
       "      <td>63,776,166</td>\n",
       "      <td>296,146</td>\n",
       "      <td>215,353,593</td>\n",
       "    </tr>\n",
       "    <tr>\n",
       "      <th>4</th>\n",
       "      <td>5</td>\n",
       "      <td>Germany</td>\n",
       "      <td>33,312,373</td>\n",
       "      <td>149,948</td>\n",
       "      <td>NaN</td>\n",
       "      <td>32,315,200</td>\n",
       "      <td>847,225</td>\n",
       "      <td>1,406</td>\n",
       "      <td>397,126</td>\n",
       "      <td>1,788</td>\n",
       "      <td>122,332,384</td>\n",
       "      <td>1,458,359</td>\n",
       "      <td>83,883,596</td>\n",
       "    </tr>\n",
       "  </tbody>\n",
       "</table>\n",
       "</div>"
      ],
      "text/plain": [
       "   # Country,\\nOther Total\\nCases Total\\nDeaths  New\\nDeaths Total\\nRecovered  \\\n",
       "0  1             USA   98,166,904     1,084,282          NaN       94,962,112   \n",
       "1  2           India   44,587,307       528,629          NaN       44,019,095   \n",
       "2  3          France   35,342,950       155,078          NaN       34,527,115   \n",
       "3  4          Brazil   34,706,757       686,027          NaN       33,838,636   \n",
       "4  5         Germany   33,312,373       149,948          NaN       32,315,200   \n",
       "\n",
       "  Active\\nCases Serious,\\nCritical Tot Cases/\\n1M pop Deaths/\\n1M pop  \\\n",
       "0     2,120,510              2,970            293,206           3,239   \n",
       "1        39,583                698             31,698             376   \n",
       "2       660,757                869            538,892           2,365   \n",
       "3       182,094              8,318            161,162           3,186   \n",
       "4       847,225              1,406            397,126           1,788   \n",
       "\n",
       "    Total\\nTests Tests/\\n1M pop     Population  \n",
       "0  1,118,158,870      3,339,729    334,805,269  \n",
       "1    894,416,853        635,857  1,406,631,776  \n",
       "2    271,490,188      4,139,547     65,584,518  \n",
       "3     63,776,166        296,146    215,353,593  \n",
       "4    122,332,384      1,458,359     83,883,596  "
      ]
     },
     "execution_count": 59,
     "metadata": {},
     "output_type": "execute_result"
    }
   ],
   "source": [
    "data = pd.read_csv('Covid Live.csv')\n",
    "data.head()"
   ]
  },
  {
   "cell_type": "code",
   "execution_count": 60,
   "id": "627d9fa4-7de1-4cbf-ae46-cce63104d78e",
   "metadata": {},
   "outputs": [],
   "source": [
    "data = data.rename(lambda x: re.sub('/?,?\\n', '_', x), axis='columns')"
   ]
  },
  {
   "cell_type": "code",
   "execution_count": 61,
   "id": "fa590099-c2d5-41ba-94e7-72db48af66d4",
   "metadata": {},
   "outputs": [],
   "source": [
    "data.drop(['#', 'New_Deaths', 'Serious_Critical', 'Tot Cases_1M pop', 'Deaths_1M pop', 'Tests_1M pop'], axis=1, inplace=True)\n",
    "data.dropna(inplace=True)"
   ]
  },
  {
   "cell_type": "code",
   "execution_count": 64,
   "id": "614b6bfb-f9a0-4633-bdde-dc1dbe6b3889",
   "metadata": {},
   "outputs": [
    {
     "data": {
      "text/html": [
       "<div>\n",
       "<style scoped>\n",
       "    .dataframe tbody tr th:only-of-type {\n",
       "        vertical-align: middle;\n",
       "    }\n",
       "\n",
       "    .dataframe tbody tr th {\n",
       "        vertical-align: top;\n",
       "    }\n",
       "\n",
       "    .dataframe thead th {\n",
       "        text-align: right;\n",
       "    }\n",
       "</style>\n",
       "<table border=\"1\" class=\"dataframe\">\n",
       "  <thead>\n",
       "    <tr style=\"text-align: right;\">\n",
       "      <th></th>\n",
       "      <th>Country_Other</th>\n",
       "      <th>Total_Cases</th>\n",
       "      <th>Total_Deaths</th>\n",
       "      <th>Total_Recovered</th>\n",
       "      <th>Active_Cases</th>\n",
       "      <th>Total_Tests</th>\n",
       "      <th>Population</th>\n",
       "    </tr>\n",
       "  </thead>\n",
       "  <tbody>\n",
       "    <tr>\n",
       "      <th>0</th>\n",
       "      <td>USA</td>\n",
       "      <td>98166904</td>\n",
       "      <td>1084282</td>\n",
       "      <td>94962112</td>\n",
       "      <td>2120510</td>\n",
       "      <td>1118158870</td>\n",
       "      <td>334805269</td>\n",
       "    </tr>\n",
       "    <tr>\n",
       "      <th>1</th>\n",
       "      <td>India</td>\n",
       "      <td>44587307</td>\n",
       "      <td>528629</td>\n",
       "      <td>44019095</td>\n",
       "      <td>39583</td>\n",
       "      <td>894416853</td>\n",
       "      <td>1406631776</td>\n",
       "    </tr>\n",
       "    <tr>\n",
       "      <th>2</th>\n",
       "      <td>France</td>\n",
       "      <td>35342950</td>\n",
       "      <td>155078</td>\n",
       "      <td>34527115</td>\n",
       "      <td>660757</td>\n",
       "      <td>271490188</td>\n",
       "      <td>65584518</td>\n",
       "    </tr>\n",
       "    <tr>\n",
       "      <th>3</th>\n",
       "      <td>Brazil</td>\n",
       "      <td>34706757</td>\n",
       "      <td>686027</td>\n",
       "      <td>33838636</td>\n",
       "      <td>182094</td>\n",
       "      <td>63776166</td>\n",
       "      <td>215353593</td>\n",
       "    </tr>\n",
       "    <tr>\n",
       "      <th>4</th>\n",
       "      <td>Germany</td>\n",
       "      <td>33312373</td>\n",
       "      <td>149948</td>\n",
       "      <td>32315200</td>\n",
       "      <td>847225</td>\n",
       "      <td>122332384</td>\n",
       "      <td>83883596</td>\n",
       "    </tr>\n",
       "  </tbody>\n",
       "</table>\n",
       "</div>"
      ],
      "text/plain": [
       "  Country_Other  Total_Cases  Total_Deaths  Total_Recovered  Active_Cases  \\\n",
       "0           USA     98166904       1084282         94962112       2120510   \n",
       "1         India     44587307        528629         44019095         39583   \n",
       "2        France     35342950        155078         34527115        660757   \n",
       "3        Brazil     34706757        686027         33838636        182094   \n",
       "4       Germany     33312373        149948         32315200        847225   \n",
       "\n",
       "   Total_Tests  Population  \n",
       "0   1118158870   334805269  \n",
       "1    894416853  1406631776  \n",
       "2    271490188    65584518  \n",
       "3     63776166   215353593  \n",
       "4    122332384    83883596  "
      ]
     },
     "execution_count": 64,
     "metadata": {},
     "output_type": "execute_result"
    }
   ],
   "source": [
    "data.head()"
   ]
  },
  {
   "cell_type": "markdown",
   "id": "ebb0bef6-c076-4700-bb49-fa524e3f85b6",
   "metadata": {},
   "source": [
    "Выведите информацию по датасету. Попробуйте понять, что там за данные хранятся. "
   ]
  },
  {
   "cell_type": "code",
   "execution_count": 63,
   "id": "a1409acc-9460-4c80-a39e-666c03f37bb8",
   "metadata": {},
   "outputs": [],
   "source": [
    "for column in ['Total_Cases', 'Total_Deaths', 'Total_Recovered', 'Active_Cases', 'Total_Tests', 'Population']:\n",
    "    data[column] = data[column].apply(lambda x: int(x.replace(',', '')))"
   ]
  },
  {
   "cell_type": "code",
   "execution_count": null,
   "id": "8617b2e8-de19-472e-b535-5bfe729404e1",
   "metadata": {},
   "outputs": [],
   "source": [
    "# your code here"
   ]
  },
  {
   "cell_type": "markdown",
   "id": "a5b5a752-dbc1-4770-a155-c288591be7f3",
   "metadata": {},
   "source": [
    "#### Задача 2. \n",
    "\n",
    "Давайте наш датасет почистим: нам, скорее всего, понадобятся не все колонки, + хотелось бы избавиться от пропущенных значений NaN. Посмотрите, сколько в итоге останется строк в таблице. Обратите внимание на тип данных: не нужно ли нам его поменять?"
   ]
  },
  {
   "cell_type": "code",
   "execution_count": 65,
   "id": "fadf5773-8c64-48c1-ba3b-4514dd636f7c",
   "metadata": {},
   "outputs": [
    {
     "data": {
      "text/plain": [
       "200"
      ]
     },
     "execution_count": 65,
     "metadata": {},
     "output_type": "execute_result"
    }
   ],
   "source": [
    "len(data)"
   ]
  },
  {
   "cell_type": "code",
   "execution_count": null,
   "id": "04b068d5-8419-4775-acd6-aa79effce5fa",
   "metadata": {},
   "outputs": [],
   "source": [
    "# your code here"
   ]
  },
  {
   "cell_type": "markdown",
   "id": "58f74fed-7748-49b8-84a5-19fb6e59c790",
   "metadata": {},
   "source": [
    "#### Задача 3. \n",
    "\n",
    "Давайте сменим тип данных на правильный. Заметьте, это не так просто: в наших данных что-то будет вам мешать. "
   ]
  },
  {
   "cell_type": "code",
   "execution_count": null,
   "id": "c11e5c67-25e5-40db-b95c-bd76b1da3909",
   "metadata": {},
   "outputs": [],
   "source": [
    "# your code here"
   ]
  },
  {
   "cell_type": "markdown",
   "id": "eb08a063-5d88-4343-b490-ec4ef14c53bd",
   "metadata": {},
   "source": [
    "#### Задача 4. \n",
    "\n",
    "Посчитайте, сколько, по этим данным, всего умерло людей от ковида. А сколько выздоровело?"
   ]
  },
  {
   "cell_type": "code",
   "execution_count": null,
   "id": "007ef833-bcbd-49bc-9ec7-86637a2544bc",
   "metadata": {},
   "outputs": [],
   "source": [
    "# your code here"
   ]
  },
  {
   "cell_type": "markdown",
   "id": "18f23215-2df0-40f3-b770-7d1d2dd2600a",
   "metadata": {},
   "source": [
    "#### Задача 5. \n",
    "\n",
    "Добавим новую колонку к нашей таблице: 'death_to_recovered', а в ней посчитаем соотношение смертей к выздоровевшим. Страна с наименьшим таким значением - удачливее всех :). Попробуем отсортировать табличку по этим значениям (используйте метод DataFrame.sort_values(column)). "
   ]
  },
  {
   "cell_type": "code",
   "execution_count": null,
   "id": "a037852d-5cb8-4dd2-8cf7-eb43bfe67d60",
   "metadata": {},
   "outputs": [],
   "source": [
    "# your code here"
   ]
  },
  {
   "cell_type": "markdown",
   "id": "8f8977c8-c0e1-48d2-9e59-73bf082d2318",
   "metadata": {},
   "source": [
    "#### Задача 6. \n",
    "\n",
    "Откроем новый датасет: в нем собрана информация про мобильные телефоны, их характеристики и ценовой диапазон. Посмотрите, какие там есть колонки, прикиньте, что они могут означать. Проверьте, есть ли в этом датасете пропущенные значения. "
   ]
  },
  {
   "cell_type": "code",
   "execution_count": null,
   "id": "40244f41-feb1-4a1e-a942-50063d950d9b",
   "metadata": {},
   "outputs": [],
   "source": [
    "# your code here"
   ]
  },
  {
   "cell_type": "markdown",
   "id": "b9bcee36-1848-49b4-b63c-a5ecfbaebd3f",
   "metadata": {},
   "source": [
    "#### Задача 7. \n",
    "\n",
    "Сгруппируйте таблицу по колонке \"диапазон цены\", посчитайте средние значения остальных колонок: удостоверимся, что параметры действительно зависят от цены. "
   ]
  },
  {
   "cell_type": "code",
   "execution_count": null,
   "id": "89159dd3-f9d8-4664-9a39-70eb4c2694fe",
   "metadata": {},
   "outputs": [],
   "source": [
    "# your code here"
   ]
  },
  {
   "cell_type": "markdown",
   "id": "77670985-ff0a-4201-beb3-aabb9061e54d",
   "metadata": {},
   "source": [
    "Бонус: давайте на графике посмотрим, как взаимодействуют друг с другом телефонные параметры. Попробуйте проанализировать график и понять, что на нем изображено. "
   ]
  },
  {
   "cell_type": "code",
   "execution_count": null,
   "id": "3aa86849-0001-4eb5-8499-29c10e63ec64",
   "metadata": {},
   "outputs": [],
   "source": [
    "import seaborn as sns\n",
    "import matplotlib.pyplot as plt\n",
    "\n",
    "plt.figure(figsize=(20, 12))\n",
    "\n",
    "corr = data.corr()\n",
    "sns.heatmap(corr, \n",
    "            annot=True, linewidths=.5, fmt='.2f',\n",
    "            xticklabels=corr.columns.values,\n",
    "            yticklabels=corr.columns.values,\n",
    "            cmap=sns.diverging_palette(100, 200, as_cmap=True), square=True)\n",
    "plt.show()"
   ]
  }
 ],
 "metadata": {
  "kernelspec": {
   "display_name": "Python 3 (ipykernel)",
   "language": "python",
   "name": "python3"
  },
  "language_info": {
   "codemirror_mode": {
    "name": "ipython",
    "version": 3
   },
   "file_extension": ".py",
   "mimetype": "text/x-python",
   "name": "python",
   "nbconvert_exporter": "python",
   "pygments_lexer": "ipython3",
   "version": "3.9.12"
  }
 },
 "nbformat": 4,
 "nbformat_minor": 5
}
