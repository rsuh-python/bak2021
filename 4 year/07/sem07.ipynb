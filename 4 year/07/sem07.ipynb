{
 "cells": [
  {
   "cell_type": "markdown",
   "id": "c9cc4844-fb19-4a12-a5c7-2672e353ed6f",
   "metadata": {},
   "source": [
    "## Задание 1.\n",
    "\n",
    "Посмотрим, как устроена жизнь в scikit-learn и как вообще обучать линейную регрессию. Сперва нужно загрузить данные с помощью pandas. "
   ]
  },
  {
   "cell_type": "code",
   "execution_count": null,
   "id": "76c5b43d-c379-449a-aae2-1cb967bfc0f5",
   "metadata": {},
   "outputs": [],
   "source": [
    "import pandas as pd"
   ]
  },
  {
   "cell_type": "code",
   "execution_count": null,
   "id": "a51b629b-781b-49bf-9244-46ab81bcc1f5",
   "metadata": {},
   "outputs": [],
   "source": [
    "df = # your code here"
   ]
  },
  {
   "cell_type": "code",
   "execution_count": null,
   "id": "8322245b-4863-4f25-bd94-69ef0e7d2a43",
   "metadata": {},
   "outputs": [],
   "source": [
    "df.head()"
   ]
  },
  {
   "cell_type": "markdown",
   "id": "6fdc2300-3dec-47d0-9149-77acbe02f231",
   "metadata": {},
   "source": [
    "Теперь нужно разделить нашу выборку на две части: обучающую и тестовую. "
   ]
  },
  {
   "cell_type": "code",
   "execution_count": null,
   "id": "2b535262-01fa-4ab4-bf0e-22839933a075",
   "metadata": {},
   "outputs": [],
   "source": [
    "from sklearn.model_selection import train_test_split\n",
    "\n",
    "Xtrain, Xtest, ytrain, ytest = train_test_split(df['Height'], df['Weight'],test_size=0.2)"
   ]
  },
  {
   "cell_type": "markdown",
   "id": "08f5f468-8bd5-4e5d-9a48-d83fb8293f83",
   "metadata": {},
   "source": [
    "А теперь собственно процесс обучения и проверки качества получившегося алгоритма"
   ]
  },
  {
   "cell_type": "code",
   "execution_count": null,
   "id": "a67816be-15ca-4992-9755-59fca9153429",
   "metadata": {},
   "outputs": [],
   "source": [
    "from sklearn.linear_model import LinearRegression\n",
    "from sklearn.metrics import mean_squared_error\n",
    "\n",
    "Xtrain2 = Xtrain.values.reshape(-1, 1) # это нужно делать только потому, что у нас признак всего лишь один. Обычно не надо\n",
    "Xtest2 = Xtest.values.reshape(-1, 1)\n",
    "\n",
    "lr = LinearRegression()\n",
    "lr.fit(Xtrain2, ytrain)\n",
    "\n",
    "pred_train = lr.predict(Xtrain2)\n",
    "pred_test = lr.predict(Xtest2)\n",
    "\n",
    "print(mean_squared_error(pred_train, ytrain) ** 0.5, mean_squared_error(pred_test, ytest) ** 0.5)"
   ]
  },
  {
   "cell_type": "markdown",
   "id": "bc9eb8b0-9530-478e-aaae-06330abc9189",
   "metadata": {},
   "source": [
    "Метрик для оценки качества есть много, давайте попробуем какую-нибудь более наглядную. Кстати, какие вообще у нас есть:"
   ]
  },
  {
   "cell_type": "code",
   "execution_count": null,
   "id": "e9ef9247-a030-4a23-abec-28638b050ae9",
   "metadata": {},
   "outputs": [],
   "source": [
    "from sklearn import metrics\n",
    "\n",
    "sorted(metrics.SCORERS.keys())"
   ]
  },
  {
   "cell_type": "code",
   "execution_count": null,
   "id": "66ad391c-4a6b-4369-9555-76df33fd2167",
   "metadata": {},
   "outputs": [],
   "source": [
    "from sklearn.metrics import r2_score\n",
    "\n",
    "print(r2_score(pred_train, ytrain), r2_score(pred_test, ytest))"
   ]
  },
  {
   "cell_type": "markdown",
   "id": "ce969320-725a-4200-8764-5d0d928c6772",
   "metadata": {},
   "source": [
    "## Задание 2. \n",
    "\n",
    "А теперь немного поучимся работать с признаками и анализировать данные. "
   ]
  },
  {
   "cell_type": "code",
   "execution_count": null,
   "id": "0b0acf5d-fdcc-41bb-be69-252f697884bf",
   "metadata": {},
   "outputs": [],
   "source": [
    "data = pd.read_csv('insurance.csv')\n",
    "data.head()"
   ]
  },
  {
   "cell_type": "code",
   "execution_count": null,
   "id": "263475e7-c93d-4f0b-8a72-80ce15bb0109",
   "metadata": {},
   "outputs": [],
   "source": [
    "# посмотрите информацию по датасету: какие у него есть колонки и каких типов данные?"
   ]
  },
  {
   "cell_type": "code",
   "execution_count": null,
   "id": "ea476044-3b6c-4512-9a63-4893001fd9b5",
   "metadata": {},
   "outputs": [],
   "source": [
    "'''С бинарными признаками можем поступить просто: заменить yes на 1, no на 0 и с полом так же. Сделайте это'''\n",
    "\n",
    "# one hot encoding с помощью pandas\n",
    "data = pd.get_dummies(data, columns=['region'], drop_first=True)\n",
    "data.head()"
   ]
  },
  {
   "cell_type": "markdown",
   "id": "9952514e-d1cc-45d1-8cfa-0a9d712a6196",
   "metadata": {},
   "source": [
    "Разделим датасет на признаки и целевую переменную. "
   ]
  },
  {
   "cell_type": "code",
   "execution_count": null,
   "id": "bfb78e29-7614-417e-a359-a50a42bedc7a",
   "metadata": {},
   "outputs": [],
   "source": [
    "Y = data['charges']\n",
    "X = data.drop('charges', axis=1)"
   ]
  },
  {
   "cell_type": "code",
   "execution_count": null,
   "id": "a8e36e4a-2622-480e-9ab2-f0f228e85e80",
   "metadata": {},
   "outputs": [],
   "source": [
    "# а теперь разделите выборку на train & test."
   ]
  },
  {
   "cell_type": "code",
   "execution_count": null,
   "id": "e2159658-1ab5-4cca-b256-ac95ad0bbd3d",
   "metadata": {},
   "outputs": [],
   "source": [
    "# попробуйте самостоятельно обучить линейную регрессию и измерить метрику r2. "
   ]
  },
  {
   "cell_type": "markdown",
   "id": "4dd85524-ac31-4919-a4f0-168ecf76c08d",
   "metadata": {},
   "source": [
    "Посмотрим корреляцию между нашими признаками. Те из них, у которых значение в табличке близко к 0, не коррелируют друг с другом. Те, у которых значение в табличке близко к 1 или -1, сильно коррелируют. Попробуйте объяснить, почему в правом нижнем углу таблички такая картина. "
   ]
  },
  {
   "cell_type": "code",
   "execution_count": null,
   "id": "e64de397-77a9-4a22-8207-35f9003d3724",
   "metadata": {},
   "outputs": [],
   "source": [
    "import seaborn as sns\n",
    "import matplotlib.pyplot as plt\n",
    "import numpy as np\n",
    "\n",
    "plt.figure(figsize=(12,9))\n",
    "\n",
    "corr = data.corr()\n",
    "\n",
    "sns.heatmap(corr,annot=True, linewidths=.5, fmt= '.2f',\\\n",
    "            mask=np.zeros_like(corr, dtype=bool), \\\n",
    "            cmap=sns.diverging_palette(100, 200, as_cmap=True), square=True)"
   ]
  },
  {
   "cell_type": "markdown",
   "id": "125d410a-d397-458f-9337-a140fdfb1703",
   "metadata": {},
   "source": [
    "Попробуйте следующее:\n",
    "\n",
    "1. Удалять колонки с различными признаками, которые меньше других коррелируют с целевой переменной charges. Как будет меняться r2?\n",
    "2. Завести дополнительную колонку smoker_square, в которой будут содержаться значения колонки smoker \\*\\* 2. \n",
    "\n",
    "Подумайте, почему качество меняется так, как оно меняется: почему растет или падает?"
   ]
  },
  {
   "cell_type": "code",
   "execution_count": null,
   "id": "17a955e7-edec-43a7-858c-ef25c37984dc",
   "metadata": {},
   "outputs": [],
   "source": [
    "# your code here"
   ]
  }
 ],
 "metadata": {
  "kernelspec": {
   "display_name": "mlearn",
   "language": "python",
   "name": "mlearn"
  },
  "language_info": {
   "codemirror_mode": {
    "name": "ipython",
    "version": 3
   },
   "file_extension": ".py",
   "mimetype": "text/x-python",
   "name": "python",
   "nbconvert_exporter": "python",
   "pygments_lexer": "ipython3",
   "version": "3.9.12"
  }
 },
 "nbformat": 4,
 "nbformat_minor": 5
}
