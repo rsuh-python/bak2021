{
 "cells": [
  {
   "cell_type": "markdown",
   "id": "82256ffa-1e7e-44e6-b567-463344eed012",
   "metadata": {},
   "source": [
    "### Задачки на повторение"
   ]
  },
  {
   "cell_type": "markdown",
   "id": "0bac7e2b-b212-487d-9c38-5589668ff389",
   "metadata": {},
   "source": [
    "#### Задача 1. \n",
    "\n",
    "\"Нарциссическое\" число - это такое число, сумма цифр которого, возведенных в ту степень, сколько в нем этих цифр, равна самому числу. Например, чтобы понятно было:\n",
    "\n",
    "7 = 7 \\*\\* 1 \n",
    "\n",
    "153 = 1 \\*\\* 3 + 5 \\*\\* 3 + 3 \\*\\* 3\n",
    "\n",
    "Напишите функцию, которая будет принимать любое целое число и проверять, является ли оно нарциссическим или нет. "
   ]
  },
  {
   "cell_type": "code",
   "execution_count": null,
   "id": "fb23200a-f8fe-4442-b14e-92c5cbe46474",
   "metadata": {},
   "outputs": [],
   "source": [
    "# your code here"
   ]
  },
  {
   "cell_type": "markdown",
   "id": "fdb14816-7f70-4a21-8eeb-6d6a1619493f",
   "metadata": {},
   "source": [
    "#### Задача 2. \n",
    "\n",
    "Напишите функцию scramble: функция принимает на вход две строчки и должна проверить, чтобы из букв первой строки можно было составить вторую строку. Например, если у нас s1 = 'javascript', а s2 = 'java', то функция должна вернуть True. То же самое касательно варианта s1 = 'абырвалг' и s2 = 'главрыба', то есть, 1) вторая строка не обязательно содержит все буквы из первой, но если во второй строке две буквы \"с\", а в первой только одна, то должно быть False 2) буквы могут быть в любом порядке. "
   ]
  },
  {
   "cell_type": "code",
   "execution_count": null,
   "id": "9e3e131e-cd52-435d-b739-cc6b2f494cf6",
   "metadata": {},
   "outputs": [],
   "source": [
    "# your code here"
   ]
  },
  {
   "cell_type": "markdown",
   "id": "6731e368-4702-4b42-953f-293e1b6ac14b",
   "metadata": {},
   "source": [
    "#### Задача 3.\n",
    "\n",
    "Правильные скобки. На вход подается строка, которая содержит только и исключительно скобки трех видов: круглые, квадратные и фигурные. Например, '{[([({})])]}'. Ваша задача - написать функцию, которая бы проверяла правильность последовательности скобок и возвращала True или False. Примеры правильных и неправильных строк:\n",
    "\n",
    "    '[(])' = False\n",
    "    ')[](' = False\n",
    "    '{[()]}' = True"
   ]
  },
  {
   "cell_type": "code",
   "execution_count": null,
   "id": "32c2ad0e-ffbd-4f2b-84fd-4e943f4c3357",
   "metadata": {},
   "outputs": [],
   "source": [
    "# your code here"
   ]
  },
  {
   "cell_type": "markdown",
   "id": "220980c1-7a2f-4241-8984-5c428815155d",
   "metadata": {},
   "source": [
    "#### Задача 4. \n",
    "\n",
    "Постройте деревья зависимостей (любым известным вам способом) для любых трех выбранных вами предложений. Парсер тоже можно использовать любой, какой помните."
   ]
  },
  {
   "cell_type": "code",
   "execution_count": null,
   "id": "b96194f3-5287-452a-95a7-69d6eebeb321",
   "metadata": {},
   "outputs": [],
   "source": [
    "# your code here"
   ]
  },
  {
   "cell_type": "markdown",
   "id": "5568709f-3683-448e-887d-c290cd58bf02",
   "metadata": {},
   "source": [
    "#### Задача 5.\n",
    "\n",
    "Напишите программу, которая считывает содержимое (любого) текстового файла, разбивает его содержимое на слова, приводит их к леммам и составляет частотный словарь. Постройте график для десяти самых частотных слов с помощью библиотеки matplotlib."
   ]
  },
  {
   "cell_type": "code",
   "execution_count": null,
   "id": "6790a752-8626-4841-84fc-9c504a8d047e",
   "metadata": {},
   "outputs": [],
   "source": [
    "# your code here"
   ]
  },
  {
   "cell_type": "markdown",
   "id": "f43542a8-c9bb-4fea-aed8-ead4f9a73487",
   "metadata": {},
   "source": [
    "#### Задача 6. \n",
    "\n",
    "Возьмите любой текст, разберите его морфологически и сохраните результаты с помощью pandas в excel в табличном виде, где в первой колонке будут словоформы, во второй слова, а в третьей их части речи. "
   ]
  },
  {
   "cell_type": "code",
   "execution_count": null,
   "id": "03d02910-6ea2-4ecd-94a4-37c4b97e97f7",
   "metadata": {},
   "outputs": [],
   "source": [
    "# your code here"
   ]
  },
  {
   "cell_type": "markdown",
   "id": "9354403f-76e5-413f-a0d6-bace9fdd7f91",
   "metadata": {},
   "source": [
    "#### Задача 7. \n",
    "\n",
    "Возьмите любой новостной текст и извлеките из него все именованные сущности (напоминаю, это умеет spaCy). "
   ]
  },
  {
   "cell_type": "code",
   "execution_count": null,
   "id": "8af64bc9-8497-46bc-a4b2-3c4c80f0e5a4",
   "metadata": {},
   "outputs": [],
   "source": [
    "# your code here"
   ]
  },
  {
   "cell_type": "markdown",
   "id": "e85cee98-c645-4599-815e-5d4ff2cab337",
   "metadata": {},
   "source": [
    "#### Задача 8.\n",
    "\n",
    "Возьмите любой достаточно большой текст и найдите в нем все редупликации вида \"Х так Х\": \"учиться так учиться\", \"мама так мама\". "
   ]
  },
  {
   "cell_type": "code",
   "execution_count": null,
   "id": "792ec243-6a69-43e7-ae5a-db386a60f9dc",
   "metadata": {},
   "outputs": [],
   "source": [
    "# your code here"
   ]
  }
 ],
 "metadata": {
  "kernelspec": {
   "display_name": "Python 3 (ipykernel)",
   "language": "python",
   "name": "python3"
  },
  "language_info": {
   "codemirror_mode": {
    "name": "ipython",
    "version": 3
   },
   "file_extension": ".py",
   "mimetype": "text/x-python",
   "name": "python",
   "nbconvert_exporter": "python",
   "pygments_lexer": "ipython3",
   "version": "3.9.12"
  }
 },
 "nbformat": 4,
 "nbformat_minor": 5
}
