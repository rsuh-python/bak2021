{
 "cells": [
  {
   "cell_type": "markdown",
   "id": "5d36d3e4-a076-432b-98dc-75e48fd49a57",
   "metadata": {},
   "source": [
    "#### Задача 1. \n",
    "\n",
    "Возьмите пару достаточно сложных (с омонимией, например) предложений на любом языке и сделайте их полный морфосинтаксический разбор с помощью хотя бы двух любых известных вам (и работающих для этого языка) инструментов. Если эти инструменты делают разбор в одном формате (например, UD), выведите автоматически разницу в разборах. "
   ]
  },
  {
   "cell_type": "code",
   "execution_count": null,
   "id": "216dc7ec-c5ed-481b-81b0-8eabd5fa5ce1",
   "metadata": {},
   "outputs": [],
   "source": [
    "# your code here"
   ]
  },
  {
   "cell_type": "markdown",
   "id": "487f21d8-b7f0-4e34-acb3-c309988bc633",
   "metadata": {},
   "source": [
    "#### Задача 2 (если не будет ответа на вопрос - 0 баллов). \n",
    "\n",
    "Возьмите любой текстовый файл на любом языке, произведите автоматический синтаксический разбор и посчитайте статистику: 1. какова средняя длина предложения? 2. какие синтаксические связи (deprel) в тексте самые частотные? Выведите табличку с их процентным соотношением. \n",
    "\n",
    "**Что вы можете сказать об этом тексте, основываясь на статистике?**"
   ]
  },
  {
   "cell_type": "code",
   "execution_count": null,
   "id": "296f9086-4091-4833-92bb-1e106e8e9fc5",
   "metadata": {},
   "outputs": [],
   "source": [
    "# your code here"
   ]
  }
 ],
 "metadata": {
  "kernelspec": {
   "display_name": "Python 3 (ipykernel)",
   "language": "python",
   "name": "python3"
  },
  "language_info": {
   "codemirror_mode": {
    "name": "ipython",
    "version": 3
   },
   "file_extension": ".py",
   "mimetype": "text/x-python",
   "name": "python",
   "nbconvert_exporter": "python",
   "pygments_lexer": "ipython3",
   "version": "3.9.12"
  }
 },
 "nbformat": 4,
 "nbformat_minor": 5
}
