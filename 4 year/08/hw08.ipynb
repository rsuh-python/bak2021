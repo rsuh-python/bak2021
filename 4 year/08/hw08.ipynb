{
 "cells": [
  {
   "cell_type": "markdown",
   "id": "5dbb1a3c-c21e-4a22-847d-b4f5335c3a50",
   "metadata": {
    "id": "b78b7805-4f00-42b0-847c-6c6fc340a930",
    "tags": []
   },
   "source": [
    "### Задание 1.\n",
    "\n",
    "Решите задачу распознавания лиц с помощью логистической регрессии (она также поддерживает опцию class_weight='balanced'):\n",
    "\n",
    "1) Объявите модель, состоящую из pipeline(pca,logistic regression)\n",
    "\n",
    "2) Подберите по сетке параметр C логистической регрессии (с помощью GridSearch)\n",
    "\n",
    "3) Обучите модель на тренировочных данных и выведите наилучшие параметры модели\n",
    "\n",
    "4) KNN\n",
    "\n",
    "5) Naive Bayes\n",
    "\n",
    "Какое качество показала эта модель?"
   ]
  },
  {
   "cell_type": "code",
   "execution_count": null,
   "id": "10e3c1d1-d55b-4fe6-b58b-48fcb87fa5a7",
   "metadata": {
    "id": "0354c1fe-afb2-4415-8fb0-8a71230a3ff7"
   },
   "outputs": [],
   "source": [
    "from sklearn.linear_model import LogisticRegression\n",
    "\n",
    "#your code here\n",
    "\n",
    "lr = ...\n",
    "model = make_pipeline(...)\n",
    "\n",
    "param_grid = ...\n",
    "grid = GridSearchCV(model, param_grid)\n",
    "\n",
    "..."
   ]
  }
 ],
 "metadata": {
  "kernelspec": {
   "display_name": "Python 3 (ipykernel)",
   "language": "python",
   "name": "python3"
  },
  "language_info": {
   "codemirror_mode": {
    "name": "ipython",
    "version": 3
   },
   "file_extension": ".py",
   "mimetype": "text/x-python",
   "name": "python",
   "nbconvert_exporter": "python",
   "pygments_lexer": "ipython3",
   "version": "3.9.12"
  }
 },
 "nbformat": 4,
 "nbformat_minor": 5
}
