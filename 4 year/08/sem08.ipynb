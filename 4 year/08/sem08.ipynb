{
 "cells": [
  {
   "cell_type": "markdown",
   "id": "fbbe64b7-d227-47ea-8fdf-61dd3be0ba46",
   "metadata": {},
   "source": [
    "## Решение задачи бинарной классификации"
   ]
  },
  {
   "cell_type": "markdown",
   "id": "cd6493f6-b149-4d0b-80e9-6b6b7ad1d9e0",
   "metadata": {},
   "source": [
    "### Логистическая регрессия"
   ]
  },
  {
   "cell_type": "code",
   "execution_count": null,
   "id": "6078ea92-dbc9-4f27-8ca0-6a32e847efdc",
   "metadata": {},
   "outputs": [],
   "source": [
    "import pandas as pd\n",
    "import numpy as np\n",
    "import seaborn as sns"
   ]
  },
  {
   "cell_type": "code",
   "execution_count": null,
   "id": "d4e51f80-b347-4327-9e1e-95047560163d",
   "metadata": {},
   "outputs": [],
   "source": [
    "np.random.seed(42)"
   ]
  },
  {
   "cell_type": "code",
   "execution_count": null,
   "id": "9e85ea3c-7f84-4083-abfd-755cbfb3507e",
   "metadata": {},
   "outputs": [],
   "source": [
    "data = pd.read_csv('bike_buyers_clean.csv')"
   ]
  },
  {
   "cell_type": "code",
   "execution_count": null,
   "id": "0d5d619b-d76d-4b72-9b3c-292130a312c0",
   "metadata": {},
   "outputs": [],
   "source": [
    "data.head()"
   ]
  },
  {
   "cell_type": "markdown",
   "id": "a8281638-fee1-463e-afb0-1a755365dce5",
   "metadata": {},
   "source": [
    "# Обзор данных"
   ]
  },
  {
   "cell_type": "markdown",
   "id": "9e91f360-a270-4e27-8088-bcfec453422e",
   "metadata": {},
   "source": [
    "Проверьте типы колонок в датасете"
   ]
  },
  {
   "cell_type": "code",
   "execution_count": null,
   "id": "86d903fe-2043-4be0-886e-86ab198e4c98",
   "metadata": {},
   "outputs": [],
   "source": [
    "# your code here"
   ]
  },
  {
   "cell_type": "markdown",
   "id": "01c17b4a-6b34-4872-be1e-22975513f651",
   "metadata": {},
   "source": [
    "Колонки с бинарными качественными признаками (типа пола) замените на чиселки"
   ]
  },
  {
   "cell_type": "code",
   "execution_count": null,
   "id": "7754ef95-f389-4bb1-aab8-8d9aba9cd3fc",
   "metadata": {},
   "outputs": [],
   "source": [
    "# your code here"
   ]
  },
  {
   "cell_type": "markdown",
   "id": "8a425c8f-2878-42fd-985e-7c84fc4f4418",
   "metadata": {},
   "source": [
    "Оставим в данных только числовые колонки."
   ]
  },
  {
   "cell_type": "code",
   "execution_count": null,
   "id": "6b6012ad-ea07-49e4-acda-3c8818e87dcc",
   "metadata": {},
   "outputs": [],
   "source": [
    "# your code here"
   ]
  },
  {
   "cell_type": "markdown",
   "id": "c8f54c00-ae6b-4a77-95b5-b811d9608da3",
   "metadata": {},
   "source": [
    "Поделите данные на матрицу объект-признак и ответ"
   ]
  },
  {
   "cell_type": "code",
   "execution_count": null,
   "id": "d02c9d69-83b9-424b-ab53-f61d5587ff9a",
   "metadata": {},
   "outputs": [],
   "source": [
    "# your code here"
   ]
  },
  {
   "cell_type": "markdown",
   "id": "e4006fda-cac3-4586-85ff-798b4416ec10",
   "metadata": {},
   "source": [
    "Проверим сбалансированность классов. Если классы не сбалансированы, мы не можем использовать accuracy"
   ]
  },
  {
   "cell_type": "code",
   "execution_count": null,
   "id": "f1ca29a8-9e6c-4c6b-9b2a-95d7e46a31ae",
   "metadata": {},
   "outputs": [],
   "source": [
    "# your code here"
   ]
  },
  {
   "cell_type": "markdown",
   "id": "750ba801-f20e-4b1f-a2be-c5860bbc53eb",
   "metadata": {},
   "source": [
    "## Масштабирование числовых признаков"
   ]
  },
  {
   "cell_type": "code",
   "execution_count": null,
   "id": "673eddb1-1f9d-4b57-99de-bdb30307ad13",
   "metadata": {},
   "outputs": [],
   "source": [
    "data['Income']"
   ]
  },
  {
   "cell_type": "code",
   "execution_count": null,
   "id": "194ad845-b0db-4efe-afde-608db65185a5",
   "metadata": {},
   "outputs": [],
   "source": [
    "# Очень большие значения, а у нас есть Пол со значниями 0 и 1...\n",
    "# Надо масштабировать!"
   ]
  },
  {
   "cell_type": "code",
   "execution_count": null,
   "id": "b63e9b44-a389-47cc-bd05-eca40348e940",
   "metadata": {},
   "outputs": [],
   "source": [
    "from sklearn.preprocessing import StandardScaler\n",
    "\n",
    "scaler = StandardScaler()\n",
    "scaler.fit_transform(data[['Income']])"
   ]
  },
  {
   "cell_type": "markdown",
   "id": "7e0d0f66-42b7-44b0-b0fd-e498d28bb960",
   "metadata": {},
   "source": [
    "Важные замечания:\n",
    "- классы sklearn возвращают numpy arrays, а не pandas dataframe, что неудобно\n",
    "- любое преобразование признаков в ML-задачах нужно обучать только на тренировочных данных"
   ]
  },
  {
   "cell_type": "code",
   "execution_count": null,
   "id": "cb1b9c22-fcd0-486e-b7d0-0a770d7ec1c6",
   "metadata": {},
   "outputs": [],
   "source": [
    "# пример работы с пайплайном\n",
    "from sklearn.model_selection import train_test_split\n",
    "from sklearn.metrics import accuracy_score\n",
    "\n",
    "X_train, X_test, y_train, y_test = train_test_split(X, y)\n",
    "\n",
    "scaler = StandardScaler()\n",
    "scaler.fit(X_train) # алгоритм находит параметры: mean и sigma. Только к обучающим данным!\n",
    "\n",
    "X_train_sc = scaler.transform(X_train) # нормирует: x->(x-mean)/sigma\n",
    "X_test_sc = scaler.transform(X_test) # с помощью mean и sigma от тренировочных данных изменяем test data"
   ]
  },
  {
   "cell_type": "code",
   "execution_count": null,
   "id": "1f531d59-6e86-46b3-9087-ee3016bbf692",
   "metadata": {},
   "outputs": [],
   "source": [
    "X_train_sc"
   ]
  },
  {
   "cell_type": "code",
   "execution_count": null,
   "id": "d0332a62-0fc9-4509-b96d-1917627d15a8",
   "metadata": {},
   "outputs": [],
   "source": [
    "X_train = pd.DataFrame(X_train_sc, index=X_train.index, columns=X_train.columns)\n",
    "X_test = pd.DataFrame(X_test_sc, index=X_test.index, columns=X_test.columns)\n",
    "\n",
    "X_train.head()"
   ]
  },
  {
   "cell_type": "code",
   "execution_count": null,
   "id": "38c29ddb-b13c-4317-98a5-8486ce3c4e06",
   "metadata": {},
   "outputs": [],
   "source": [
    "y_train.value_counts()"
   ]
  },
  {
   "cell_type": "markdown",
   "id": "cd71ce84-f11d-4d75-8d82-1fb7b590c757",
   "metadata": {},
   "source": [
    "Обучим логистическую регрессию и посмотрим на качество модели."
   ]
  },
  {
   "cell_type": "code",
   "execution_count": null,
   "id": "a57a787b-2c1c-465e-8282-6bc4d31e99d2",
   "metadata": {},
   "outputs": [],
   "source": [
    "from sklearn.linear_model import LogisticRegression\n",
    "\n",
    "model = LogisticRegression()\n",
    "model.fit(X_train, y_train)\n",
    "\n",
    "y_pred = model.predict(X_test)"
   ]
  },
  {
   "cell_type": "code",
   "execution_count": null,
   "id": "afda54cb-ed99-4e13-9ac1-222fdcd0f0e5",
   "metadata": {},
   "outputs": [],
   "source": [
    "from sklearn.metrics import accuracy_score\n",
    "\n",
    "accuracy_score(y_pred, y_test)"
   ]
  },
  {
   "cell_type": "markdown",
   "id": "74566f5d-988e-4762-8434-2e188c6e8bd0",
   "metadata": {},
   "source": [
    "# Соберем сделанные преобразования данных в pipeline"
   ]
  },
  {
   "cell_type": "code",
   "execution_count": null,
   "id": "0525d742-d2f9-4da7-ad07-3494c5fe7eed",
   "metadata": {},
   "outputs": [],
   "source": [
    "from sklearn.pipeline import Pipeline\n",
    "\n",
    "pipe = Pipeline([\n",
    "    ('scaler_', StandardScaler()),\n",
    "    ('model_', LogisticRegression())\n",
    "    ])"
   ]
  },
  {
   "cell_type": "code",
   "execution_count": null,
   "id": "3b163e2a-fb71-4670-aa27-e89ec5821e68",
   "metadata": {},
   "outputs": [],
   "source": [
    "# пример работы с пайплайном\n",
    "\n",
    "pipe.fit(X_train, y_train)\n",
    "\n",
    "y_pred = pipe.predict(X_test)\n",
    "\n",
    "print(accuracy_score(y_test, y_pred))"
   ]
  },
  {
   "cell_type": "markdown",
   "id": "615eddcc-e905-465c-9385-b61a1a49ea15",
   "metadata": {},
   "source": [
    "## Интерпретация результатов"
   ]
  },
  {
   "cell_type": "code",
   "execution_count": null,
   "id": "68c2fcba-0ed8-4f63-a103-000a353a32ba",
   "metadata": {},
   "outputs": [],
   "source": [
    "model.coef_, model.intercept_"
   ]
  },
  {
   "cell_type": "code",
   "execution_count": null,
   "id": "5d1b41d2-298c-42b7-bf62-7e06e0b57d5d",
   "metadata": {},
   "outputs": [],
   "source": [
    "pipe['model_'].coef_, pipe['model_'].intercept_"
   ]
  },
  {
   "cell_type": "code",
   "execution_count": null,
   "id": "854227d2-8cd5-4f99-8bec-2a960487c4ba",
   "metadata": {},
   "outputs": [],
   "source": [
    "coefs = pd.DataFrame(model.coef_, index=np.arange(len(model.coef_)), columns=X_train.columns)\n",
    "coefs['Intercept'] = model.intercept_\n",
    "coefs"
   ]
  },
  {
   "cell_type": "markdown",
   "id": "8c082c95-d93f-494b-b072-387f7a8fda94",
   "metadata": {},
   "source": [
    "$$ y = \\sigma(0.38*Income - 0.16*Children - 0.53*Cars - 0.1*Age - 0.07) $$"
   ]
  },
  {
   "cell_type": "code",
   "execution_count": null,
   "id": "68f669d8-618f-4275-a97f-447fe176d351",
   "metadata": {},
   "outputs": [],
   "source": [
    "from sklearn.model_selection import cross_val_score\n",
    "\n",
    "cross_val_score(pipe, X, y, cv=3).mean()"
   ]
  },
  {
   "cell_type": "markdown",
   "id": "54fe8893-b525-4797-9aa7-9aec95a33a6f",
   "metadata": {},
   "source": [
    "## Задача распознавания лиц\n",
    "\n",
    "Решим задачу классификации лиц (задача многоклассовой классификации) с помощью метода опорных векторов."
   ]
  },
  {
   "cell_type": "code",
   "execution_count": null,
   "id": "2577682b-8c22-4b94-b8d7-432e640a104d",
   "metadata": {},
   "outputs": [],
   "source": [
    "import matplotlib.pyplot as plt"
   ]
  },
  {
   "cell_type": "code",
   "execution_count": null,
   "id": "c6190ca8-5d8e-4a1e-a686-04346978f30c",
   "metadata": {},
   "outputs": [],
   "source": [
    "from sklearn.datasets import fetch_lfw_people\n",
    "faces = fetch_lfw_people(min_faces_per_person=60)\n",
    "print(faces.target_names)\n",
    "print(faces.images.shape)"
   ]
  },
  {
   "cell_type": "markdown",
   "id": "20ca085b-9f57-46ea-bbe3-3483c6038177",
   "metadata": {},
   "source": [
    "Нарисуем несколько лиц из датасета"
   ]
  },
  {
   "cell_type": "code",
   "execution_count": null,
   "id": "2927cf01-7743-4c42-988e-f86aa8af5722",
   "metadata": {},
   "outputs": [],
   "source": [
    "fig, ax = plt.subplots(3, 5, figsize=(9,9))\n",
    "for i, axi in enumerate(ax.flat):\n",
    "    axi.imshow(faces.images[i], cmap='bone')\n",
    "    axi.set(xticks=[], yticks=[],\n",
    "            xlabel=faces.target_names[faces.target[i]])"
   ]
  },
  {
   "cell_type": "markdown",
   "id": "f1451a50-66ac-465d-916e-f96f36834285",
   "metadata": {},
   "source": [
    "Каждое изображение имеет размер [62×47] - это примерно 3000 пикселей. Мы можем использовать пиксели как признаки, но давайте понизим размерность пространства признаков.\n",
    "\n",
    "Извлечем 150 самых информативных признаков из данных фотографий методом RandomizedPCA (тот самый метод главных компонент)."
   ]
  },
  {
   "cell_type": "code",
   "execution_count": null,
   "id": "806d7c76-44fc-4624-8c15-7c22f14aec8f",
   "metadata": {},
   "outputs": [],
   "source": [
    "from sklearn.svm import SVC\n",
    "from sklearn.decomposition import PCA #Principal Components Analysis\n",
    "from sklearn.pipeline import make_pipeline, Pipeline\n",
    "\n",
    "pca = PCA(n_components=150, svd_solver='randomized', whiten=True, random_state=42)"
   ]
  },
  {
   "cell_type": "markdown",
   "id": "e83e5477-beda-4457-a659-2d6f3cdd9668",
   "metadata": {},
   "source": [
    "Попробуем решить задачу алгоритмом SVM."
   ]
  },
  {
   "cell_type": "code",
   "execution_count": null,
   "id": "5fba471b-131d-4eae-80be-f667476077fa",
   "metadata": {},
   "outputs": [],
   "source": [
    "from sklearn.model_selection import train_test_split\n",
    "Xtrain, Xtest, ytrain, ytest = train_test_split(faces.data, faces.target,\n",
    "                                                random_state=42)"
   ]
  },
  {
   "cell_type": "markdown",
   "id": "f9a55c97-89d8-49dd-a5ad-319560143b8a",
   "metadata": {},
   "source": [
    "Соберем пайплайн из метода опорных векторов + метода главных компонент."
   ]
  },
  {
   "cell_type": "code",
   "execution_count": null,
   "id": "036ea904-130e-45c0-a5b4-b11330ebda22",
   "metadata": {},
   "outputs": [],
   "source": [
    "svc = SVC(kernel='linear', class_weight='balanced')\n",
    "\n",
    "model_svm = make_pipeline(pca, svc)"
   ]
  },
  {
   "cell_type": "markdown",
   "id": "886d5530-3e17-42eb-9dd0-4b6cf47cd7dc",
   "metadata": {},
   "source": [
    "Погридсерчим параметр С. \n",
    "\n",
    "Как гридсерчить: нужно собрать сетку параметров (это словарь, где ключи - названия гиперпараметров, а значения - их возможные значения, которые мы перебираем), а потом пихнуть в гридсерч модель, сетку и возможно указать какие-то параметры серча (scoring, cv...).\n",
    "\n",
    "Если гридсерчим пайплайн, то для каждого из шагов пайпа можно указывать параметры, тогда сперва указывается название шага, а потом через двойное нижнее подчеркивание название параметра. "
   ]
  },
  {
   "cell_type": "code",
   "execution_count": null,
   "id": "b9ebaeb8-bf2e-466c-ab82-ee119625affb",
   "metadata": {},
   "outputs": [],
   "source": [
    "from sklearn.model_selection import GridSearchCV\n",
    "param_grid = {'svc__C': [1, 5, 10, 50]}\n",
    "\n",
    "grid = GridSearchCV(model_svm, param_grid)\n",
    "\n",
    "%time grid.fit(Xtrain, ytrain)\n",
    "\n",
    "print(grid.best_params_)"
   ]
  },
  {
   "cell_type": "code",
   "execution_count": null,
   "id": "7501089b-c9dc-4511-b70b-3765880adbdc",
   "metadata": {},
   "outputs": [],
   "source": [
    "def get_best_model(model, Xtrain, ytrain):\n",
    "    model_pipe = Pipeline([('pca',pca),('model',model)])\n",
    "    \n",
    "    param_grid = {'model__C': [0.01, 0.1, 1, 5, 10]}\n",
    "    \n",
    "    grid = GridSearchCV(model_pipe, param_grid)\n",
    "    \n",
    "    grid.fit(Xtrain, ytrain)\n",
    "    \n",
    "    return grid.best_estimator_"
   ]
  },
  {
   "cell_type": "code",
   "execution_count": null,
   "id": "4f91e7a3-9ecf-4528-b8cb-b5f43dd2677e",
   "metadata": {},
   "outputs": [],
   "source": [
    "model = grid.best_estimator_\n",
    "\n",
    "yfit = model.predict(Xtest)"
   ]
  },
  {
   "cell_type": "code",
   "execution_count": null,
   "id": "ed15993b-7e75-4dc2-99fb-3b94452a7f86",
   "metadata": {},
   "outputs": [],
   "source": [
    "fig, ax = plt.subplots(4, 6, figsize=(9,9))\n",
    "for i, axi in enumerate(ax.flat):\n",
    "    axi.imshow(Xtest[i].reshape(62, 47), cmap='bone')\n",
    "    axi.set(xticks=[], yticks=[])\n",
    "    axi.set_ylabel(faces.target_names[yfit[i]].split()[-1],\n",
    "                   color='black' if yfit[i] == ytest[i] else 'red')\n",
    "fig.suptitle('Predicted Names; Incorrect Labels in Red', size=14);"
   ]
  },
  {
   "cell_type": "markdown",
   "id": "c03d1fa3-b62e-49e6-a16a-374f4ceab747",
   "metadata": {},
   "source": [
    "Выведем на экран метрики классификации."
   ]
  },
  {
   "cell_type": "code",
   "execution_count": null,
   "id": "16e10984-963c-4271-bb00-9a9f6bbb76cf",
   "metadata": {},
   "outputs": [],
   "source": [
    "from sklearn.metrics import classification_report\n",
    "print(classification_report(ytest, yfit,\n",
    "                            target_names=faces.target_names))"
   ]
  },
  {
   "cell_type": "markdown",
   "id": "17b8349b-e6b4-4146-8fc8-59d13967128d",
   "metadata": {},
   "source": [
    "Нарисуем матрицу ошибок классификатора."
   ]
  },
  {
   "cell_type": "code",
   "execution_count": null,
   "id": "c174ab78-d0bf-434d-a876-49c8a78fa141",
   "metadata": {},
   "outputs": [],
   "source": [
    "from sklearn.metrics import confusion_matrix\n",
    "\n",
    "plt.figure(figsize=(8,8))\n",
    "mat = confusion_matrix(ytest, yfit)\n",
    "sns.heatmap(mat.T, square=True, annot=True, fmt='d', cbar=False,\n",
    "            xticklabels=faces.target_names,\n",
    "            yticklabels=faces.target_names)\n",
    "plt.xlabel('true label')\n",
    "plt.ylabel('predicted label');"
   ]
  },
  {
   "cell_type": "markdown",
   "id": "30d97393-09e1-4009-911d-c8ff95d6c99d",
   "metadata": {},
   "source": [
    "### Задание 1.\n",
    "\n",
    "Решите задачу распознавания лиц с помощью SVM с ядром. Попробуйте различные ядра: 'poly', 'rbf', 'sigmoid'.\n",
    "\n",
    "Подберите гиперпараметры по кросс-валидации. \n",
    "\n",
    "SVM с каким ядром дал лучший результат?"
   ]
  },
  {
   "cell_type": "code",
   "execution_count": null,
   "id": "9bf18bc6-4e01-4ddf-9e5a-f0a5b18adf7c",
   "metadata": {},
   "outputs": [],
   "source": [
    "#your code here"
   ]
  },
  {
   "cell_type": "markdown",
   "id": "b78b7805-4f00-42b0-847c-6c6fc340a930",
   "metadata": {},
   "source": [
    "### Задание 2.\n",
    "\n",
    "Решите задачу распознавания лиц с помощью логистической регрессии (она также поддерживает опцию class_weight='balanced'):\n",
    "\n",
    "1) Объявите модель, состоящую из pipeline(pca,logistic regression)\n",
    "\n",
    "2) Подберите по сетке параметр C логистической регрессии (с помощью GridSearch)\n",
    "\n",
    "3) Обучите модель на тренировочных данных и выведите наилучшие параметры модели\n",
    "\n",
    "4) KNN\n",
    "\n",
    "5) Naive Bayes\n",
    "\n",
    "Какое качество показала эта модель?"
   ]
  },
  {
   "cell_type": "code",
   "execution_count": null,
   "id": "0354c1fe-afb2-4415-8fb0-8a71230a3ff7",
   "metadata": {},
   "outputs": [],
   "source": [
    "from sklearn.linear_model import LogisticRegression\n",
    "\n",
    "#your code here\n",
    "\n",
    "lr = ...\n",
    "model = make_pipeline(...)\n",
    "\n",
    "param_grid = ...\n",
    "grid = GridSearchCV(model, param_grid)\n",
    "\n",
    "..."
   ]
  }
 ],
 "metadata": {
  "kernelspec": {
   "display_name": "Python 3 (ipykernel)",
   "language": "python",
   "name": "python3"
  },
  "language_info": {
   "codemirror_mode": {
    "name": "ipython",
    "version": 3
   },
   "file_extension": ".py",
   "mimetype": "text/x-python",
   "name": "python",
   "nbconvert_exporter": "python",
   "pygments_lexer": "ipython3",
   "version": "3.9.12"
  }
 },
 "nbformat": 4,
 "nbformat_minor": 5
}
