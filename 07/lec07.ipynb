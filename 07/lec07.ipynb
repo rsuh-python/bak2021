{
 "cells": [
  {
   "cell_type": "markdown",
   "id": "139da4f6-cde6-4f67-814e-6b159537d5ce",
   "metadata": {},
   "source": [
    "### Библиотеки для построения графиков и интерактивного интерфейса"
   ]
  },
  {
   "cell_type": "markdown",
   "id": "3ed0d137-74d1-4fc3-b5c3-aecde7df9c9f",
   "metadata": {},
   "source": [
    "#### Matplotlib"
   ]
  },
  {
   "cell_type": "markdown",
   "id": "e31a50dc-868b-4f0b-b4d1-f9780f5c4511",
   "metadata": {},
   "source": [
    "Самая популярная и базовая библиотека для построения графиков - это matplotlib. Это огромная библиотека, и изучать ее возможности можно неделями, но на самом деле главное - разобраться в основных ее понятиях, остальное - для красоты. Matplotlib необходимо отдельно устанавливать:\n",
    "\n",
    "    pip install matplotlib\n",
    "\n",
    "(в колабе он уже установлен)"
   ]
  },
  {
   "cell_type": "markdown",
   "id": "7a12d8d2-73ed-45a0-bf67-481ce5157801",
   "metadata": {},
   "source": [
    "**Архитектура Matplotlib**\n",
    "\n",
    "Matplotlib имеет три основных слоя: слой нижнего уровня (backend), слой рисунков и слой скриптов. Слой нижнего уровня содержит три интерфейсных класса: канва рисунка (figure canvas), определяющая область рисунка, прорисовщик (renderer), умеющий рисовать на этой канве, и событие (event), обрабатывающее ввод пользователя вроде щелчков мыши. Слой рисунков знает, как рисовать с помощью Renderer'а и рисовать на канве. Все, что находится на рисунке Matplotlib, является экземпляром слоя рисунка (artist). Засечки, заголовок, метки – все это индивидуальные объекты слоя рисунков. Слой скриптов – это облегченный интерфейс, который очень полезен для ежедневного применения."
   ]
  },
  {
   "cell_type": "markdown",
   "id": "df88c278-8a03-41d6-a621-e2c33e93d022",
   "metadata": {},
   "source": [
    "Два объекта, о которых необходимо знать для работы с графиками - это Figure & Axes. \n",
    "\n",
    "**Figure** - это контейнер самого верхнего уровня, та область, на которой все нарисовано. Таких областей может быть несколько, каждая из которых может содержать несколько контейнеров Axes.\n",
    "**Axes** - это та область на которой чаще всего и отражаются графики (данные в виде графиков), а также все вспомогательные атрибуты (линии сетки, метки, указатели и т.д.). \n",
    "Каждая область Axes содержит XAxis и YAxis. Они содержат, деления, метки и прочие вспомогательные атрибуты.\n",
    "\n",
    "Когда собираемся нарисовать график, сперва заводим экземпляр класса Figure, а потом к нему специальным методом добавляем область для будущего графика. "
   ]
  },
  {
   "cell_type": "code",
   "execution_count": 1,
   "id": "8b3473b2-2183-4918-bcfb-2a5ac550bcd8",
   "metadata": {},
   "outputs": [
    {
     "data": {
      "image/png": "[encoded data removed]",
      "text/plain": [
       "<Figure size 432x288 with 1 Axes>"
      ]
     },
     "metadata": {
      "needs_background": "light"
     },
     "output_type": "display_data"
    }
   ],
   "source": [
    "import matplotlib.pyplot as plt\n",
    "\n",
    "fig = plt.figure()\n",
    "ax = fig.add_subplot(111)\n",
    "\n",
    "plt.show()"
   ]
  },
  {
   "cell_type": "markdown",
   "id": "ce5c6f54-d830-43a8-ba27-0b7aba47ff1c",
   "metadata": {},
   "source": [
    "Можно убедиться, что эти фигуры разные, если поменять их цвет:"
   ]
  },
  {
   "cell_type": "code",
   "execution_count": 3,
   "id": "3ca5f8cc-0d74-4a2d-a54a-020235d08819",
   "metadata": {},
   "outputs": [
    {
     "data": {
      "image/png": "[encoded data removed]",
      "text/plain": [
       "<Figure size 432x288 with 1 Axes>"
      ]
     },
     "metadata": {},
     "output_type": "display_data"
    }
   ],
   "source": [
    "fig = plt.figure()\n",
    "ax = fig.add_subplot(111)\n",
    "fig.set(facecolor='green')\n",
    "ax.set(facecolor='blue')\n",
    "plt.show()"
   ]
  },
  {
   "cell_type": "markdown",
   "id": "a3273f14-3feb-4478-a297-ea028884342a",
   "metadata": {},
   "source": [
    "Вообще метод set() есть и у фигуры, и у области графика, и там можно устанавливать очень много всего разного. Причем обычно есть варианты вида set(Title=''...) vs set_title(). "
   ]
  },
  {
   "cell_type": "markdown",
   "id": "bd23837f-eb3c-4073-bc15-67f1eb6cf81c",
   "metadata": {},
   "source": [
    "Наиболее простой способ по-быстрому установить визуальные настройки графика - специальная форматированная строка у метода plot(); подробное описание того, что в ней можно указать, есть в [документации библиотеки](https://matplotlib.org/stable/api/_as_gen/matplotlib.pyplot.plot.html). "
   ]
  },
  {
   "cell_type": "code",
   "execution_count": 4,
   "id": "8778ca07-1067-4140-81bf-455b1a043417",
   "metadata": {},
   "outputs": [
    {
     "data": {
      "image/png": "[encoded data removed]",
      "text/plain": [
       "<Figure size 432x288 with 1 Axes>"
      ]
     },
     "metadata": {
      "needs_background": "light"
     },
     "output_type": "display_data"
    }
   ],
   "source": [
    "X = ['a', 'b', 'c', 'd']\n",
    "Y = [34, 123, 67, 45]\n",
    "fig = plt.figure()\n",
    "ax = fig.add_subplot(111)\n",
    "ax.plot(X, Y, 'bo')\n",
    "plt.show()"
   ]
  },
  {
   "cell_type": "markdown",
   "id": "72cd5164-7309-4b7b-8c44-3ea879541bf0",
   "metadata": {},
   "source": [
    "Таким образом, как же строить сами графики на области графика? Один самый простой метод уже написан вверху: это plot(). На самом деле, можно использовать этот метод и не создавая отдельный экземпляр, но тогда большинство тонких настроек не будет доступно:"
   ]
  },
  {
   "cell_type": "code",
   "execution_count": 5,
   "id": "760bf2e5-2378-4fed-94b6-9a881819c715",
   "metadata": {},
   "outputs": [
    {
     "data": {
      "image/png": "[encoded data removed]",
      "text/plain": [
       "<Figure size 432x288 with 1 Axes>"
      ]
     },
     "metadata": {
      "needs_background": "light"
     },
     "output_type": "display_data"
    }
   ],
   "source": [
    "plt.plot(X, Y, '^g')\n",
    "plt.show()"
   ]
  },
  {
   "cell_type": "markdown",
   "id": "70860734-7874-40ef-a91a-177aaeff9470",
   "metadata": {},
   "source": [
    "Какие еще есть методы в matplotlib?\n",
    "\n",
    "- ax.scatter(X, Y)\n",
    "- ax.bar(x, height(y), width, bottom, align)\n",
    "- ax.hist(x, bins)\n",
    "- ax.pie(sizes, labels=labels, autopct='%1.1f%%')"
   ]
  },
  {
   "cell_type": "markdown",
   "id": "45dcfba5-4cdb-45ab-82fd-db0b8c69ba93",
   "metadata": {},
   "source": [
    "Можете сами посмотреть, как они устроены и как выглядят. "
   ]
  },
  {
   "cell_type": "markdown",
   "id": "2cb4ca57-17f6-4a29-891c-5a44f2ef179c",
   "metadata": {},
   "source": [
    "Какие базовые настройки стоит знать, когда строим графики?\n",
    "\n",
    "- У Figure есть size: fig = plt.figure(figsize=(x, y))\n",
    "- У ax можно установить заголовок: ax.set_title('Title')\n",
    "- У графиков можно менять цвет, форму, линии, размер шрифтов;\n",
    "- Можно устанавливать xticks (значения по оси х) и yticks;\n",
    "- Можно сохранять график с помощью savefig();\n",
    "- Можно сразу устанавливать весь стиль для графика с помощью plt.style.use(['...']) (посмотреть, какие доступны, можно с помощью plt.style.available)"
   ]
  },
  {
   "cell_type": "markdown",
   "id": "30570f2d-a00f-4605-bfdf-98abf9df9d37",
   "metadata": {},
   "source": [
    "**Подграфики**\n",
    "\n",
    "Matplotlib позволяет строить много axes внутри одной figure: для этого есть два разных способа. Более гибкий - это использовать метод add_subplot():"
   ]
  },
  {
   "cell_type": "code",
   "execution_count": null,
   "id": "5065d8a6-d017-4fd5-9c99-6ce6d1f2babf",
   "metadata": {},
   "outputs": [],
   "source": [
    "ax_1 = fig.add_subplot(2, 2, 1)\n",
    "ax_2 = fig.add_subplot(2, 2, 2)\n",
    "ax_3 = fig.add_subplot(2, 2, 3)\n",
    "ax_4 = fig.add_subplot(2, 2, 4)"
   ]
  },
  {
   "cell_type": "markdown",
   "id": "ede37edc-560a-4968-b4fd-96c7e54012fa",
   "metadata": {},
   "source": [
    "Первая цифра из трех - это номер ряда, вторая - номер строки, а третья - индекс подграфика (matplotlib воспринимает область графика как табличку). \n",
    "\n",
    "Каждый подграфик можно настраивать как угодно; графики не обязаны занимать всю область figure, можно их рисовать как хочется. "
   ]
  },
  {
   "cell_type": "markdown",
   "id": "b37f81ff-0ba8-4a0a-b696-f8e83d71f1d3",
   "metadata": {},
   "source": [
    "Более простой (и менее гибкий) способ - это использовать метод subplots():"
   ]
  },
  {
   "cell_type": "code",
   "execution_count": null,
   "id": "998b7abd-7d04-4d01-a526-fd4627cbb7e6",
   "metadata": {},
   "outputs": [],
   "source": [
    "fig, axes = plt.subplots(nrows = 2, ncols =2 )\n",
    "\n",
    "axes[0,0].set(title='axes[0,0]')\n",
    "axes[0,1].set(title='axes[0,1]')\n",
    "axes[1,0].set(title='axes[1,0]')\n",
    "axes[1,1].set(title='axes[1,1]')\n",
    "\n",
    "for ax in axes.flat:\n",
    "    ax.set(...)\n",
    "\n",
    "plt.show()"
   ]
  },
  {
   "cell_type": "markdown",
   "id": "aac20fe8-0509-4405-acc9-2b85a0933296",
   "metadata": {},
   "source": [
    "На самом деле этот же метод удобнее использовать и для одиночного графика:\n",
    "\n",
    "    fig, ax = plt.subplots()"
   ]
  },
  {
   "cell_type": "markdown",
   "id": "f8c2c173-0a13-41f2-a503-192402d86127",
   "metadata": {},
   "source": [
    "#### Seaborn"
   ]
  },
  {
   "cell_type": "markdown",
   "id": "08bbd477-846f-4a9f-862f-e4ea8c27f210",
   "metadata": {},
   "source": [
    "Seaborn - это библиотека, которая построена на базе matplotlib и очень хорошо с ней взаимодействует. Главная цель Seaborn - это визуализация данных для машинного обучения, поэтому seaborn умеет работать с датафреймами pandas; также у seaborn ужасно красивые палитры. :) "
   ]
  },
  {
   "cell_type": "markdown",
   "id": "31301f1f-150a-4ee0-ae09-de2afc034a93",
   "metadata": {},
   "source": [
    "Seaborn тоже, конечно, нужно устанавливать. \n",
    "\n",
    "        pip install seaborn\n",
    "        \n",
    "Импортируется он обычно как sns. "
   ]
  },
  {
   "cell_type": "markdown",
   "id": "fe75140b-91ae-4797-a791-dfa8f77d1bcd",
   "metadata": {},
   "source": [
    "У него есть возможность автоматически настраивать масштаб графика в зависимости от целей, с которыми вы его создаете:\n",
    "\n",
    "    sns.set_context('paper', 'notebook', 'talk', 'poster')\n",
    "    \n",
    "(Poster сделает крупный график, например). По умолчанию используется notebook."
   ]
  },
  {
   "cell_type": "markdown",
   "id": "0843c340-4e23-443e-8f9a-74064344e730",
   "metadata": {},
   "source": [
    "Самое клевое - это палитры, которые в самом seaborn очень разнообразны, плюс можно собирать их самостоятельно из номеров цветов. Как посмотреть, какие цвета есть в seaborn вообще?"
   ]
  },
  {
   "cell_type": "code",
   "execution_count": 13,
   "id": "487ce737-40c4-451e-a370-e1356e5f38ad",
   "metadata": {},
   "outputs": [
    {
     "ename": "ValueError",
     "evalue": "br is not a valid palette name",
     "output_type": "error",
     "traceback": [
      "\u001b[0;31m---------------------------------------------------------------------------\u001b[0m",
      "\u001b[0;31mValueError\u001b[0m                                Traceback (most recent call last)",
      "\u001b[0;32m~/.local/lib/python3.8/site-packages/seaborn/palettes.py\u001b[0m in \u001b[0;36mcolor_palette\u001b[0;34m(palette, n_colors, desat, as_cmap)\u001b[0m\n\u001b[1;32m    205\u001b[0m                 \u001b[0;31m# Perhaps a named matplotlib colormap?\u001b[0m\u001b[0;34m\u001b[0m\u001b[0;34m\u001b[0m\u001b[0;34m\u001b[0m\u001b[0m\n\u001b[0;32m--> 206\u001b[0;31m                 \u001b[0mpalette\u001b[0m \u001b[0;34m=\u001b[0m \u001b[0mmpl_palette\u001b[0m\u001b[0;34m(\u001b[0m\u001b[0mpalette\u001b[0m\u001b[0;34m,\u001b[0m \u001b[0mn_colors\u001b[0m\u001b[0;34m,\u001b[0m \u001b[0mas_cmap\u001b[0m\u001b[0;34m=\u001b[0m\u001b[0mas_cmap\u001b[0m\u001b[0;34m)\u001b[0m\u001b[0;34m\u001b[0m\u001b[0;34m\u001b[0m\u001b[0m\n\u001b[0m\u001b[1;32m    207\u001b[0m             \u001b[0;32mexcept\u001b[0m \u001b[0mValueError\u001b[0m\u001b[0;34m:\u001b[0m\u001b[0;34m\u001b[0m\u001b[0;34m\u001b[0m\u001b[0m\n",
      "\u001b[0;32m~/.local/lib/python3.8/site-packages/seaborn/palettes.py\u001b[0m in \u001b[0;36mmpl_palette\u001b[0;34m(name, n_colors, as_cmap)\u001b[0m\n\u001b[1;32m    442\u001b[0m     \u001b[0;32melse\u001b[0m\u001b[0;34m:\u001b[0m\u001b[0;34m\u001b[0m\u001b[0;34m\u001b[0m\u001b[0m\n\u001b[0;32m--> 443\u001b[0;31m         \u001b[0mcmap\u001b[0m \u001b[0;34m=\u001b[0m \u001b[0mmpl\u001b[0m\u001b[0;34m.\u001b[0m\u001b[0mcm\u001b[0m\u001b[0;34m.\u001b[0m\u001b[0mget_cmap\u001b[0m\u001b[0;34m(\u001b[0m\u001b[0mname\u001b[0m\u001b[0;34m)\u001b[0m\u001b[0;34m\u001b[0m\u001b[0;34m\u001b[0m\u001b[0m\n\u001b[0m\u001b[1;32m    444\u001b[0m \u001b[0;34m\u001b[0m\u001b[0m\n",
      "\u001b[0;32m~/.local/lib/python3.8/site-packages/matplotlib/cm.py\u001b[0m in \u001b[0;36mget_cmap\u001b[0;34m(name, lut)\u001b[0m\n\u001b[1;32m    189\u001b[0m         \u001b[0;32mreturn\u001b[0m \u001b[0mname\u001b[0m\u001b[0;34m\u001b[0m\u001b[0;34m\u001b[0m\u001b[0m\n\u001b[0;32m--> 190\u001b[0;31m     \u001b[0m_api\u001b[0m\u001b[0;34m.\u001b[0m\u001b[0mcheck_in_list\u001b[0m\u001b[0;34m(\u001b[0m\u001b[0msorted\u001b[0m\u001b[0;34m(\u001b[0m\u001b[0m_cmap_registry\u001b[0m\u001b[0;34m)\u001b[0m\u001b[0;34m,\u001b[0m \u001b[0mname\u001b[0m\u001b[0;34m=\u001b[0m\u001b[0mname\u001b[0m\u001b[0;34m)\u001b[0m\u001b[0;34m\u001b[0m\u001b[0;34m\u001b[0m\u001b[0m\n\u001b[0m\u001b[1;32m    191\u001b[0m     \u001b[0;32mif\u001b[0m \u001b[0mlut\u001b[0m \u001b[0;32mis\u001b[0m \u001b[0;32mNone\u001b[0m\u001b[0;34m:\u001b[0m\u001b[0;34m\u001b[0m\u001b[0;34m\u001b[0m\u001b[0m\n",
      "\u001b[0;32m~/.local/lib/python3.8/site-packages/matplotlib/_api/__init__.py\u001b[0m in \u001b[0;36mcheck_in_list\u001b[0;34m(_values, _print_supported_values, **kwargs)\u001b[0m\n\u001b[1;32m    125\u001b[0m             \u001b[0;32mif\u001b[0m \u001b[0m_print_supported_values\u001b[0m\u001b[0;34m:\u001b[0m\u001b[0;34m\u001b[0m\u001b[0;34m\u001b[0m\u001b[0m\n\u001b[0;32m--> 126\u001b[0;31m                 raise ValueError(\n\u001b[0m\u001b[1;32m    127\u001b[0m                     \u001b[0;34mf\"{val!r} is not a valid value for {key}; \"\u001b[0m\u001b[0;34m\u001b[0m\u001b[0;34m\u001b[0m\u001b[0m\n",
      "\u001b[0;31mValueError\u001b[0m: 'br' is not a valid value for name; supported values are 'Accent', 'Accent_r', 'Blues', 'Blues_r', 'BrBG', 'BrBG_r', 'BuGn', 'BuGn_r', 'BuPu', 'BuPu_r', 'CMRmap', 'CMRmap_r', 'Dark2', 'Dark2_r', 'GnBu', 'GnBu_r', 'Greens', 'Greens_r', 'Greys', 'Greys_r', 'OrRd', 'OrRd_r', 'Oranges', 'Oranges_r', 'PRGn', 'PRGn_r', 'Paired', 'Paired_r', 'Pastel1', 'Pastel1_r', 'Pastel2', 'Pastel2_r', 'PiYG', 'PiYG_r', 'PuBu', 'PuBuGn', 'PuBuGn_r', 'PuBu_r', 'PuOr', 'PuOr_r', 'PuRd', 'PuRd_r', 'Purples', 'Purples_r', 'RdBu', 'RdBu_r', 'RdGy', 'RdGy_r', 'RdPu', 'RdPu_r', 'RdYlBu', 'RdYlBu_r', 'RdYlGn', 'RdYlGn_r', 'Reds', 'Reds_r', 'Set1', 'Set1_r', 'Set2', 'Set2_r', 'Set3', 'Set3_r', 'Spectral', 'Spectral_r', 'Wistia', 'Wistia_r', 'YlGn', 'YlGnBu', 'YlGnBu_r', 'YlGn_r', 'YlOrBr', 'YlOrBr_r', 'YlOrRd', 'YlOrRd_r', 'afmhot', 'afmhot_r', 'autumn', 'autumn_r', 'binary', 'binary_r', 'bone', 'bone_r', 'brg', 'brg_r', 'bwr', 'bwr_r', 'cividis', 'cividis_r', 'cool', 'cool_r', 'coolwarm', 'coolwarm_r', 'copper', 'copper_r', 'crest', 'crest_r', 'cubehelix', 'cubehelix_r', 'flag', 'flag_r', 'flare', 'flare_r', 'gist_earth', 'gist_earth_r', 'gist_gray', 'gist_gray_r', 'gist_heat', 'gist_heat_r', 'gist_ncar', 'gist_ncar_r', 'gist_rainbow', 'gist_rainbow_r', 'gist_stern', 'gist_stern_r', 'gist_yarg', 'gist_yarg_r', 'gnuplot', 'gnuplot2', 'gnuplot2_r', 'gnuplot_r', 'gray', 'gray_r', 'hot', 'hot_r', 'hsv', 'hsv_r', 'icefire', 'icefire_r', 'inferno', 'inferno_r', 'jet', 'jet_r', 'magma', 'magma_r', 'mako', 'mako_r', 'nipy_spectral', 'nipy_spectral_r', 'ocean', 'ocean_r', 'pink', 'pink_r', 'plasma', 'plasma_r', 'prism', 'prism_r', 'rainbow', 'rainbow_r', 'rocket', 'rocket_r', 'seismic', 'seismic_r', 'spring', 'spring_r', 'summer', 'summer_r', 'tab10', 'tab10_r', 'tab20', 'tab20_r', 'tab20b', 'tab20b_r', 'tab20c', 'tab20c_r', 'terrain', 'terrain_r', 'turbo', 'turbo_r', 'twilight', 'twilight_r', 'twilight_shifted', 'twilight_shifted_r', 'viridis', 'viridis_r', 'vlag', 'vlag_r', 'winter', 'winter_r'",
      "\nDuring handling of the above exception, another exception occurred:\n",
      "\u001b[0;31mValueError\u001b[0m                                Traceback (most recent call last)",
      "\u001b[0;32m/tmp/ipykernel_5888/2704336570.py\u001b[0m in \u001b[0;36m<module>\u001b[0;34m\u001b[0m\n\u001b[1;32m      1\u001b[0m \u001b[0;32mimport\u001b[0m \u001b[0mseaborn\u001b[0m \u001b[0;32mas\u001b[0m \u001b[0msns\u001b[0m\u001b[0;34m\u001b[0m\u001b[0;34m\u001b[0m\u001b[0m\n\u001b[1;32m      2\u001b[0m \u001b[0;34m\u001b[0m\u001b[0m\n\u001b[0;32m----> 3\u001b[0;31m \u001b[0mpalette\u001b[0m \u001b[0;34m=\u001b[0m \u001b[0msns\u001b[0m\u001b[0;34m.\u001b[0m\u001b[0mcolor_palette\u001b[0m\u001b[0;34m(\u001b[0m\u001b[0;34m\"br\"\u001b[0m\u001b[0;34m)\u001b[0m  \u001b[0;31m# напечатать какую-нибудь ерунду вместо названия палитры, и в ошибке сиборн послушно вывалит все свои палитры\u001b[0m\u001b[0;34m\u001b[0m\u001b[0;34m\u001b[0m\u001b[0m\n\u001b[0m",
      "\u001b[0;32m~/.local/lib/python3.8/site-packages/seaborn/palettes.py\u001b[0m in \u001b[0;36mcolor_palette\u001b[0;34m(palette, n_colors, desat, as_cmap)\u001b[0m\n\u001b[1;32m    206\u001b[0m                 \u001b[0mpalette\u001b[0m \u001b[0;34m=\u001b[0m \u001b[0mmpl_palette\u001b[0m\u001b[0;34m(\u001b[0m\u001b[0mpalette\u001b[0m\u001b[0;34m,\u001b[0m \u001b[0mn_colors\u001b[0m\u001b[0;34m,\u001b[0m \u001b[0mas_cmap\u001b[0m\u001b[0;34m=\u001b[0m\u001b[0mas_cmap\u001b[0m\u001b[0;34m)\u001b[0m\u001b[0;34m\u001b[0m\u001b[0;34m\u001b[0m\u001b[0m\n\u001b[1;32m    207\u001b[0m             \u001b[0;32mexcept\u001b[0m \u001b[0mValueError\u001b[0m\u001b[0;34m:\u001b[0m\u001b[0;34m\u001b[0m\u001b[0;34m\u001b[0m\u001b[0m\n\u001b[0;32m--> 208\u001b[0;31m                 \u001b[0;32mraise\u001b[0m \u001b[0mValueError\u001b[0m\u001b[0;34m(\u001b[0m\u001b[0;34m\"%s is not a valid palette name\"\u001b[0m \u001b[0;34m%\u001b[0m \u001b[0mpalette\u001b[0m\u001b[0;34m)\u001b[0m\u001b[0;34m\u001b[0m\u001b[0;34m\u001b[0m\u001b[0m\n\u001b[0m\u001b[1;32m    209\u001b[0m \u001b[0;34m\u001b[0m\u001b[0m\n\u001b[1;32m    210\u001b[0m     \u001b[0;32mif\u001b[0m \u001b[0mdesat\u001b[0m \u001b[0;32mis\u001b[0m \u001b[0;32mnot\u001b[0m \u001b[0;32mNone\u001b[0m\u001b[0;34m:\u001b[0m\u001b[0;34m\u001b[0m\u001b[0;34m\u001b[0m\u001b[0m\n",
      "\u001b[0;31mValueError\u001b[0m: br is not a valid palette name"
     ]
    }
   ],
   "source": [
    "import seaborn as sns\n",
    "\n",
    "palette = sns.color_palette(\"br\")  # напечатать какую-нибудь ерунду вместо названия палитры, и в ошибке сиборн послушно вывалит все свои палитры"
   ]
  },
  {
   "cell_type": "markdown",
   "id": "86800a22-0eaa-468a-afff-e88c4b1e5329",
   "metadata": {},
   "source": [
    "Дальше уже можно эти цвета выбирать и смотреть:"
   ]
  },
  {
   "cell_type": "code",
   "execution_count": 14,
   "id": "e05755c0-64e9-42a6-953e-1b324f1590be",
   "metadata": {},
   "outputs": [
    {
     "data": {
      "image/png": "[encoded data removed]",
      "text/plain": [
       "<Figure size 432x72 with 1 Axes>"
      ]
     },
     "metadata": {
      "needs_background": "light"
     },
     "output_type": "display_data"
    }
   ],
   "source": [
    "palette = sns.color_palette('gist_earth_r')\n",
    "sns.palplot(palette)"
   ]
  },
  {
   "cell_type": "markdown",
   "id": "06726e13-c16b-4e8b-ac1e-202e2fc59a39",
   "metadata": {},
   "source": [
    "Что умеет строить seaborn:\n",
    "\n",
    "- sns.barplot(x=x, y=y, palette=..., ci=None)  # ci - чтобы убрать черную полосу, это стандартное отклонение\n",
    "- sns.pointplot(x=x,y=y, color='lime', alpha=0.8)\n",
    "- sns.jointplot(x=x, y=y, kind=\"kde\", height=7)"
   ]
  },
  {
   "cell_type": "markdown",
   "id": "c80fe239-6c5b-4661-8b9a-20875a85c370",
   "metadata": {},
   "source": [
    "Поскольку тема построения графиков неисчерпаема, я всячески вас побуждаю самостоятельно копаться в документации и на стэковерфлоу, чтобы рисовать все более красивые графики. :) "
   ]
  },
  {
   "cell_type": "markdown",
   "id": "e9cc716b-be16-4027-b09a-97541d8bd92b",
   "metadata": {},
   "source": [
    "#### ipywidgets"
   ]
  },
  {
   "cell_type": "markdown",
   "id": "074d5de3-7b41-4522-bd9e-2584af01252c",
   "metadata": {},
   "source": [
    "Последнее, что мы с вами посмотрели - совсем уже необязательная, но просто клевая библиотека для интерактивных виджетов в юпитере. В ней есть, вообще говоря, много всего, мы посмотрели буквально пару вещей. \n",
    "\n",
    "Библиотеку, разумеется, тоже нужно устанавливать (pip install ipywidgets). Работает она только в .ipynb (для чего и предназначена). \n",
    "\n",
    "Сами виджеты - это экземпляры одного из классов, доступных в библиотеке. Все доступные виджеты можно изучить по [документации](https://ipywidgets.readthedocs.io/en/latest/). "
   ]
  },
  {
   "cell_type": "markdown",
   "id": "fcf92069-8dae-4aa7-9874-c7530e456ab5",
   "metadata": {},
   "source": [
    "Как сделать прогрессбар и окошечко с изменяющимися цифрами:"
   ]
  },
  {
   "cell_type": "code",
   "execution_count": 15,
   "id": "a3b77af1-bfeb-4a86-9974-bfe9371e090a",
   "metadata": {},
   "outputs": [
    {
     "data": {
      "application/vnd.jupyter.widget-view+json": {
       "model_id": "e5c97bfa36ee490a8e5707448962d264",
       "version_major": 2,
       "version_minor": 0
      },
      "text/plain": [
       "IntProgress(value=0)"
      ]
     },
     "metadata": {},
     "output_type": "display_data"
    }
   ],
   "source": [
    "from ipywidgets import IntProgress, IntText\n",
    "from IPython.display import display\n",
    "import time\n",
    "\n",
    "max_count = 100\n",
    "\n",
    "f = IntProgress(min=0, max=max_count) # создаем экземпляр класса\n",
    "display(f) # отображаем наш экземпляр\n",
    "window = IntText(value=0, description='Passed:') # описание появится слева от окошка\n",
    "display(window)\n",
    "\n",
    "for i in range(100):\n",
    "    f.value += 1 # signal to increment the progress bar\n",
    "    time.sleep(.1)"
   ]
  },
  {
   "cell_type": "markdown",
   "id": "d932652e-f85c-467f-a267-9b623c309828",
   "metadata": {},
   "source": [
    "В настройках можно, конечно, сделать и так, чтобы проценты отображались поверх ползунка, и всякое прочее (цвет поменять там). \n",
    "\n",
    "Также с помощью ipywidgets можно сделать интерактивный график. Допустим, у нас есть какая-то функция, которая строит график:"
   ]
  },
  {
   "cell_type": "code",
   "execution_count": 17,
   "id": "092c53d8-4ae5-413f-90e1-ba9017511743",
   "metadata": {},
   "outputs": [],
   "source": [
    "from random import randrange\n",
    "def myfunc(x, n):\n",
    "    x = [randrange(0, x + 1) for i in range(n)]\n",
    "    y = [i ** 2 for i in x]\n",
    "    sns.barplot(x=x, y=y, color='lime', ci=None)\n",
    "    plt.show()"
   ]
  },
  {
   "cell_type": "markdown",
   "id": "e72516a2-8716-432f-9bed-ffc37f662f44",
   "metadata": {},
   "source": [
    "Теперь можно к ней применить метод interact, который позволит в интерактивном режиме выбирать ее параметры, и функция будет график перестраивать без необходимости перезапускать ячейку и вручную вписывать параметры. "
   ]
  },
  {
   "cell_type": "code",
   "execution_count": 18,
   "id": "9df2b723-b990-46d3-a4e9-451afc79e7d1",
   "metadata": {},
   "outputs": [
    {
     "data": {
      "application/vnd.jupyter.widget-view+json": {
       "model_id": "a658588086084edcaf5e7dd269e1a996",
       "version_major": 2,
       "version_minor": 0
      },
      "text/plain": [
       "interactive(children=(IntSlider(value=1, description='x', max=30, min=1), Dropdown(description='n', options=(1…"
      ]
     },
     "metadata": {},
     "output_type": "display_data"
    },
    {
     "data": {
      "text/plain": [
       "<function __main__.myfunc(x, n)>"
      ]
     },
     "execution_count": 18,
     "metadata": {},
     "output_type": "execute_result"
    }
   ],
   "source": [
    "from ipywidgets import interact, IntSlider\n",
    "\n",
    "interact(myfunc, x=IntSlider(min=1, max=30, step=1, value=1), n=list(range(1, 11)))"
   ]
  }
 ],
 "metadata": {
  "kernelspec": {
   "display_name": "Python 3 (ipykernel)",
   "language": "python",
   "name": "python3"
  },
  "language_info": {
   "codemirror_mode": {
    "name": "ipython",
    "version": 3
   },
   "file_extension": ".py",
   "mimetype": "text/x-python",
   "name": "python",
   "nbconvert_exporter": "python",
   "pygments_lexer": "ipython3",
   "version": "3.8.10"
  }
 },
 "nbformat": 4,
 "nbformat_minor": 5
}
