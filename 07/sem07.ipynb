{
 "cells": [
  {
   "cell_type": "markdown",
   "id": "e62ede12-f800-49e4-aa99-9b3745223443",
   "metadata": {},
   "source": [
    "#### Задача 1.\n",
    "\n",
    "Возьмите любой текст. Разбейте его на слова с помощью регулярных выражений либо любого токенизатора, какой знаете, посчитайте относительные частоты слов (частота слова / общее количество слов). Для первых 10 слов постройте график их частот. Это может быть просто линия (можете использовать перечень доступных параметров настройки [в документации](https://matplotlib.org/stable/api/_as_gen/matplotlib.pyplot.plot.html)), а может быть гистограмма или диаграмма, как вам больше нравится. "
   ]
  },
  {
   "cell_type": "code",
   "execution_count": null,
   "id": "cbe8c8cb-5e39-4be5-b90b-9853393cc481",
   "metadata": {},
   "outputs": [],
   "source": [
    "# your code here"
   ]
  },
  {
   "cell_type": "markdown",
   "id": "17e20eea-eb71-4cd2-bbca-5563662c328b",
   "metadata": {},
   "source": [
    "#### Задача 2.\n",
    "\n",
    "Представим себе, что у нас есть какие-нибудь данные по годам с 2000 по 2020 (можете просто сгенерировать случайные числа). Нам нужно разделить эти данные по пятилетиям и отобразить эти пятилетки на отдельных графиках. Постройте 4 графика в одном. "
   ]
  },
  {
   "cell_type": "code",
   "execution_count": null,
   "id": "af8111ac-f0ec-45ff-b607-f679f840e588",
   "metadata": {},
   "outputs": [],
   "source": [
    "# your code here"
   ]
  },
  {
   "cell_type": "markdown",
   "id": "88a54b35-83df-437c-ba7f-8a3747f2c01c",
   "metadata": {},
   "source": [
    "#### Задача 3.\n",
    "\n",
    "Напишите функцию, которая будет строить график-гистограмму с помощью seaborn. Функция принимает два числа: x и n и генерирует n случайных значений от 0 до x. Таким образом, на оси X у нас числа от 1 до n, а на оси Y - сгенерированные значения. Выберите понравившуюся цветовую гамму. "
   ]
  },
  {
   "cell_type": "code",
   "execution_count": null,
   "id": "77c2ae58-bd99-49c4-a49b-34b0798dcab8",
   "metadata": {},
   "outputs": [],
   "source": [
    "# your code here"
   ]
  },
  {
   "cell_type": "markdown",
   "id": "2d1aefec-0a57-4845-ba4a-8eb25c937eed",
   "metadata": {},
   "source": [
    "#### Задача 4. \n",
    "\n",
    "Сделайте график из задачи 3 интерактивным. "
   ]
  },
  {
   "cell_type": "code",
   "execution_count": null,
   "id": "eb56ebf8-4b1a-41dd-b332-bee315d85b16",
   "metadata": {},
   "outputs": [],
   "source": [
    "# your code here"
   ]
  }
 ],
 "metadata": {
  "kernelspec": {
   "display_name": "Python 3 (ipykernel)",
   "language": "python",
   "name": "python3"
  },
  "language_info": {
   "codemirror_mode": {
    "name": "ipython",
    "version": 3
   },
   "file_extension": ".py",
   "mimetype": "text/x-python",
   "name": "python",
   "nbconvert_exporter": "python",
   "pygments_lexer": "ipython3",
   "version": "3.8.10"
  }
 },
 "nbformat": 4,
 "nbformat_minor": 5
}
