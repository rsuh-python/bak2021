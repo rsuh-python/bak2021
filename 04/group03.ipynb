{
 "cells": [
  {
   "cell_type": "markdown",
   "id": "6c8459b4-af40-4b68-bc4d-86111840be90",
   "metadata": {},
   "source": [
    "NLP - Natural Language Processing\n",
    "\n",
    "pipeline пайплайн\n",
    "\n",
    "бейзлайн baseline\n",
    "\n",
    "SOTA (State of the Art)\n",
    "\n",
    "NER\n",
    "\n",
    "1. Собрать тексты (crawling - Apache Nutch, scraping - twint, API)\n",
    "2. Распарсить html (beautifulsoup4, justext)\n",
    "        boilerplate - стандартизованные тексты, шаблоны...\n",
    "3. Дедубликация, фильтрация (спам)\n",
    "4. Предложения, слова и знаки пунктуации\n",
    "        токенизация Нью-Йорк бледно-синий\n",
    "[['', '', ''], [...]]\n",
    "5. парсинг (морфологический, синтаксический, семантический)\n",
    "\\*. Named Entities"
   ]
  },
  {
   "cell_type": "markdown",
   "id": "84482090-f221-4131-8f24-2fd8c16da038",
   "metadata": {},
   "source": [
    "- rule-based (правиловые)\n",
    "- статистические (probabilistic, statistic)\n",
    "- нейронные сети"
   ]
  },
  {
   "cell_type": "markdown",
   "id": "47003412-c74c-446c-abcd-46460b844395",
   "metadata": {},
   "source": [
    "NLTK\n",
    "\n",
    "SpaCy\n",
    "\n",
    "TextBlob\n",
    "\n",
    "natasha\n",
    "\n",
    "deeppavlov"
   ]
  },
  {
   "cell_type": "code",
   "execution_count": 4,
   "id": "195ddb01-6f12-4f4a-b294-08097eb29c9f",
   "metadata": {},
   "outputs": [
    {
     "name": "stdout",
     "output_type": "stream",
     "text": [
      "Requirement already satisfied: razdel in e:\\jupyterlab-portable-3.0.16-3.8\\apps\\lib\\site-packages (0.5.0)"
     ]
    },
    {
     "name": "stderr",
     "output_type": "stream",
     "text": [
      "WARNING: You are using pip version 21.1.2; however, version 22.0.4 is available.\n",
      "You should consider upgrading via the 'E:\\JupyterLab-Portable-3.0.16-3.8\\apps\\python.exe -m pip install --upgrade pip' command.\n"
     ]
    },
    {
     "name": "stdout",
     "output_type": "stream",
     "text": [
      "\n"
     ]
    }
   ],
   "source": [
    "!pip install razdel"
   ]
  },
  {
   "cell_type": "code",
   "execution_count": 6,
   "id": "41970569-34a1-4126-a8c1-cb792e396a34",
   "metadata": {},
   "outputs": [
    {
     "name": "stdout",
     "output_type": "stream",
     "text": [
      "Пршла я такая сегодня домой\n",
      "А там кот на кухне наблевал!\n",
      "\n"
     ]
    }
   ],
   "source": [
    "from razdel import sentenize\n",
    "\n",
    "raw = \"\"\"Пршла я такая сегодня домой\n",
    "А там кот на кухне наблевал!\"\"\"\n",
    "\n",
    "sents = [s.text for s in sentenize(raw)]\n",
    "for sent in sents:\n",
    "    print(sent)\n",
    "    print()"
   ]
  },
  {
   "cell_type": "code",
   "execution_count": 11,
   "id": "99dc6f52-ee00-4518-9a5e-f8dfda6ae858",
   "metadata": {},
   "outputs": [
    {
     "name": "stdout",
     "output_type": "stream",
     "text": [
      "Я пришел к тебе с приветом,\n",
      "Рассказать, что солнце встало,\n",
      "Что оно горячим светом\n",
      "По листам затрепетало; Рассказать, что лес проснулся,\n",
      "Весь проснулся, веткой каждой,\n",
      "Каждой птицей встрепенулся\n",
      "И весенней полон жаждой; Рассказать, что с той же страстью,\n",
      "Как вчера, пришел я снова,\n",
      "Что душа всё так же счастью\n",
      "И тебе служить готова; Рассказать, что отовсюду\n",
      "На меня весельем веет,\n",
      "Что не знаю сам, что буду\n",
      "Петь, — но только песня зреет.\n",
      "\n"
     ]
    }
   ],
   "source": [
    "from rusenttokenize import ru_sent_tokenize\n",
    "\n",
    "raw = \"\"\"Я пришел к тебе с приветом,\n",
    "Рассказать, что солнце встало,\n",
    "Что оно горячим светом\n",
    "По листам затрепетало; Рассказать, что лес проснулся,\n",
    "Весь проснулся, веткой каждой,\n",
    "Каждой птицей встрепенулся\n",
    "И весенней полон жаждой; Рассказать, что с той же страстью,\n",
    "Как вчера, пришел я снова,\n",
    "Что душа всё так же счастью\n",
    "И тебе служить готова; Рассказать, что отовсюду\n",
    "На меня весельем веет,\n",
    "Что не знаю сам, что буду\n",
    "Петь, — но только песня зреет.\"\"\"\n",
    "ru_sent_tokenize(raw)\n",
    "\n",
    "for sent in ru_sent_tokenize(raw):\n",
    "    print(sent)\n",
    "    print()"
   ]
  },
  {
   "cell_type": "code",
   "execution_count": 13,
   "id": "8a264ef4-4a0a-4a3f-b666-f71666471485",
   "metadata": {},
   "outputs": [
    {
     "data": {
      "text/plain": [
       "['Термос',\n",
       " 'Крышка-чашка',\n",
       " ',',\n",
       " 'Кнопка-клапан',\n",
       " ',',\n",
       " 'Ударопрочный',\n",
       " 'корпус',\n",
       " 'HITT',\n",
       " ',',\n",
       " '0.5',\n",
       " 'л',\n",
       " '.',\n",
       " '4544',\n",
       " 'отзыва',\n",
       " '.',\n",
       " '0.5.',\n",
       " '1',\n",
       " '.',\n",
       " 'В',\n",
       " 'корзину',\n",
       " '.',\n",
       " 'Завтра',\n",
       " 'доставит',\n",
       " 'Ozon',\n",
       " ',',\n",
       " 'продавец',\n",
       " 'HITT',\n",
       " '.']"
      ]
     },
     "execution_count": 13,
     "metadata": {},
     "output_type": "execute_result"
    }
   ],
   "source": [
    "from razdel import tokenize\n",
    "\n",
    "raw = \"Термос Крышка-чашка, Кнопка-клапан, Ударопрочный корпус HITT, 0.5 л. 4544 отзыва. 0.5. 1. В корзину. Завтра доставит Ozon, продавец HITT.\"\n",
    "tokens = [t.text for t in tokenize(raw)]\n",
    "tokens"
   ]
  },
  {
   "cell_type": "code",
   "execution_count": null,
   "id": "40832bbb-2347-45d4-b74e-8a98ca31a323",
   "metadata": {},
   "outputs": [],
   "source": []
  }
 ],
 "metadata": {
  "kernelspec": {
   "display_name": "Python 3",
   "language": "python",
   "name": "python3"
  },
  "language_info": {
   "codemirror_mode": {
    "name": "ipython",
    "version": 3
   },
   "file_extension": ".py",
   "mimetype": "text/x-python",
   "name": "python",
   "nbconvert_exporter": "python",
   "pygments_lexer": "ipython3",
   "version": "3.8.10"
  }
 },
 "nbformat": 4,
 "nbformat_minor": 5
}
