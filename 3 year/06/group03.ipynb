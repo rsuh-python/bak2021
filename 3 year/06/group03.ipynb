{
 "cells": [
  {
   "cell_type": "code",
   "execution_count": null,
   "id": "dc49917e-f1b1-4d85-b787-086406977740",
   "metadata": {},
   "outputs": [],
   "source": [
    "!pip install nltk"
   ]
  },
  {
   "cell_type": "code",
   "execution_count": 1,
   "id": "c7b03223-eda4-4e50-a7f2-193f765449e2",
   "metadata": {},
   "outputs": [
    {
     "name": "stdout",
     "output_type": "stream",
     "text": [
      "showing info https://raw.githubusercontent.com/nltk/nltk_data/gh-pages/index.xml\n"
     ]
    },
    {
     "data": {
      "text/plain": [
       "True"
      ]
     },
     "execution_count": 1,
     "metadata": {},
     "output_type": "execute_result"
    }
   ],
   "source": [
    "import nltk\n",
    "nltk.download()"
   ]
  },
  {
   "cell_type": "code",
   "execution_count": 2,
   "id": "5b1352ae-170d-42e4-82ef-7c2d3d54f969",
   "metadata": {},
   "outputs": [
    {
     "name": "stdout",
     "output_type": "stream",
     "text": [
      "*** Introductory Examples for the NLTK Book ***\n",
      "Loading text1, ..., text9 and sent1, ..., sent9\n",
      "Type the name of the text or sentence to view it.\n",
      "Type: 'texts()' or 'sents()' to list the materials.\n",
      "text1: Moby Dick by Herman Melville 1851\n",
      "text2: Sense and Sensibility by Jane Austen 1811\n",
      "text3: The Book of Genesis\n",
      "text4: Inaugural Address Corpus\n",
      "text5: Chat Corpus\n",
      "text6: Monty Python and the Holy Grail\n",
      "text7: Wall Street Journal\n",
      "text8: Personals Corpus\n",
      "text9: The Man Who Was Thursday by G . K . Chesterton 1908\n"
     ]
    }
   ],
   "source": [
    "from nltk.book import *"
   ]
  },
  {
   "cell_type": "code",
   "execution_count": 3,
   "id": "afc7aef6-9a10-4348-acff-8307ee148e7d",
   "metadata": {},
   "outputs": [
    {
     "data": {
      "text/plain": [
       "<Text: Moby Dick by Herman Melville 1851>"
      ]
     },
     "execution_count": 3,
     "metadata": {},
     "output_type": "execute_result"
    }
   ],
   "source": [
    "text1"
   ]
  },
  {
   "cell_type": "code",
   "execution_count": 4,
   "id": "1e63b373-74cf-4b19-8f16-786a98a57ad3",
   "metadata": {},
   "outputs": [
    {
     "data": {
      "text/plain": [
       "nltk.text.Text"
      ]
     },
     "execution_count": 4,
     "metadata": {},
     "output_type": "execute_result"
    }
   ],
   "source": [
    "type(text1)"
   ]
  },
  {
   "cell_type": "code",
   "execution_count": 5,
   "id": "a366a4e6-424a-4213-8949-a22c2b5fc3e4",
   "metadata": {},
   "outputs": [
    {
     "data": {
      "text/plain": [
       "260819"
      ]
     },
     "execution_count": 5,
     "metadata": {},
     "output_type": "execute_result"
    }
   ],
   "source": [
    "len(text1)"
   ]
  },
  {
   "cell_type": "code",
   "execution_count": 8,
   "id": "7fb4b118-a45c-453e-8a80-2962ee30566a",
   "metadata": {},
   "outputs": [
    {
     "data": {
      "text/plain": [
       "906"
      ]
     },
     "execution_count": 8,
     "metadata": {},
     "output_type": "execute_result"
    }
   ],
   "source": [
    "text1.count('whale')"
   ]
  },
  {
   "cell_type": "code",
   "execution_count": 9,
   "id": "58a1ba56-4199-4c3c-8a7a-d475864f9999",
   "metadata": {},
   "outputs": [
    {
     "name": "stdout",
     "output_type": "stream",
     "text": [
      "Displaying 3 of 1226 matches:\n",
      "m by what name a whale - fish is to be \n",
      ".\" -- HACKLUYT \" WHALE . ... Sw . and D\n",
      "' S DICTIONARY \" WHALE . ... It is more\n"
     ]
    }
   ],
   "source": [
    "text1.concordance('whale', width=40, lines=3)"
   ]
  },
  {
   "cell_type": "code",
   "execution_count": 10,
   "id": "a234a545-a270-44f6-94b7-fca49491bee5",
   "metadata": {},
   "outputs": [
    {
     "name": "stdout",
     "output_type": "stream",
     "text": [
      "ship boat sea time captain world man deck pequod other\n"
     ]
    }
   ],
   "source": [
    "text1.similar('whale', num=10)"
   ]
  },
  {
   "cell_type": "code",
   "execution_count": 11,
   "id": "003ad800-6ebd-4ea5-967f-ddcffa163f69",
   "metadata": {},
   "outputs": [
    {
     "name": "stdout",
     "output_type": "stream",
     "text": [
      "the_s the_and the_is the_in the_the the_as the_was the_which the_i\n",
      "a_in the_has the_when the_had the_with the_to the_by the_so the_that\n",
      "the_would the_a\n"
     ]
    }
   ],
   "source": [
    "text1.common_contexts(['whale', 'ship'])"
   ]
  },
  {
   "cell_type": "code",
   "execution_count": null,
   "id": "383f2ead-b59d-4175-8445-64b596e8a8c0",
   "metadata": {},
   "outputs": [],
   "source": [
    "text1.dispersion_plot(['Ahab', 'Ishmael'])"
   ]
  },
  {
   "cell_type": "code",
   "execution_count": 14,
   "id": "19dfef47-21da-4ed4-b3a7-45063402de55",
   "metadata": {},
   "outputs": [
    {
     "name": "stderr",
     "output_type": "stream",
     "text": [
      "Building ngram index...\n"
     ]
    },
    {
     "name": "stdout",
     "output_type": "stream",
     "text": [
      "long , from one to the top - mast , and no coffin and went out a sea\n",
      "captain -- this peaking of the whales . , so as to preserve all his\n",
      "might had in former years abounding with them , they toil with their\n",
      "lances , strange tales of Southern whaling . at once the bravest\n",
      "Indians he was , after in vain strove to pierce the profundity . ?\"\n",
      "then ?\" a levelled flame of pale , And give no chance , watch him ;\n",
      "though the line , it is to be gainsaid . he being\n"
     ]
    },
    {
     "data": {
      "text/plain": [
       "'long , from one to the top - mast , and no coffin and went out a sea\\ncaptain -- this peaking of the whales . , so as to preserve all his\\nmight had in former years abounding with them , they toil with their\\nlances , strange tales of Southern whaling . at once the bravest\\nIndians he was , after in vain strove to pierce the profundity . ?\"\\nthen ?\" a levelled flame of pale , And give no chance , watch him ;\\nthough the line , it is to be gainsaid . he being'"
      ]
     },
     "execution_count": 14,
     "metadata": {},
     "output_type": "execute_result"
    }
   ],
   "source": [
    "text1.generate()"
   ]
  },
  {
   "cell_type": "code",
   "execution_count": 15,
   "id": "a4e77b6d-ee45-4947-8cf0-d9b5ac959601",
   "metadata": {},
   "outputs": [
    {
     "data": {
      "text/plain": [
       "['THE',\n",
       " 'suburb',\n",
       " 'of',\n",
       " 'Saffron',\n",
       " 'Park',\n",
       " 'lay',\n",
       " 'on',\n",
       " 'the',\n",
       " 'sunset',\n",
       " 'side',\n",
       " 'of',\n",
       " 'London',\n",
       " ',',\n",
       " 'as',\n",
       " 'red',\n",
       " 'and',\n",
       " 'ragged',\n",
       " 'as',\n",
       " 'a',\n",
       " 'cloud',\n",
       " 'of',\n",
       " 'sunset',\n",
       " '.']"
      ]
     },
     "execution_count": 15,
     "metadata": {},
     "output_type": "execute_result"
    }
   ],
   "source": [
    "sent9"
   ]
  },
  {
   "cell_type": "code",
   "execution_count": 20,
   "id": "5a6dd2a7-75db-4871-8f4e-d006401c14a2",
   "metadata": {},
   "outputs": [
    {
     "data": {
      "text/plain": [
       "[('THE', 'suburb'),\n",
       " ('suburb', 'of'),\n",
       " ('of', 'Saffron'),\n",
       " ('Saffron', 'Park'),\n",
       " ('Park', 'lay'),\n",
       " ('lay', 'on'),\n",
       " ('on', 'the'),\n",
       " ('the', 'sunset'),\n",
       " ('sunset', 'side'),\n",
       " ('side', 'of'),\n",
       " ('of', 'London'),\n",
       " ('London', ','),\n",
       " (',', 'as'),\n",
       " ('as', 'red'),\n",
       " ('red', 'and'),\n",
       " ('and', 'ragged'),\n",
       " ('ragged', 'as'),\n",
       " ('as', 'a'),\n",
       " ('a', 'cloud'),\n",
       " ('cloud', 'of'),\n",
       " ('of', 'sunset'),\n",
       " ('sunset', '.')]"
      ]
     },
     "execution_count": 20,
     "metadata": {},
     "output_type": "execute_result"
    }
   ],
   "source": [
    "from nltk.util import ngrams  #bigrams\n",
    "\n",
    "list(ngrams(sent9, 2))"
   ]
  },
  {
   "cell_type": "code",
   "execution_count": 21,
   "id": "f994920f-376a-4f29-b093-ea2cb371b725",
   "metadata": {},
   "outputs": [
    {
     "name": "stdout",
     "output_type": "stream",
     "text": [
      "Sperm Whale; Moby Dick; White Whale; old man; Captain Ahab; sperm\n",
      "whale; Right Whale; Captain Peleg; New Bedford; Cape Horn; cried Ahab;\n",
      "years ago; lower jaw; never mind; Father Mapple; cried Stubb; chief\n",
      "mate; white whale; ivory leg; one hand\n"
     ]
    }
   ],
   "source": [
    "text1.collocations()"
   ]
  },
  {
   "cell_type": "code",
   "execution_count": 22,
   "id": "0bb2d070-df1b-415e-a7a5-8a25b7c16254",
   "metadata": {},
   "outputs": [],
   "source": [
    "raw = open('warpeace.txt', encoding='cp1251').read()"
   ]
  },
  {
   "cell_type": "code",
   "execution_count": 23,
   "id": "3e44886c-f0c7-4049-88b5-61128b481e2c",
   "metadata": {},
   "outputs": [
    {
     "data": {
      "text/plain": [
       "'Спасибо, что ск'"
      ]
     },
     "execution_count": 23,
     "metadata": {},
     "output_type": "execute_result"
    }
   ],
   "source": [
    "raw[:15]"
   ]
  },
  {
   "cell_type": "code",
   "execution_count": 24,
   "id": "bee5b2fd-1c48-46fa-9d36-15ce97f1fec9",
   "metadata": {},
   "outputs": [],
   "source": [
    "tokens = nltk.word_tokenize(raw)"
   ]
  },
  {
   "cell_type": "code",
   "execution_count": 25,
   "id": "02a777fb-c54c-42ee-9a5d-458efb1689d8",
   "metadata": {},
   "outputs": [
    {
     "data": {
      "text/plain": [
       "['Спасибо', ',', 'что', 'скачали', 'книгу']"
      ]
     },
     "execution_count": 25,
     "metadata": {},
     "output_type": "execute_result"
    }
   ],
   "source": [
    "tokens[:5]"
   ]
  },
  {
   "cell_type": "code",
   "execution_count": 26,
   "id": "65c04570-3319-44f4-864c-0f9690498c46",
   "metadata": {},
   "outputs": [],
   "source": [
    "text10 = Text(tokens)"
   ]
  },
  {
   "cell_type": "code",
   "execution_count": 27,
   "id": "69362101-2dc7-4ed2-8290-6afa576760d7",
   "metadata": {},
   "outputs": [
    {
     "data": {
      "text/plain": [
       "<Text: Спасибо , что скачали книгу в бесплатной электронной...>"
      ]
     },
     "execution_count": 27,
     "metadata": {},
     "output_type": "execute_result"
    }
   ],
   "source": [
    "text10"
   ]
  },
  {
   "cell_type": "code",
   "execution_count": 28,
   "id": "cbca28a9-5dcd-4cf0-b532-d5977ada94e6",
   "metadata": {},
   "outputs": [
    {
     "data": {
      "image/png": "[encoded data removed]",
      "text/plain": [
       "<Figure size 432x288 with 1 Axes>"
      ]
     },
     "metadata": {
      "needs_background": "light"
     },
     "output_type": "display_data"
    }
   ],
   "source": [
    "text10.dispersion_plot(['Пьер', 'Наташа'])"
   ]
  },
  {
   "cell_type": "code",
   "execution_count": 29,
   "id": "51c413f5-ce0a-4781-ad67-27d4fbaf54d1",
   "metadata": {},
   "outputs": [
    {
     "name": "stdout",
     "output_type": "stream",
     "text": [
      "Displaying 25 of 601 matches:\n",
      " . Новое лицо это был молодой князь Андрей Болконский , муж маленькой княгини \n",
      "нт о m-lle Жорж и Бонапарте ! Князь Андрей зажмурился и отвернулся . Пьер , со\n",
      "л к нему и взял его за руку . Князь Андрей , не оглядываясь , сморщил лицо в г\n",
      "о ? – Нет , нельзя , – сказал князь Андрей , смеясь , пожатием руки давая знат\n",
      "о . – Очень хороша , – сказал князь Андрей . – Очень , – сказал Пьер . Проходя\n",
      " весь свет потерял голову . ] Князь Андрей усмехнулся , прямо глядя в лицо Анн\n",
      " – Это сомнительно , – сказал князь Андрей . – Monsieur le vicomte [ 67 - Госп\n",
      "говорил Бонапарт . ] – сказал князь Андрей с усмешкой . ( Видно было , что вик\n",
      " , а Бонапарте уничтожил ее . Князь Андрей с улыбкой посматривал то на Пьера ,\n",
      "всем отвечал вдруг ? – сказал князь Андрей . – Притом надо в поступках государ\n",
      "зя не сознаться , – продолжал князь Андрей , – Наполеон как человек велик на А\n",
      " , которые трудно оправдать . Князь Андрей , видимо , желавший смягчить неловк\n",
      " невольно почувствовали это . Князь Андрей вышел в переднюю и , подставив плеч\n",
      " , – сухо-неприятно обратился князь Андрей по-русски к князю Ипполиту , мешавш\n",
      " – сказал , входя в кабинет , князь Андрей и потирая маленькие белые ручки . П\n",
      "не политическим равновесием . Князь Андрей не интересовался , видимо , этими о\n",
      "дешь или дипломат ? – спросил князь Андрей после минутного молчания . Пьер сел\n",
      " Про этот выбор и говорил ему князь Андрей . Пьер потер себе лоб . – Но он мас\n",
      "редни , – остановил его опять князь Андрей , – поговорим лучше о деле . Был ты\n",
      "ловека в мире… это нехорошо . Князь Андрей только пожал плечами на детские реч\n",
      "другое , чем то , что ответил князь Андрей . – Ежели бы все воевали только по \n",
      "ы прекрасно , – сказал Пьер . Князь Андрей усмехнулся . – Очень может быть , ч\n",
      "латье . Как будто очнувшись , князь Андрей встряхнулся , и лицо его приняло то\n",
      " элегантном и свежем платье . Князь Андрей встал , учтиво подвигая ей кресло .\n",
      "neur ! [ 91 - « Это известный князь Андрей ? » Честное слово ! ] – Она засмеял\n"
     ]
    }
   ],
   "source": [
    "text10.concordance('Андрей')"
   ]
  },
  {
   "cell_type": "code",
   "execution_count": 30,
   "id": "d4a172c3-facb-4379-8b0f-49adb9cd7400",
   "metadata": {},
   "outputs": [
    {
     "name": "stdout",
     "output_type": "stream",
     "text": [
      "князь Андрей; как будто; Князь Андрей; князя Андрея; Анна Михайловна;\n",
      "Анна Павловна; сказала она; княжна Марья; Марья Дмитриевна; может\n",
      "быть; князю Андрею; m-lle Bourienne; князь Василий; Княжна Марья;\n",
      "сказал князь; Илья Андреич; ваше сиятельство; Боже мой; тех пор;\n",
      "княжны Марьи\n"
     ]
    }
   ],
   "source": [
    "text10.collocations()"
   ]
  },
  {
   "cell_type": "code",
   "execution_count": 32,
   "id": "63469500-4abb-466f-b5a7-2510c9fb2a5e",
   "metadata": {},
   "outputs": [],
   "source": [
    "text = open('utf.txt').read()"
   ]
  },
  {
   "cell_type": "code",
   "execution_count": 33,
   "id": "86be52e9-c8e6-446d-8ee0-42d71fa300c4",
   "metadata": {},
   "outputs": [
    {
     "data": {
      "text/plain": [
       "'Р\\xadС‚Рѕ С‚РµРєСЃС‚ РЅР° СЂСѓСЃСЃРєРѕРј СЏР·С‹РєРµ.'"
      ]
     },
     "execution_count": 33,
     "metadata": {},
     "output_type": "execute_result"
    }
   ],
   "source": [
    "text"
   ]
  },
  {
   "cell_type": "code",
   "execution_count": null,
   "id": "fc5f88bb-90bd-4641-9b28-d0f28fe31dd9",
   "metadata": {},
   "outputs": [],
   "source": [
    "import nltk\n",
    "from nltk.book import *\n",
    "file = open(path, 'r', encoding='cp1251, utf8')\n",
    "raw = file.read()\n",
    "file.close()\n",
    "nltk.tokenize(...)\n",
    "nltk.text.Text(tokens)\n",
    "text.concordance()\n",
    "text.count()\n",
    "text.dispersion_plot([])\n",
    "text.collocations()\n",
    "\n",
    "from nltk.util import ngrams\n",
    "\n",
    "list(ngrams(text, n))\n",
    "from collections import Counter"
   ]
  },
  {
   "cell_type": "code",
   "execution_count": 34,
   "id": "a01e1f79-be13-44aa-a2c3-9d1a16705d11",
   "metadata": {},
   "outputs": [
    {
     "data": {
      "text/plain": [
       "Counter({1: 2, 2: 2, 3: 2, 4: 1})"
      ]
     },
     "execution_count": 34,
     "metadata": {},
     "output_type": "execute_result"
    }
   ],
   "source": [
    "lst = [1, 2, 3, 4, 1, 2, 3]\n",
    "\n",
    "from collections import Counter\n",
    "\n",
    "Counter(lst)"
   ]
  },
  {
   "cell_type": "code",
   "execution_count": null,
   "id": "8e788655-7887-460f-9b2a-cce79474d86c",
   "metadata": {},
   "outputs": [],
   "source": [
    "!pip install spacy"
   ]
  },
  {
   "cell_type": "code",
   "execution_count": 35,
   "id": "e3a9b603-bdc5-467e-a26c-e0fa6e4733d3",
   "metadata": {},
   "outputs": [
    {
     "name": "stdout",
     "output_type": "stream",
     "text": [
      "Collecting spacy\n",
      "  Downloading spacy-3.2.4-cp38-cp38-win_amd64.whl (11.6 MB)\n",
      "Requirement already satisfied: requests<3.0.0,>=2.13.0 in e:\\jupyterlab-portable-3.0.16-3.8\\apps\\lib\\site-packages (from spacy) (2.25.1)\n",
      "Collecting blis<0.8.0,>=0.4.0\n",
      "  Downloading blis-0.7.7-cp38-cp38-win_amd64.whl (6.6 MB)\n",
      "Collecting murmurhash<1.1.0,>=0.28.0\n",
      "  Downloading murmurhash-1.0.6-cp38-cp38-win_amd64.whl (21 kB)\n",
      "Collecting spacy-loggers<2.0.0,>=1.0.0\n",
      "  Downloading spacy_loggers-1.0.2-py3-none-any.whl (7.2 kB)\n",
      "Collecting catalogue<2.1.0,>=2.0.6\n",
      "  Downloading catalogue-2.0.7-py3-none-any.whl (17 kB)\n",
      "Requirement already satisfied: packaging>=20.0 in e:\\jupyterlab-portable-3.0.16-3.8\\apps\\lib\\site-packages (from spacy) (20.9)\n",
      "Collecting spacy-legacy<3.1.0,>=3.0.8\n",
      "  Downloading spacy_legacy-3.0.9-py2.py3-none-any.whl (20 kB)\n",
      "Requirement already satisfied: tqdm<5.0.0,>=4.38.0 in e:\\jupyterlab-portable-3.0.16-3.8\\apps\\lib\\site-packages (from spacy) (4.63.1)\n",
      "Requirement already satisfied: numpy>=1.15.0 in e:\\jupyterlab-portable-3.0.16-3.8\\apps\\lib\\site-packages (from spacy) (1.20.3)\n",
      "Collecting thinc<8.1.0,>=8.0.12\n",
      "  Downloading thinc-8.0.15-cp38-cp38-win_amd64.whl (1.0 MB)\n",
      "Collecting langcodes<4.0.0,>=3.2.0\n",
      "  Downloading langcodes-3.3.0-py3-none-any.whl (181 kB)\n",
      "Collecting click<8.1.0\n",
      "  Downloading click-8.0.4-py3-none-any.whl (97 kB)\n",
      "Requirement already satisfied: setuptools in e:\\jupyterlab-portable-3.0.16-3.8\\apps\\lib\\site-packages (from spacy) (56.0.0)\n",
      "Collecting cymem<2.1.0,>=2.0.2\n",
      "  Downloading cymem-2.0.6-cp38-cp38-win_amd64.whl (36 kB)\n",
      "Collecting preshed<3.1.0,>=3.0.2\n",
      "  Downloading preshed-3.0.6-cp38-cp38-win_amd64.whl (113 kB)\n",
      "Requirement already satisfied: jinja2 in e:\\jupyterlab-portable-3.0.16-3.8\\apps\\lib\\site-packages (from spacy) (3.0.1)\n",
      "Collecting pydantic!=1.8,!=1.8.1,<1.9.0,>=1.7.4\n",
      "  Downloading pydantic-1.8.2-cp38-cp38-win_amd64.whl (2.0 MB)\n",
      "Collecting typer<0.5.0,>=0.3.0\n",
      "  Downloading typer-0.4.1-py3-none-any.whl (27 kB)\n",
      "Collecting wasabi<1.1.0,>=0.8.1\n",
      "  Downloading wasabi-0.9.1-py3-none-any.whl (26 kB)\n",
      "Collecting srsly<3.0.0,>=2.4.1\n",
      "  Downloading srsly-2.4.3-cp38-cp38-win_amd64.whl (448 kB)\n",
      "Collecting pathy>=0.3.5\n",
      "  Downloading pathy-0.6.1-py3-none-any.whl (42 kB)\n",
      "Requirement already satisfied: colorama in e:\\jupyterlab-portable-3.0.16-3.8\\apps\\lib\\site-packages (from click<8.1.0->spacy) (0.4.4)\n",
      "Requirement already satisfied: pyparsing>=2.0.2 in e:\\jupyterlab-portable-3.0.16-3.8\\apps\\lib\\site-packages (from packaging>=20.0->spacy) (2.4.7)\n",
      "Collecting smart-open<6.0.0,>=5.0.0\n",
      "  Downloading smart_open-5.2.1-py3-none-any.whl (58 kB)\n",
      "Requirement already satisfied: typing-extensions>=3.7.4.3 in e:\\jupyterlab-portable-3.0.16-3.8\\apps\\lib\\site-packages (from pydantic!=1.8,!=1.8.1,<1.9.0,>=1.7.4->spacy) (4.1.1)\n",
      "Requirement already satisfied: urllib3<1.27,>=1.21.1 in e:\\jupyterlab-portable-3.0.16-3.8\\apps\\lib\\site-packages (from requests<3.0.0,>=2.13.0->spacy) (1.26.5)\n",
      "Requirement already satisfied: idna<3,>=2.5 in e:\\jupyterlab-portable-3.0.16-3.8\\apps\\lib\\site-packages (from requests<3.0.0,>=2.13.0->spacy) (2.10)\n",
      "Requirement already satisfied: certifi>=2017.4.17 in e:\\jupyterlab-portable-3.0.16-3.8\\apps\\lib\\site-packages (from requests<3.0.0,>=2.13.0->spacy) (2021.5.30)\n",
      "Requirement already satisfied: chardet<5,>=3.0.2 in e:\\jupyterlab-portable-3.0.16-3.8\\apps\\lib\\site-packages (from requests<3.0.0,>=2.13.0->spacy) (4.0.0)\n",
      "Requirement already satisfied: MarkupSafe>=2.0 in e:\\jupyterlab-portable-3.0.16-3.8\\apps\\lib\\site-packages (from jinja2->spacy) (2.0.1)\n",
      "Installing collected packages: murmurhash, cymem, click, catalogue, wasabi, typer, srsly, smart-open, pydantic, preshed, blis, thinc, spacy-loggers, spacy-legacy, pathy, langcodes, spacy\n",
      "  Attempting uninstall: click\n",
      "    Found existing installation: click 8.1.2\n",
      "    Uninstalling click-8.1.2:\n",
      "      Successfully uninstalled click-8.1.2\n",
      "Successfully installed blis-0.7.7 catalogue-2.0.7 click-8.0.4 cymem-2.0.6 langcodes-3.3.0 murmurhash-1.0.6 pathy-0.6.1 preshed-3.0.6 pydantic-1.8.2 smart-open-5.2.1 spacy-3.2.4 spacy-legacy-3.0.9 spacy-loggers-1.0.2 srsly-2.4.3 thinc-8.0.15 typer-0.4.1 wasabi-0.9.1\n"
     ]
    },
    {
     "name": "stderr",
     "output_type": "stream",
     "text": [
      "WARNING: You are using pip version 21.1.2; however, version 22.0.4 is available.\n",
      "You should consider upgrading via the 'E:\\JupyterLab-Portable-3.0.16-3.8\\apps\\python.exe -m pip install --upgrade pip' command.\n"
     ]
    }
   ],
   "source": [
    "import sys\n",
    "\n",
    "!{sys.executable} -m pip install spacy"
   ]
  },
  {
   "cell_type": "code",
   "execution_count": null,
   "id": "93a26f1c-bae4-4b62-b4da-3e8c3aa08a8b",
   "metadata": {},
   "outputs": [],
   "source": []
  }
 ],
 "metadata": {
  "kernelspec": {
   "display_name": "Python 3",
   "language": "python",
   "name": "python3"
  },
  "language_info": {
   "codemirror_mode": {
    "name": "ipython",
    "version": 3
   },
   "file_extension": ".py",
   "mimetype": "text/x-python",
   "name": "python",
   "nbconvert_exporter": "python",
   "pygments_lexer": "ipython3",
   "version": "3.8.10"
  }
 },
 "nbformat": 4,
 "nbformat_minor": 5
}
