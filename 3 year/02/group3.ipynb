{
 "cells": [
  {
   "cell_type": "markdown",
   "id": "269ded9a-f0b0-45d3-a0b7-25f0363e935f",
   "metadata": {},
   "source": [
    "- шаблон\n",
    "- match"
   ]
  },
  {
   "cell_type": "markdown",
   "id": "4d0093a2-70cd-4f91-acc2-da0700bda894",
   "metadata": {},
   "source": [
    "r'\\w\\w\\w\\d' = cat0, cat1, cat2, cat3... abc def"
   ]
  },
  {
   "cell_type": "markdown",
   "id": "04649ee4-98b3-4f8a-a3ac-bc25fafa23ff",
   "metadata": {},
   "source": [
    "- специальные последовательности\n",
    "\n",
    "\\t, \\n\n",
    "\n",
    "\\d - любая цифра\n",
    "\n",
    "\\w - любой буквенный символ [a-zA-Z...0-9_]\n",
    "\n",
    "\\s - любой пробельный символ [ \\t\\n]\n",
    "\n",
    "\\b - граница слова \\w\\W\n",
    "\n",
    "\\D - все, кроме цифр\n",
    "\n",
    "\\W , \\S \\B"
   ]
  },
  {
   "cell_type": "markdown",
   "id": "59e1e9ad-06c6-4c33-92b4-3f04af083ace",
   "metadata": {},
   "source": [
    "- метасимволы\n",
    "\n",
    "\\, ., +, *, ?, {}, [], (), ^ $ |\n",
    "\n",
    "\\ - экранирует\n",
    ". - любой символ кроме \\n\n",
    "| - или"
   ]
  },
  {
   "cell_type": "markdown",
   "id": "6b467563-0949-414f-8587-ea2466d6abdf",
   "metadata": {},
   "source": [
    "^ $ - начало и конец строки"
   ]
  },
  {
   "cell_type": "markdown",
   "id": "0cdd7742-92eb-43cd-bfb0-78a87e4ae726",
   "metadata": {},
   "source": [
    "- квантификаторы\n",
    "\n",
    "w{} - искать такое-то количество\n",
    "{1}\n",
    "{2,3}\n",
    "{,5}\n",
    "{5,}\n",
    "\n",
    "* - от нуля и больше\n",
    "+ - от 1 символа и больше\n",
    "? \n",
    "\n",
    "- жадные vs ленивые\n",
    "\n",
    "*?\n",
    "+?\n",
    "{}?"
   ]
  },
  {
   "cell_type": "markdown",
   "id": "48903f5c-87bf-497a-a48c-59d2ab35fa3f",
   "metadata": {},
   "source": [
    "[]\n",
    "[а-я]\n",
    "[] - один символ\n",
    "[.]\n",
    "нужно экранировать только ., \\t \\n\n",
    "[^]\n",
    "\n",
    "\\D = [^\\d]\n",
    "^ - отрицание\n",
    "[0-10] \n",
    "\n",
    "_ _ _\n",
    "34 0-9 0-9 | 5 0 0 \n",
    "300 301 321 400 399 499 500 501 599\n",
    "[][][]|..."
   ]
  },
  {
   "cell_type": "markdown",
   "id": "3caee4e5-14df-4fb1-b2f9-6a55980c8028",
   "metadata": {},
   "source": [
    "()\n",
    "a|bc = a, bc\n",
    "ac, bc (a|b)c\n",
    "\n",
    "abc|def = или abc, или def\n",
    "\n",
    "(...) так\\w{2} \\1\n",
    "\n",
    "(?:...) - без захвата содержимого"
   ]
  },
  {
   "cell_type": "markdown",
   "id": "5a1e4b10-4d49-430a-b9bd-45a57d332fc8",
   "metadata": {},
   "source": [
    "- проверки \n",
    "\n",
    "- позитивные / негативные\n",
    "- опережающие / ретроспективные\n",
    "\n",
    "lookahead (?=...)\n",
    "negative lookahead (?!...)\n",
    "\n",
    "+ lookbehind (?<=...)\n",
    "- (?<!...)"
   ]
  },
  {
   "cell_type": "code",
   "execution_count": 1,
   "id": "c65f93f8-70e3-44f3-a3f1-d98ff5fdf7ea",
   "metadata": {},
   "outputs": [],
   "source": [
    "import re"
   ]
  },
  {
   "cell_type": "markdown",
   "id": "627a05d9-fa06-4466-b10e-de9f473bedd9",
   "metadata": {},
   "source": [
    "- Pattern\n",
    "- Match"
   ]
  },
  {
   "cell_type": "code",
   "execution_count": null,
   "id": "7465a77a-481f-49d9-988d-498dcdce867a",
   "metadata": {},
   "outputs": [],
   "source": [
    "pattern = re.compile(r'...')  # компилирует паттерн"
   ]
  },
  {
   "cell_type": "code",
   "execution_count": null,
   "id": "d723d73e-1452-457f-be57-2f437536c2c5",
   "metadata": {},
   "outputs": [],
   "source": [
    "re.search(pattern, text)  # pattern - str, re.Pattern, text = str None"
   ]
  },
  {
   "cell_type": "code",
   "execution_count": null,
   "id": "5c7ae84d-4e08-4502-aae8-a7f8c0a57446",
   "metadata": {},
   "outputs": [],
   "source": [
    "re.findall(pattern, text) -> list"
   ]
  },
  {
   "cell_type": "markdown",
   "id": "54025bc5-7b4f-4858-8cf3-0075ea58b63c",
   "metadata": {},
   "source": [
    "m = re.Match()\n",
    "\n",
    "m.group(0) - все выражение\n",
    "\n",
    "m.group(1) - "
   ]
  },
  {
   "cell_type": "code",
   "execution_count": 2,
   "id": "42d5d03b-8ad2-4110-a659-5a2ca29fa5f8",
   "metadata": {},
   "outputs": [],
   "source": [
    "m = re.search('(a)(b)(c)', 'abc')"
   ]
  },
  {
   "cell_type": "code",
   "execution_count": 3,
   "id": "92f4e3f0-46ad-431e-bd14-d73582d35dfe",
   "metadata": {},
   "outputs": [
    {
     "data": {
      "text/plain": [
       "<re.Match object; span=(0, 3), match='abc'>"
      ]
     },
     "execution_count": 3,
     "metadata": {},
     "output_type": "execute_result"
    }
   ],
   "source": [
    "m"
   ]
  },
  {
   "cell_type": "code",
   "execution_count": 5,
   "id": "42259389-c67a-4189-b021-a32b755506e1",
   "metadata": {},
   "outputs": [
    {
     "data": {
      "text/plain": [
       "(0, 3)"
      ]
     },
     "execution_count": 5,
     "metadata": {},
     "output_type": "execute_result"
    }
   ],
   "source": [
    "m.span()"
   ]
  },
  {
   "cell_type": "code",
   "execution_count": 6,
   "id": "fc222959-3183-4141-8eac-1eaef6affc1a",
   "metadata": {},
   "outputs": [
    {
     "data": {
      "text/plain": [
       "0"
      ]
     },
     "execution_count": 6,
     "metadata": {},
     "output_type": "execute_result"
    }
   ],
   "source": [
    "m.start()"
   ]
  },
  {
   "cell_type": "code",
   "execution_count": 7,
   "id": "ea0aaa6e-1746-4a4d-9351-dd5621085b28",
   "metadata": {},
   "outputs": [
    {
     "data": {
      "text/plain": [
       "3"
      ]
     },
     "execution_count": 7,
     "metadata": {},
     "output_type": "execute_result"
    }
   ],
   "source": [
    "m.end()"
   ]
  },
  {
   "cell_type": "code",
   "execution_count": 8,
   "id": "91e01fb7-697c-408d-8453-1e493799709b",
   "metadata": {},
   "outputs": [
    {
     "data": {
      "text/plain": [
       "'abc'"
      ]
     },
     "execution_count": 8,
     "metadata": {},
     "output_type": "execute_result"
    }
   ],
   "source": [
    "m.group()  # m.group(0)"
   ]
  },
  {
   "cell_type": "code",
   "execution_count": 9,
   "id": "d127958c-21ed-42a3-bf51-411b1f360cd1",
   "metadata": {},
   "outputs": [
    {
     "data": {
      "text/plain": [
       "'a'"
      ]
     },
     "execution_count": 9,
     "metadata": {},
     "output_type": "execute_result"
    }
   ],
   "source": [
    "m.group(1)"
   ]
  },
  {
   "cell_type": "code",
   "execution_count": 15,
   "id": "2ff059ae-4880-431f-861e-f2a042d7013c",
   "metadata": {},
   "outputs": [],
   "source": [
    "pattern = r'(?:abc)(?:def)'  # abcdef abc"
   ]
  },
  {
   "cell_type": "code",
   "execution_count": 16,
   "id": "6c5724ec-6a97-48c4-9fe1-5bf020a1ec32",
   "metadata": {},
   "outputs": [
    {
     "data": {
      "text/plain": [
       "['abcdef', 'abcdef']"
      ]
     },
     "execution_count": 16,
     "metadata": {},
     "output_type": "execute_result"
    }
   ],
   "source": [
    "re.findall(pattern, 'abcdef, abcdef')"
   ]
  },
  {
   "cell_type": "code",
   "execution_count": null,
   "id": "23ba1c77-cdb5-4b85-8a09-3dd8f01f338c",
   "metadata": {},
   "outputs": [],
   "source": [
    "re.match(pattern, text, flags=re.I) ~ startswith() "
   ]
  },
  {
   "cell_type": "code",
   "execution_count": null,
   "id": "7a385b3c-709e-4780-9492-df094b1562dc",
   "metadata": {},
   "outputs": [],
   "source": [
    "re.fullmatch(pattern, text) "
   ]
  },
  {
   "cell_type": "code",
   "execution_count": null,
   "id": "fbfeb377-5e99-41a9-a31d-1591ced67f16",
   "metadata": {},
   "outputs": [],
   "source": [
    "re.split(pattern, text) # ~ str.split(pattern)"
   ]
  },
  {
   "cell_type": "code",
   "execution_count": null,
   "id": "86dbefc5-529f-4013-9352-d1c170651fa7",
   "metadata": {},
   "outputs": [],
   "source": [
    "re.sub(pattern, string_func, text) # ~ replace"
   ]
  },
  {
   "cell_type": "code",
   "execution_count": 19,
   "id": "b9c1ef9f-768f-4d6f-8597-576212ef5608",
   "metadata": {},
   "outputs": [
    {
     "data": {
      "text/plain": [
       "'qwerty adfg adfg qwerty'"
      ]
     },
     "execution_count": 19,
     "metadata": {},
     "output_type": "execute_result"
    }
   ],
   "source": [
    "def func(m):\n",
    "    return m.group().upper()\n",
    "\n",
    "re.sub(r'\\b\\w{3}\\b', 'adfg', 'qwerty asd fgh qwerty')"
   ]
  },
  {
   "cell_type": "markdown",
   "id": "2463a2b1-e3bb-4d14-b620-a3ca022c1614",
   "metadata": {},
   "source": [
    "aiLmsux\n",
    "\n",
    "i - case insensitive\n",
    "m - multiline\n",
    "s - dotall\n",
    "\n",
    "flags=re.I == (?i)\n",
    "re.DOTALL"
   ]
  },
  {
   "cell_type": "markdown",
   "id": "977583ed-7afe-47bd-bdcb-83e4066336d0",
   "metadata": {},
   "source": []
  }
 ],
 "metadata": {
  "kernelspec": {
   "display_name": "Python 3 (ipykernel)",
   "language": "python",
   "name": "python3"
  },
  "language_info": {
   "codemirror_mode": {
    "name": "ipython",
    "version": 3
   },
   "file_extension": ".py",
   "mimetype": "text/x-python",
   "name": "python",
   "nbconvert_exporter": "python",
   "pygments_lexer": "ipython3",
   "version": "3.8.10"
  }
 },
 "nbformat": 4,
 "nbformat_minor": 5
}
