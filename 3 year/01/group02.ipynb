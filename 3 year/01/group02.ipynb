{
 "cells": [
  {
   "cell_type": "code",
   "execution_count": 45,
   "id": "25f6f0a8-1cac-4241-a911-d5dae31eb9b9",
   "metadata": {},
   "outputs": [],
   "source": [
    "class Human:\n",
    "    eyes = 2 # статический атрибут\n",
    "    def __init__(self, name, age):\n",
    "        self.name = name\n",
    "        self.age = age\n",
    "        \n",
    "    def __str__(self):\n",
    "        return f'Имя: {self.name}, возраст: {self.age}'\n",
    "    \n",
    "    def __repr__(self):\n",
    "        return f\"Human('{self.name}', {self.age})\"\n",
    "    \n",
    "    def show_age(self):\n",
    "        x = self.age % 10\n",
    "        xx = self.age % 100\n",
    "        years = 'лет'\n",
    "        if not 11 <= xx <= 14:\n",
    "            if x == 1:\n",
    "                years = 'год'\n",
    "            elif x in {2, 3, 4}:\n",
    "                years = 'года'\n",
    "        print(f'{self.name}: {self.age} {years}')\n",
    "        \n",
    "    def show_off(self, other):\n",
    "        if self.age > other.age:\n",
    "            print(f'{self.name} старше, чем {other.name}!')\n",
    "        elif self.age < other.age:\n",
    "            print(f'{self.name} младше, чем {other.name}!')\n",
    "        else:\n",
    "            print('Похвастаться никому не удалось!')"
   ]
  },
  {
   "cell_type": "code",
   "execution_count": 46,
   "id": "e8fcdd96-f49d-4d87-9403-100df72d788c",
   "metadata": {},
   "outputs": [],
   "source": [
    "vasya = Human('Вася', 19)  \n",
    "petya = Human('Петя', 20)"
   ]
  },
  {
   "cell_type": "code",
   "execution_count": 47,
   "id": "9784f6c0-3172-4917-856b-de8558c03fbf",
   "metadata": {},
   "outputs": [
    {
     "name": "stdout",
     "output_type": "stream",
     "text": [
      "Вася младше, чем Петя!\n"
     ]
    }
   ],
   "source": [
    "vasya.show_off(petya)"
   ]
  },
  {
   "cell_type": "code",
   "execution_count": 36,
   "id": "e6e53a77-a984-468d-8481-a88aaf8c5357",
   "metadata": {},
   "outputs": [
    {
     "data": {
      "text/plain": [
       "Human('Вася', 19)"
      ]
     },
     "execution_count": 36,
     "metadata": {},
     "output_type": "execute_result"
    }
   ],
   "source": [
    "eval(\"Human('Вася', 19)\")"
   ]
  },
  {
   "cell_type": "code",
   "execution_count": 44,
   "id": "24a06cb2-1dbc-45ac-9a4c-2ae89f670334",
   "metadata": {},
   "outputs": [
    {
     "data": {
      "text/plain": [
       "True"
      ]
     },
     "execution_count": 44,
     "metadata": {},
     "output_type": "execute_result"
    }
   ],
   "source": [
    "'qwert'.isalpha()"
   ]
  },
  {
   "cell_type": "markdown",
   "id": "3f965a8b-13bd-4cac-9699-06acca565113",
   "metadata": {},
   "source": [
    "- магические методы (\\_\\_init\\_\\_)\n",
    "- методы экземпляра класса (принимают экземпляр self)\n",
    "- методы класса (dict.fromkeys())\n",
    "- статические методы"
   ]
  },
  {
   "cell_type": "raw",
   "id": "c09305bc-b3af-4cfe-9974-79eb004de657",
   "metadata": {},
   "source": [
    "import math\n",
    "Rectangle, Square, Circle\n",
    "\n",
    "class ...:\n",
    "    def __init__(self, a, b):\n",
    "    ...\n",
    "    \n",
    "    def __str__(self):\n",
    "    ...\n",
    "    \n",
    "    def __repr__(self):\n",
    "    \n",
    "    def area(self):\n",
    "    ... math.pi\n",
    "    \n",
    "o = ...()\n",
    "o.area()"
   ]
  },
  {
   "cell_type": "code",
   "execution_count": null,
   "id": "13999a83-4c44-42cd-8e70-60fdcf0d58b7",
   "metadata": {},
   "outputs": [],
   "source": []
  }
 ],
 "metadata": {
  "kernelspec": {
   "display_name": "Python 3 (ipykernel)",
   "language": "python",
   "name": "python3"
  },
  "language_info": {
   "codemirror_mode": {
    "name": "ipython",
    "version": 3
   },
   "file_extension": ".py",
   "mimetype": "text/x-python",
   "name": "python",
   "nbconvert_exporter": "python",
   "pygments_lexer": "ipython3",
   "version": "3.9.7"
  }
 },
 "nbformat": 4,
 "nbformat_minor": 5
}
