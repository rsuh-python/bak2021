{
 "cells": [
  {
   "cell_type": "code",
   "execution_count": null,
   "id": "d1437aef-77f0-4220-966b-179d2d0cf989",
   "metadata": {},
   "outputs": [],
   "source": [
    "[{'name': ..., 'surname': ..., 'age': ...}, ...]"
   ]
  },
  {
   "cell_type": "markdown",
   "id": "cfa37d54-1149-43a4-b234-11369f8749c4",
   "metadata": {},
   "source": [
    "Магические методы (__init__, __str__, __repr__)\n",
    "Методы экземпляра класса\n",
    "Методы класса  #dict.fromkeys()\n",
    "Статические методы # self"
   ]
  },
  {
   "cell_type": "code",
   "execution_count": null,
   "id": "c1110216-8abd-40c9-9717-0d98a7037892",
   "metadata": {},
   "outputs": [],
   "source": [
    "def func():\n",
    "    pass"
   ]
  },
  {
   "cell_type": "code",
   "execution_count": null,
   "id": "39516be1-aa5d-48f3-9c8e-b0ce5b5671a7",
   "metadata": {},
   "outputs": [],
   "source": [
    "func()"
   ]
  },
  {
   "cell_type": "markdown",
   "id": "c053c89c-d761-4075-a2b4-3849fa9e14aa",
   "metadata": {},
   "source": [
    "1. Triangle, Rectangle # side, base / width, length / a, b\n",
    "2. 3 магических метода \n",
    "3. def area(self): \n",
    "\n",
    "1. создать класс\n",
    "2. создать экземпляр\n",
    "3. вычислить его площадь\n",
    "треугольник - 1/2 * a * b\n",
    "прямоугольник - a * b\n",
    "\n",
    "d = s.are..\n",
    "s.area..."
   ]
  },
  {
   "cell_type": "code",
   "execution_count": 69,
   "id": "61f6a02f-090e-4ac0-b803-3d10af8b4c72",
   "metadata": {},
   "outputs": [],
   "source": [
    "class Human:\n",
    "    \n",
    "    def __init__(self, name, surname, age):\n",
    "        self.name = name\n",
    "        self.surname = surname\n",
    "        self.age = age\n",
    "        \n",
    "    def __str__(self):\n",
    "        return f'{self.name} {self.surname}, возраст - {self.age}'\n",
    "    \n",
    "    def __repr__(self):\n",
    "        return f\"Human('{self.name}', '{self.surname}', {self.age})\"\n",
    "    \n",
    "    def showage(self):\n",
    "        print(f'{self.name}: {self.age}')\n",
    "        \n",
    "    def show_off(self, other):\n",
    "        if self.age > other.age:\n",
    "            print(f'Хаха, {self.name} старше!')\n",
    "        elif self.age < other.age:\n",
    "            print(f'хаха, {other.name} совсем старик!')\n",
    "        else:\n",
    "            print('Похвастаться никому не удалось...')"
   ]
  },
  {
   "cell_type": "code",
   "execution_count": 70,
   "id": "9cf992a7-45fa-461d-b745-4ed2f147989c",
   "metadata": {},
   "outputs": [],
   "source": [
    "vasya = Human('Вася', 'Пупкин', 19)"
   ]
  },
  {
   "cell_type": "code",
   "execution_count": 71,
   "id": "aa6d2584-da42-4287-944d-cb05fdf9b356",
   "metadata": {},
   "outputs": [],
   "source": [
    "petya = Human('Петя', 'Васин', 20)"
   ]
  },
  {
   "cell_type": "code",
   "execution_count": 74,
   "id": "daf3fe24-9824-4f86-952d-1a5dccec400f",
   "metadata": {},
   "outputs": [
    {
     "name": "stdout",
     "output_type": "stream",
     "text": [
      "Хаха, Вася старше!\n"
     ]
    }
   ],
   "source": [
    "vasya.show_off(petya) # Human.show_off(vasya, petya)"
   ]
  },
  {
   "cell_type": "code",
   "execution_count": 73,
   "id": "1979072c-a933-45a6-a1b6-bcaaccb45a95",
   "metadata": {},
   "outputs": [],
   "source": [
    "vasya.age += 3"
   ]
  },
  {
   "cell_type": "code",
   "execution_count": 39,
   "id": "092c07d5-5cfb-4d3b-ab50-9dd339655311",
   "metadata": {},
   "outputs": [],
   "source": [
    "classlist = [vasya, petya]"
   ]
  },
  {
   "cell_type": "code",
   "execution_count": 40,
   "id": "c38ac251-ea12-4b99-9d8e-67ab868c5c83",
   "metadata": {},
   "outputs": [
    {
     "data": {
      "text/plain": [
       "[Human('Вася', 'Пупкин', 19), Human('Петя', 'Васин', 20)]"
      ]
     },
     "execution_count": 40,
     "metadata": {},
     "output_type": "execute_result"
    }
   ],
   "source": [
    "classlist"
   ]
  },
  {
   "cell_type": "code",
   "execution_count": 42,
   "id": "1b5bcaae-d4c9-4825-a478-165f53adb98a",
   "metadata": {},
   "outputs": [],
   "source": [
    "for student in classlist:\n",
    "    if student.homework == 'done':\n",
    "        student.setgrade(5)\n",
    "    else:\n",
    "        student.setgrade(2)"
   ]
  },
  {
   "cell_type": "code",
   "execution_count": 43,
   "id": "02a50ffd-787a-4aaf-bdf1-1ca248bfca8a",
   "metadata": {},
   "outputs": [
    {
     "data": {
      "text/plain": [
       "5"
      ]
     },
     "execution_count": 43,
     "metadata": {},
     "output_type": "execute_result"
    }
   ],
   "source": [
    "vasya.grade"
   ]
  },
  {
   "cell_type": "code",
   "execution_count": 44,
   "id": "3fcd2428-8d3f-477a-b51a-d39c9b044aa5",
   "metadata": {},
   "outputs": [
    {
     "data": {
      "text/plain": [
       "2"
      ]
     },
     "execution_count": 44,
     "metadata": {},
     "output_type": "execute_result"
    }
   ],
   "source": [
    "petya.grade"
   ]
  },
  {
   "cell_type": "code",
   "execution_count": 24,
   "id": "3ed41693-dc44-4b39-a0c3-45b5fba4f228",
   "metadata": {},
   "outputs": [
    {
     "name": "stdout",
     "output_type": "stream",
     "text": [
      "Вася: 19\n"
     ]
    }
   ],
   "source": [
    "vasya.showage()\n",
    "Human.showage(vasya)"
   ]
  },
  {
   "cell_type": "code",
   "execution_count": 8,
   "id": "c7e53ffc-4af3-40fb-a2e8-8186b624fcd7",
   "metadata": {},
   "outputs": [
    {
     "data": {
      "text/plain": [
       "True"
      ]
     },
     "execution_count": 8,
     "metadata": {},
     "output_type": "execute_result"
    }
   ],
   "source": [
    "e = '1234'\n",
    "e.isdigit()"
   ]
  },
  {
   "cell_type": "code",
   "execution_count": 25,
   "id": "13bb049a-6ccc-4707-863c-c2f7fa3b3104",
   "metadata": {},
   "outputs": [
    {
     "data": {
      "text/plain": [
       "True"
      ]
     },
     "execution_count": 25,
     "metadata": {},
     "output_type": "execute_result"
    }
   ],
   "source": [
    "str.isdigit(e)"
   ]
  },
  {
   "cell_type": "code",
   "execution_count": 26,
   "id": "73f9afe7-33d3-4215-a28f-5dc1c8fcc066",
   "metadata": {},
   "outputs": [
    {
     "name": "stdout",
     "output_type": "stream",
     "text": [
      "Вася: 19\n"
     ]
    }
   ],
   "source": [
    "Human.showage(vasya)"
   ]
  },
  {
   "cell_type": "markdown",
   "id": "83f45094-2d53-4d96-a5da-9347f732b1b1",
   "metadata": {},
   "source": [
    "health, armor, strength"
   ]
  }
 ],
 "metadata": {
  "kernelspec": {
   "display_name": "Python 3 (ipykernel)",
   "language": "python",
   "name": "python3"
  },
  "language_info": {
   "codemirror_mode": {
    "name": "ipython",
    "version": 3
   },
   "file_extension": ".py",
   "mimetype": "text/x-python",
   "name": "python",
   "nbconvert_exporter": "python",
   "pygments_lexer": "ipython3",
   "version": "3.8.10"
  }
 },
 "nbformat": 4,
 "nbformat_minor": 5
}
