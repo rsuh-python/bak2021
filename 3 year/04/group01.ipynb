{
 "cells": [
  {
   "cell_type": "markdown",
   "id": "5003c9c8-13f4-422d-b254-3b86c2fb7f88",
   "metadata": {},
   "source": [
    "Пайплайн\n",
    "\n",
    "Бейзлайн\n",
    "\n",
    "SOTA (State of the Art)"
   ]
  },
  {
   "cell_type": "markdown",
   "id": "e7caad21-931d-4f16-9541-1e2bca2cb710",
   "metadata": {},
   "source": [
    "crawling (Apache Nutch)\n",
    "\n",
    "scraping\n",
    "\n",
    "API\n",
    "\n"
   ]
  },
  {
   "cell_type": "markdown",
   "id": "5f5d074e-b740-482c-99bc-8693f3e379b9",
   "metadata": {},
   "source": [
    "beautifulsoup4\n",
    "justext"
   ]
  },
  {
   "cell_type": "markdown",
   "id": "5a44ae2a-49c7-4b9c-8473-ba3c8dea4e65",
   "metadata": {},
   "source": [
    "делим на предложения\n",
    "\n",
    "токенизируем"
   ]
  },
  {
   "cell_type": "markdown",
   "id": "f5ae8d78-a898-46be-a385-b66fa750fc49",
   "metadata": {},
   "source": [
    "морфоразбор\n",
    "\n",
    "синтаксический разбор\n",
    "\n",
    "семантическая разметка\n",
    "\n",
    "NER (named entity recognition)\n",
    "\n"
   ]
  },
  {
   "cell_type": "markdown",
   "id": "a655c8e3-8312-43d5-af05-5e70915041ca",
   "metadata": {},
   "source": [
    "Поезд прибывает в г. Москва. "
   ]
  },
  {
   "cell_type": "code",
   "execution_count": null,
   "id": "b5f6afb6-5252-4064-9166-4ca49865525d",
   "metadata": {},
   "outputs": [],
   "source": [
    "def sentenize(raw):\n",
    "    ...\n",
    "    return ['', '', '']\n",
    "\n",
    "def tokenize(string):\n",
    "    ...\n",
    "    [('', ''), ()]\n",
    "\n",
    "sents = sentenize(raw)\n",
    "for sent in sents:\n",
    "    print(tokenize(sent))"
   ]
  },
  {
   "cell_type": "markdown",
   "id": "2b2002a8-6552-463b-9bfb-573e5159d4ad",
   "metadata": {},
   "source": [
    "'[A-Z-]+' \n",
    "\n",
    "_ _ _ ... (- _ _ _ ...)"
   ]
  },
  {
   "cell_type": "markdown",
   "id": "af2f9f7e-180d-4b33-aaee-7465a9705f49",
   "metadata": {},
   "source": [
    "pip install razdel  # natasha\n",
    "\n",
    "pip install rusenttokenize # DeepPavlov"
   ]
  },
  {
   "cell_type": "code",
   "execution_count": 3,
   "id": "cda41da5-d07a-4b5f-8719-59637aab5d38",
   "metadata": {},
   "outputs": [],
   "source": [
    "from rusenttokenize import ru_sent_tokenize\n",
    "\n",
    "raw = '''Марк Антоний Гордиан Семпрониан Роман Африкан (лат. Marcus Antonius Gordianus Sempronianus Romanus Africanus), более известный в римской историографии как Гордиан I, — римский император, правивший в 238 году.\n",
    "\n",
    "По всей видимости, происходил из малоазиатской провинциальной аристократии. Гордиан сделал долгую и успешную карьеру: управлял несколькими провинциями, занимал должность консула-суффекта, после был назначен проконсулом Африки. В начале 238 года группа богатых молодых землевладельцев, недовольная увеличением налоговых сборов, убила прокуратора, посланного в Африку императором Максимином I Фракийцем. Восставшие провозгласили Гордиана императором, который сделал соправителем своего сына, носившего такое же имя. Кандидатуру Гордиана поддержал и сенат, начавший борьбу против Максимина, а также ряд восточных провинций. Однако вскоре Гордиан-младший пал в сражении у Карфагена против нумидийского наместника Капелиана, который сохранил верность Максимину. Узнав о гибели сына, Гордиан I покончил жизнь самоубийством. Правление Гордиана продолжалось всего несколько недель. После его гибели сенат продолжил войну против Максимина, избрав новых императоров — Бальбина и Пупиена.'''"
   ]
  },
  {
   "cell_type": "code",
   "execution_count": null,
   "id": "137bcdac-0bfe-4267-8f65-4b99e2b31ac7",
   "metadata": {},
   "outputs": [],
   "source": [
    "sents = ru_sent_tokenize(raw)\n",
    "sents"
   ]
  },
  {
   "cell_type": "code",
   "execution_count": 5,
   "id": "7134b4b9-2436-489e-a055-20364612d8f1",
   "metadata": {},
   "outputs": [
    {
     "data": {
      "text/plain": [
       "['Марк Антоний Гордиан Семпрониан Роман Африкан (лат. Marcus Antonius Gordianus Sempronianus Romanus Africanus), более известный в римской историографии как Гордиан I, — римский император, правивший в 238 году.',\n",
       " 'По всей видимости, происходил из малоазиатской провинциальной аристократии.',\n",
       " 'Гордиан сделал долгую и успешную карьеру: управлял несколькими провинциями, занимал должность консула-суффекта, после был назначен проконсулом Африки.',\n",
       " 'В начале 238 года группа богатых молодых землевладельцев, недовольная увеличением налоговых сборов, убила прокуратора, посланного в Африку императором Максимином I Фракийцем.',\n",
       " 'Восставшие провозгласили Гордиана императором, который сделал соправителем своего сына, носившего такое же имя.',\n",
       " 'Кандидатуру Гордиана поддержал и сенат, начавший борьбу против Максимина, а также ряд восточных провинций.',\n",
       " 'Однако вскоре Гордиан-младший пал в сражении у Карфагена против нумидийского наместника Капелиана, который сохранил верность Максимину.',\n",
       " 'Узнав о гибели сына, Гордиан I покончил жизнь самоубийством.',\n",
       " 'Правление Гордиана продолжалось всего несколько недель.',\n",
       " 'После его гибели сенат продолжил войну против Максимина, избрав новых императоров — Бальбина и Пупиена.']"
      ]
     },
     "execution_count": 5,
     "metadata": {},
     "output_type": "execute_result"
    }
   ],
   "source": [
    "from razdel import sentenize\n",
    "\n",
    "sents_razdel = [s.text for s in sentenize(raw)]\n",
    "sents_razdel"
   ]
  },
  {
   "cell_type": "code",
   "execution_count": null,
   "id": "b6e9b42d-b7a7-4208-8597-f80233f2292b",
   "metadata": {},
   "outputs": [],
   "source": [
    "'(rus)|(eng)|([.,!])'\n",
    "('', '', 'punct')\n",
    "\n",
    "class Token:\n",
    "    def __init__(self, form, category):\n",
    "        ...\n",
    "        \n",
    "    def __repr__:\n",
    "        return f'...'\n",
    "        \n",
    "def tokenize(string):\n",
    "    ...\n",
    "    []\n",
    "    res = []\n",
    "    for ...\n",
    "    if ...:\n",
    "        res.append(Token('...', 'punct'))\n",
    "    return res\n",
    "\n",
    "print(tokenize(...))\n",
    "\n",
    "#[Token('слово', 'rus'),Token('word', 'lat'), Token('.', 'punct')]"
   ]
  },
  {
   "cell_type": "code",
   "execution_count": 6,
   "id": "e762c5ab-a796-40a0-a6b9-e78edc5eac26",
   "metadata": {},
   "outputs": [
    {
     "name": "stdout",
     "output_type": "stream",
     "text": [
      "None\n"
     ]
    }
   ],
   "source": [
    "a = ''\n",
    "if a:  #bool(a) - bool: False if '' True '...'\n",
    "    print(a)\n",
    "else:\n",
    "    print('None')"
   ]
  },
  {
   "cell_type": "code",
   "execution_count": null,
   "id": "e44838c7-e916-4aa4-a39b-83ad9e6ef551",
   "metadata": {},
   "outputs": [],
   "source": [
    "from razdel import tokenize\n",
    "\n",
    "for i in range(len(sents_razdel)):\n",
    "    sents_razdel[i] = [t.text for t in tokenize(sents_razdel[i])]\n",
    "    \n",
    "sents_razdel[0]    "
   ]
  },
  {
   "cell_type": "code",
   "execution_count": 8,
   "id": "44aedad3-dae7-482b-ab0c-7fd44d3128c2",
   "metadata": {},
   "outputs": [
    {
     "name": "stdout",
     "output_type": "stream",
     "text": [
      "2.1 ms ± 80.1 µs per loop (mean ± std. dev. of 7 runs, 100 loops each)\n"
     ]
    }
   ],
   "source": [
    "%timeit [i ** 2 for i in range(10000)]"
   ]
  },
  {
   "cell_type": "code",
   "execution_count": 9,
   "id": "623a9c1d-a35a-4796-9419-f08b521f9f04",
   "metadata": {},
   "outputs": [
    {
     "name": "stdout",
     "output_type": "stream",
     "text": [
      "2.37 ms ± 69.6 µs per loop (mean ± std. dev. of 7 runs, 100 loops each)\n"
     ]
    }
   ],
   "source": [
    "%%timeit\n",
    "res = []\n",
    "for i in range(10000):\n",
    "    res.append(i ** 2)"
   ]
  },
  {
   "cell_type": "code",
   "execution_count": null,
   "id": "00016394-f644-4e11-b458-fe06017c9bb2",
   "metadata": {},
   "outputs": [],
   "source": [
    "import time\n",
    "\n",
    "t = time.time()\n",
    "...\n",
    "res = time.time() - t\n",
    "\n",
    "zip(lst1, lst2) = [(lst1[0], lst2[0]), (), ()]"
   ]
  },
  {
   "cell_type": "code",
   "execution_count": 10,
   "id": "db63f53b-3520-404c-80e5-c946589bac6a",
   "metadata": {},
   "outputs": [
    {
     "data": {
      "text/plain": [
       "[(1, 'a'), (2, 'b'), (3, 'c')]"
      ]
     },
     "execution_count": 10,
     "metadata": {},
     "output_type": "execute_result"
    }
   ],
   "source": [
    "lst1 = [1, 2, 3]\n",
    "lst2 = ['a', 'b', 'c']\n",
    "list(zip(lst1, lst2))"
   ]
  },
  {
   "cell_type": "code",
   "execution_count": null,
   "id": "f5f628bc-7fe8-44d8-a564-ef0aa8f9f997",
   "metadata": {},
   "outputs": [],
   "source": []
  }
 ],
 "metadata": {
  "kernelspec": {
   "display_name": "Python 3",
   "language": "python",
   "name": "python3"
  },
  "language_info": {
   "codemirror_mode": {
    "name": "ipython",
    "version": 3
   },
   "file_extension": ".py",
   "mimetype": "text/x-python",
   "name": "python",
   "nbconvert_exporter": "python",
   "pygments_lexer": "ipython3",
   "version": "3.8.10"
  }
 },
 "nbformat": 4,
 "nbformat_minor": 5
}
