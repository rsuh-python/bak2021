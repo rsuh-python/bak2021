{
 "cells": [
  {
   "cell_type": "markdown",
   "id": "5234349c-950f-402d-8cfb-79148f8d4d17",
   "metadata": {},
   "source": [
    "### RE"
   ]
  },
  {
   "cell_type": "markdown",
   "id": "497cc613-3f54-44f5-bfdf-aa229ff52984",
   "metadata": {},
   "source": [
    "#### Задача 1.\n",
    "\n",
    "Найдите в тексте все телефонные номера. Номера могут быть в формате 0(000)00-00-00 или 0 000 00 00 00."
   ]
  },
  {
   "cell_type": "code",
   "execution_count": null,
   "id": "b670dfc5-90d0-4903-989c-5cab19726f7a",
   "metadata": {},
   "outputs": [],
   "source": [
    "# your code here"
   ]
  },
  {
   "cell_type": "markdown",
   "id": "47b3dae3-984d-4b7f-9f64-f2509642254f",
   "metadata": {},
   "source": [
    "#### Задача 2.\n",
    "\n",
    "Программа ждет, что пользователь введет адрес электронной почты. Предполагается, что адрес может содержать только латинские буквы, цифры и нижнее подчеркивание, обязательно содержит @ и имя домена через точку. Других точек в адресе нет. Программа должна проверять, что пользователь ввел именно такой адрес, и предупреждать, если что-то неладно. Используйте fullmatch."
   ]
  },
  {
   "cell_type": "code",
   "execution_count": null,
   "id": "39691ec8-e417-4486-9e97-5bf7b54521bb",
   "metadata": {},
   "outputs": [],
   "source": [
    "# your code here"
   ]
  },
  {
   "cell_type": "markdown",
   "id": "d24e4baf-cdda-4b80-a316-414681299c8f",
   "metadata": {},
   "source": [
    "#### Задача 3.\n",
    "\n",
    "Цензура: в тексте встречается слово *война* и разные его вариации в падежах (и регистр тоже везде разный). Замените это слово по всему тексту на многоточие."
   ]
  },
  {
   "cell_type": "code",
   "execution_count": null,
   "id": "49c2f079-4843-4bd2-bfdb-014fcefc2e76",
   "metadata": {},
   "outputs": [],
   "source": [
    "# your code here"
   ]
  },
  {
   "cell_type": "markdown",
   "id": "8f303470-e88f-4007-96bb-a95a23c58007",
   "metadata": {},
   "source": [
    "#### Задача 4.\n",
    "\n",
    "В тексте встречаются нецелые числа (можно через запятую, можно через точку, а можете учесть оба варианта). Нужно все числа в тексте округлить до двух знаков после запятой(точки), причем не просто отрезать хвост: 2.467 должно превращаться в 2.47."
   ]
  },
  {
   "cell_type": "code",
   "execution_count": null,
   "id": "923286b4-ff42-415e-8d37-0723a2da1741",
   "metadata": {},
   "outputs": [],
   "source": [
    "# your code here"
   ]
  },
  {
   "cell_type": "markdown",
   "id": "a348763d-319f-4a0a-a2b5-5a50a169505f",
   "metadata": {},
   "source": [
    "### PANDAS"
   ]
  },
  {
   "cell_type": "markdown",
   "id": "8cdd1147-d7eb-402e-9818-7475aba59114",
   "metadata": {},
   "source": [
    "#### Задача 5.\n",
    "\n",
    "В папке семинара лежит файл weights_heights.csv. Считайте этот файл с помощью pandas. Посмотрите его содержимое: какие в нем есть колонки, сколько в нем записей, есть ли в нем пропуски. Посчитайте средние значения по колонкам. "
   ]
  },
  {
   "cell_type": "code",
   "execution_count": null,
   "id": "8ba25156-7cd8-4316-b9ba-832a9a8381e8",
   "metadata": {},
   "outputs": [],
   "source": [
    "# your code here"
   ]
  },
  {
   "cell_type": "markdown",
   "id": "2b26a012-f088-4db4-ab0c-ecf620ffd743",
   "metadata": {
    "tags": []
   },
   "source": [
    "#### Задача 6. \n",
    "\n",
    "Откройте файл titanic.csv с помощью pandas. Изучите его: какие у него есть колонки, сколько записей и какие. Используйте метод describe() или info(). Удалите все пустые ячейки. Посмотрите, какие уникальные значения есть в колонке Pclass. "
   ]
  },
  {
   "cell_type": "code",
   "execution_count": null,
   "id": "c0648378-fc46-4fd1-ba23-9709efc1c426",
   "metadata": {},
   "outputs": [],
   "source": [
    "# your code here"
   ]
  },
  {
   "cell_type": "markdown",
   "id": "3748e944-0593-4dac-a789-3c517b464dd5",
   "metadata": {},
   "source": [
    "#### Задача 7. \n",
    "\n",
    "Давайте заменим данные о поле пассажиров на цифровые. С помощью метода apply() замените все Female на 0, а Male на 1 (или наоборот, как хотите). "
   ]
  },
  {
   "cell_type": "code",
   "execution_count": null,
   "id": "beef9cef-67c6-4140-9edf-905deee0187d",
   "metadata": {},
   "outputs": [],
   "source": [
    "# your code here"
   ]
  },
  {
   "cell_type": "markdown",
   "id": "147b1e51-b8d9-431d-830d-f2536867f340",
   "metadata": {},
   "source": [
    "#### Задача 8. (2 балла!)\n",
    "\n",
    "Оцените, сколько пассажиров первого и третьего класса выжило. Подсказка: чтобы посчитать долю выживших, очевидно, нужно разделить количество выживших пассажиров данного класса на общее количество пассажиров. Поскольку значения колонки Survived - 0 или 1, то их среднее на самом деле даст как раз количество выживших (единицы сложатся, а ноли не повлияют) на общее количество. "
   ]
  },
  {
   "cell_type": "code",
   "execution_count": null,
   "id": "40834db0-7eeb-40aa-a576-65c0b2190666",
   "metadata": {},
   "outputs": [],
   "source": [
    "# your code here"
   ]
  }
 ],
 "metadata": {
  "kernelspec": {
   "display_name": "Python 3 (ipykernel)",
   "language": "python",
   "name": "python3"
  },
  "language_info": {
   "codemirror_mode": {
    "name": "ipython",
    "version": 3
   },
   "file_extension": ".py",
   "mimetype": "text/x-python",
   "name": "python",
   "nbconvert_exporter": "python",
   "pygments_lexer": "ipython3",
   "version": "3.8.10"
  }
 },
 "nbformat": 4,
 "nbformat_minor": 5
}
