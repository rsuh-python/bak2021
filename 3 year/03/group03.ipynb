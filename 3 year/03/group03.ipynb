{
 "cells": [
  {
   "cell_type": "code",
   "execution_count": null,
   "id": "589f900a-6bf1-463a-a9e2-ab52a1792fbc",
   "metadata": {},
   "outputs": [],
   "source": [
    "import re"
   ]
  },
  {
   "cell_type": "code",
   "execution_count": null,
   "id": "98e00eec-a400-4876-b8da-b2fd0503da02",
   "metadata": {},
   "outputs": [],
   "source": [
    "# re.search(pattern, string, flags)\n",
    "\n",
    "text = '''«Мультики» — роман Михаила Елизарова, изданный в 2010 году издательством АСТ. Выход переиздания состоялся спустя 10 лет. Изначально «Мультики» планировались Михаилом Елизаровым как рассказ. Однако позже текст перерос в полноценный роман. Литераторы отнесли произведение к разным жанрам: роман воспитания, школьная повесть, сюрреалистический роман и литература ужасов.\n",
    "\n",
    "Главный герой книги — советский школьник Герман Рымбаев, ставший членом банды гопников. Шайка, участником которой является восьмиклассник, придумала прибыльную схему под названием «мультики»: две девушки показывали прохожим свои голые тела, а остальные хулиганы требовали у людей деньги за увиденное. '''"
   ]
  },
  {
   "cell_type": "code",
   "execution_count": null,
   "id": "24d25f7d-ad20-480a-95c0-9e644ed0e1ef",
   "metadata": {},
   "outputs": [],
   "source": [
    "pattern = re.compile(r'\\bЕлизаров(\\w*)\\b')"
   ]
  },
  {
   "cell_type": "code",
   "execution_count": null,
   "id": "66950c47-bbbf-4be7-90f2-b1e4f22ae7d9",
   "metadata": {},
   "outputs": [],
   "source": [
    "m = re.search(pattern, text)"
   ]
  },
  {
   "cell_type": "code",
   "execution_count": null,
   "id": "231becb7-9b12-4e31-a297-23435c18ad1a",
   "metadata": {},
   "outputs": [],
   "source": [
    "m.group(2)"
   ]
  },
  {
   "cell_type": "code",
   "execution_count": null,
   "id": "3a4fc1b2-a03c-4a40-bda5-a4013dbb5e99",
   "metadata": {},
   "outputs": [],
   "source": [
    "m.span()"
   ]
  },
  {
   "cell_type": "code",
   "execution_count": null,
   "id": "f2815f7c-8312-42b9-8cca-ddbfd64ae36d",
   "metadata": {},
   "outputs": [],
   "source": [
    "text[27:36]"
   ]
  },
  {
   "cell_type": "code",
   "execution_count": null,
   "id": "2d162a32-81f7-4d45-b8dc-a54502e98e62",
   "metadata": {},
   "outputs": [],
   "source": [
    "m.start()"
   ]
  },
  {
   "cell_type": "code",
   "execution_count": null,
   "id": "5c7ebb84-f7ae-4095-bcfd-7421c979aa89",
   "metadata": {},
   "outputs": [],
   "source": [
    "m.end()"
   ]
  },
  {
   "cell_type": "code",
   "execution_count": null,
   "id": "67ea9e81-0e9a-453b-904b-2051ae4ab9ad",
   "metadata": {},
   "outputs": [],
   "source": [
    "re.finditer(pattern, text)"
   ]
  },
  {
   "cell_type": "code",
   "execution_count": null,
   "id": "c5ba3402-8e7f-4df0-9372-2e88541fb30c",
   "metadata": {},
   "outputs": [],
   "source": [
    "for m in re.finditer(pattern, text):\n",
    "    print(m.group(), m.group(1), m.group(2))"
   ]
  },
  {
   "cell_type": "code",
   "execution_count": null,
   "id": "44162639-2bea-4f18-b34e-a6b45feae24c",
   "metadata": {},
   "outputs": [],
   "source": [
    "re.findall(pattern, text)"
   ]
  },
  {
   "cell_type": "code",
   "execution_count": null,
   "id": "f014b423-8ad2-4fa0-ba69-22c9ab039982",
   "metadata": {},
   "outputs": [],
   "source": [
    "re.findall(r'\\bМихаил(?:\\w*)\\b', text)"
   ]
  },
  {
   "cell_type": "code",
   "execution_count": null,
   "id": "3dbdad24-c837-4776-98c8-54642a61dfc0",
   "metadata": {},
   "outputs": [],
   "source": [
    "if re.fullmatch(r'\\d+', '23456'):\n",
    "    print('True')"
   ]
  },
  {
   "cell_type": "code",
   "execution_count": null,
   "id": "1eff8fd2-c3dc-4328-a7c6-8b584dca36dd",
   "metadata": {},
   "outputs": [],
   "source": [
    "re.sub(pattern, '???', text)"
   ]
  },
  {
   "cell_type": "code",
   "execution_count": null,
   "id": "0b28759c-4e79-472e-bcdc-e165c19d7b80",
   "metadata": {},
   "outputs": [],
   "source": [
    "def replacer(m):\n",
    "    return m.group().upper()\n",
    "\n",
    "re.sub(pattern, replacer, text)"
   ]
  },
  {
   "cell_type": "markdown",
   "id": "f2c6b5a8-e90e-4ad0-b608-f9d1a63e460c",
   "metadata": {},
   "source": [
    "pip install pandas\n",
    "\n",
    "pip install openpyxl"
   ]
  },
  {
   "cell_type": "code",
   "execution_count": null,
   "id": "4618fe8e-a114-46fd-a217-29bb51302d5f",
   "metadata": {},
   "outputs": [],
   "source": [
    "import pandas as pd"
   ]
  },
  {
   "cell_type": "code",
   "execution_count": null,
   "id": "c16a4b81-8c92-40fe-b936-ff313c82aa60",
   "metadata": {},
   "outputs": [],
   "source": [
    "# pd.DataFrame\n",
    "# pd.Series"
   ]
  },
  {
   "cell_type": "code",
   "execution_count": null,
   "id": "4eae5435-daf5-4b8f-9dc9-82d92378e645",
   "metadata": {},
   "outputs": [],
   "source": [
    "df = pd.DataFrame([[1, 2, 3], [4, 5, 6]])"
   ]
  },
  {
   "cell_type": "code",
   "execution_count": null,
   "id": "551aea5f-d886-4dc9-bfa4-19f0fcf6df1d",
   "metadata": {},
   "outputs": [],
   "source": [
    "df"
   ]
  },
  {
   "cell_type": "code",
   "execution_count": null,
   "id": "603209f4-17a4-4e58-b3a9-2dff764cf674",
   "metadata": {},
   "outputs": [],
   "source": [
    "df = pd.DataFrame({'col1': [1, 2, 3], 'col2': [4, 5, 6]})"
   ]
  },
  {
   "cell_type": "code",
   "execution_count": null,
   "id": "c0cc2409-8673-478e-965e-073f8dac27ca",
   "metadata": {},
   "outputs": [],
   "source": [
    "df"
   ]
  },
  {
   "cell_type": "code",
   "execution_count": null,
   "id": "b73a2864-12ac-4bc2-8874-6ff38a894afd",
   "metadata": {},
   "outputs": [],
   "source": [
    "df = pd.DataFrame({'r1': {'l1': 1, 'l2': 2, 'l3': 3}, 'r2': {'l1': 4, 'l2': 5, 'l3': 6}})"
   ]
  },
  {
   "cell_type": "code",
   "execution_count": null,
   "id": "825fccbb-82d5-448d-a6c1-b7175adb5d50",
   "metadata": {},
   "outputs": [],
   "source": [
    "df"
   ]
  },
  {
   "cell_type": "code",
   "execution_count": null,
   "id": "63200652-c721-4c69-94d6-178521d29a22",
   "metadata": {},
   "outputs": [],
   "source": [
    "titanic = pd.read_csv('titanic.csv')"
   ]
  },
  {
   "cell_type": "code",
   "execution_count": null,
   "id": "42c534e2-aa76-4ce3-a584-ad6c14148997",
   "metadata": {},
   "outputs": [],
   "source": [
    "# pd.read_json(path)\n",
    "#pd.read_excel(path)"
   ]
  },
  {
   "cell_type": "code",
   "execution_count": null,
   "id": "10c8131d-7ddd-4ea7-8dd8-332e11d79fdf",
   "metadata": {},
   "outputs": [],
   "source": [
    "titanic"
   ]
  },
  {
   "cell_type": "code",
   "execution_count": null,
   "id": "ccd101e8-5699-4945-9f16-abc76374af2c",
   "metadata": {},
   "outputs": [],
   "source": [
    "titanic.index"
   ]
  },
  {
   "cell_type": "code",
   "execution_count": null,
   "id": "e38f6db3-a1ac-4709-b619-79f15a2364ff",
   "metadata": {},
   "outputs": [],
   "source": [
    "titanic.columns"
   ]
  },
  {
   "cell_type": "code",
   "execution_count": null,
   "id": "230ec06e-a635-477d-ada6-de18a9302b8e",
   "metadata": {},
   "outputs": [],
   "source": [
    "for col in df.columns:\n",
    "    print(df[col])"
   ]
  },
  {
   "cell_type": "code",
   "execution_count": null,
   "id": "bba737d1-6b75-47f8-9d5b-f79cac99a12f",
   "metadata": {},
   "outputs": [],
   "source": [
    "df['r1']"
   ]
  },
  {
   "cell_type": "code",
   "execution_count": null,
   "id": "8a82340f-4809-46bc-913c-06cd5988e52c",
   "metadata": {},
   "outputs": [],
   "source": [
    "df['r1']['l1']"
   ]
  },
  {
   "cell_type": "code",
   "execution_count": null,
   "id": "8e499c6d-8c14-4ae2-bac9-8e9b23fd7232",
   "metadata": {},
   "outputs": [],
   "source": [
    "titanic.head(3)"
   ]
  },
  {
   "cell_type": "code",
   "execution_count": null,
   "id": "069e81d7-d809-48ff-89bd-1e89224eab5d",
   "metadata": {},
   "outputs": [],
   "source": [
    "titanic.tail()"
   ]
  },
  {
   "cell_type": "code",
   "execution_count": null,
   "id": "62dfdd9b-3371-4f86-b9be-317e4ba9982f",
   "metadata": {},
   "outputs": [],
   "source": [
    "titanic.sample(5)"
   ]
  },
  {
   "cell_type": "code",
   "execution_count": null,
   "id": "09890261-e8af-46e0-be4e-ca66d9f63f11",
   "metadata": {},
   "outputs": [],
   "source": [
    "titanic.loc[567]"
   ]
  },
  {
   "cell_type": "code",
   "execution_count": null,
   "id": "62f589ff-76de-4fd4-ab69-13aad14b2b8a",
   "metadata": {},
   "outputs": [],
   "source": [
    "df"
   ]
  },
  {
   "cell_type": "code",
   "execution_count": null,
   "id": "c1ce2a3d-0eb1-4f31-83d6-01ab23baa6bd",
   "metadata": {},
   "outputs": [],
   "source": [
    "df.loc['l2']"
   ]
  },
  {
   "cell_type": "code",
   "execution_count": null,
   "id": "6a0b54ab-77f5-403d-90ff-3dd665bf7d9b",
   "metadata": {},
   "outputs": [],
   "source": [
    "df.iloc[2]"
   ]
  },
  {
   "cell_type": "code",
   "execution_count": null,
   "id": "3ed0ff82-c842-45dd-be93-14b871457cf3",
   "metadata": {},
   "outputs": [],
   "source": [
    "titanic.info()"
   ]
  },
  {
   "cell_type": "code",
   "execution_count": null,
   "id": "9e79814d-48d7-4604-a0c7-3965fe4a4479",
   "metadata": {},
   "outputs": [],
   "source": [
    "titanic.describe()"
   ]
  },
  {
   "cell_type": "code",
   "execution_count": null,
   "id": "dad670e4-44e2-4486-83e8-6240b0c9baf1",
   "metadata": {},
   "outputs": [],
   "source": [
    "titanic.isna().any()"
   ]
  },
  {
   "cell_type": "code",
   "execution_count": null,
   "id": "c56b8d15-4347-41e5-b5fd-6f8a5988b38d",
   "metadata": {},
   "outputs": [],
   "source": [
    "titanic['Survived']"
   ]
  },
  {
   "cell_type": "code",
   "execution_count": null,
   "id": "175fafa0-192c-4996-8d72-c341382088f4",
   "metadata": {},
   "outputs": [],
   "source": [
    "titanic.Survived"
   ]
  },
  {
   "cell_type": "code",
   "execution_count": null,
   "id": "5f877652-0930-40cb-a350-aa8cb89550f4",
   "metadata": {},
   "outputs": [],
   "source": [
    "titanic[(titanic.Survived  == 1) & (titanic.Sex == 'female')]"
   ]
  },
  {
   "cell_type": "code",
   "execution_count": null,
   "id": "695acffe-4820-4d8e-9524-858254b28ea6",
   "metadata": {},
   "outputs": [],
   "source": [
    "df.mean()"
   ]
  },
  {
   "cell_type": "code",
   "execution_count": null,
   "id": "761e8094-da6e-4d6c-8c46-84a45377dda0",
   "metadata": {},
   "outputs": [],
   "source": [
    "df.sum()"
   ]
  },
  {
   "cell_type": "code",
   "execution_count": null,
   "id": "a97f8c14-e5d1-4942-ad26-80f76575023e",
   "metadata": {},
   "outputs": [],
   "source": [
    "df"
   ]
  },
  {
   "cell_type": "code",
   "execution_count": null,
   "id": "f808bf5f-476a-4b31-932a-7ea048f9860a",
   "metadata": {},
   "outputs": [],
   "source": [
    "df.r1.unique()"
   ]
  },
  {
   "cell_type": "code",
   "execution_count": null,
   "id": "ba0dbed1-18ad-4d0e-b7f7-38840129571c",
   "metadata": {},
   "outputs": [],
   "source": [
    "titanic.dropna(inplace=True)"
   ]
  },
  {
   "cell_type": "code",
   "execution_count": null,
   "id": "b3d0be9d-fabd-4b7a-86ec-6b7a6be6c25b",
   "metadata": {},
   "outputs": [],
   "source": [
    "titanic"
   ]
  },
  {
   "cell_type": "code",
   "execution_count": null,
   "id": "4644e089-bd0d-44c7-a494-37904ba0ed4d",
   "metadata": {},
   "outputs": [],
   "source": [
    "titanic.drop(879)"
   ]
  },
  {
   "cell_type": "code",
   "execution_count": null,
   "id": "44229e45-d218-44e8-a77a-b79a31ab1b18",
   "metadata": {},
   "outputs": [],
   "source": [
    "titanic.drop('Parch', axis=1)"
   ]
  },
  {
   "cell_type": "code",
   "execution_count": null,
   "id": "2bd835b2-20b7-43e7-b560-953524cff796",
   "metadata": {},
   "outputs": [],
   "source": [
    "df"
   ]
  },
  {
   "cell_type": "code",
   "execution_count": null,
   "id": "2b98b220-207b-4576-93e6-879d7f253765",
   "metadata": {},
   "outputs": [],
   "source": [
    "df.apply(lambda x: x + 1)"
   ]
  },
  {
   "cell_type": "code",
   "execution_count": null,
   "id": "7d993891-3b2e-432d-81fa-43e1237ca0a7",
   "metadata": {},
   "outputs": [],
   "source": [
    "df"
   ]
  },
  {
   "cell_type": "code",
   "execution_count": null,
   "id": "49bb31fd-ce9e-4128-99fc-ce78e5f1d1eb",
   "metadata": {},
   "outputs": [],
   "source": [
    "df.r1.apply(lambda x: x + 1)"
   ]
  },
  {
   "cell_type": "code",
   "execution_count": null,
   "id": "fe4fba2d-d4ee-4296-976a-9b59f547462d",
   "metadata": {},
   "outputs": [],
   "source": [
    "df['r1'] = df['r2'].apply(lambda x: x * 10)"
   ]
  },
  {
   "cell_type": "code",
   "execution_count": null,
   "id": "62430ee2-ce4e-4c41-a900-c3c398a3eb20",
   "metadata": {},
   "outputs": [],
   "source": [
    "df"
   ]
  },
  {
   "cell_type": "code",
   "execution_count": null,
   "id": "8f73b6d9-2330-4123-aa05-0d9f74bda694",
   "metadata": {},
   "outputs": [],
   "source": [
    "titanic"
   ]
  },
  {
   "cell_type": "code",
   "execution_count": null,
   "id": "42e6db66-eda2-4922-b4b9-b98df0002451",
   "metadata": {},
   "outputs": [],
   "source": [
    "titanic.groupby('Survived').sum()"
   ]
  },
  {
   "cell_type": "code",
   "execution_count": null,
   "id": "e9c79db5-18bd-4554-aab7-1fee7c7b3085",
   "metadata": {},
   "outputs": [],
   "source": [
    "titanic.to_csv(path)\n",
    "titanic.to_excel(path) # .xlsx"
   ]
  }
 ],
 "metadata": {
  "kernelspec": {
   "display_name": "Python 3 (ipykernel)",
   "language": "python",
   "name": "python3"
  },
  "language_info": {
   "codemirror_mode": {
    "name": "ipython",
    "version": 3
   },
   "file_extension": ".py",
   "mimetype": "text/x-python",
   "name": "python",
   "nbconvert_exporter": "python",
   "pygments_lexer": "ipython3",
   "version": "3.9.7"
  }
 },
 "nbformat": 4,
 "nbformat_minor": 5
}
