{
 "cells": [
  {
   "cell_type": "code",
   "execution_count": 6,
   "id": "e1f943c9-7dd3-4ef8-82e7-3bfe57ae486a",
   "metadata": {},
   "outputs": [
    {
     "name": "stdout",
     "output_type": "stream",
     "text": [
      "игра\n"
     ]
    }
   ],
   "source": [
    "from nltk.stem.snowball import SnowballStemmer\n",
    "\n",
    "stemmer = SnowballStemmer('russian')\n",
    "\n",
    "print(stemmer.stem('играющий'))"
   ]
  },
  {
   "cell_type": "markdown",
   "id": "2922a814-0261-46c0-91fa-94b669544bd5",
   "metadata": {},
   "source": [
    "pip install pymorphy2\n",
    "pip install -U pymorphy2-dicts-ru\n",
    "\n",
    "pip install git+https://github.com/nlpub/pymystem3\n",
    "\n",
    "git-scm.com"
   ]
  },
  {
   "cell_type": "code",
   "execution_count": 33,
   "id": "de972785-7e32-4970-9e47-19046ecda462",
   "metadata": {},
   "outputs": [],
   "source": [
    "import pymorphy2\n",
    "\n",
    "morph = pymorphy2.MorphAnalyzer()\n",
    "\n",
    "p = morph.parse('гитары')"
   ]
  },
  {
   "cell_type": "code",
   "execution_count": 35,
   "id": "a116e20c-cb53-43f9-9372-4c003cf7c592",
   "metadata": {},
   "outputs": [
    {
     "data": {
      "text/plain": [
       "'гитара'"
      ]
     },
     "execution_count": 35,
     "metadata": {},
     "output_type": "execute_result"
    }
   ],
   "source": [
    "p[0].normal_form"
   ]
  },
  {
   "cell_type": "code",
   "execution_count": 9,
   "id": "e92af1f0-565a-46f7-b08d-0512e9f8dc6d",
   "metadata": {},
   "outputs": [],
   "source": [
    "# pip install razdel\n",
    "from razdel import tokenize"
   ]
  },
  {
   "cell_type": "code",
   "execution_count": 13,
   "id": "d92e60fa-d511-4c8a-8d67-56d11f38e7f5",
   "metadata": {},
   "outputs": [],
   "source": [
    "raw = 'Я навестил свою семью'"
   ]
  },
  {
   "cell_type": "code",
   "execution_count": 14,
   "id": "23530f57-4d59-419d-8c29-960ca9d21bf4",
   "metadata": {},
   "outputs": [
    {
     "name": "stdout",
     "output_type": "stream",
     "text": [
      "Parse(word='я', tag=OpencorporaTag('NPRO,1per sing,nomn'), normal_form='я', score=0.2941176470588234, methods_stack=((DictionaryAnalyzer(), 'я', 3246, 0),))\n",
      "Parse(word='навестил', tag=OpencorporaTag('VERB,perf,tran masc,sing,past,indc'), normal_form='навестить', score=1.0, methods_stack=((DictionaryAnalyzer(), 'навестил', 798, 1),))\n",
      "Parse(word='свою', tag=OpencorporaTag('ADJF,Apro,Anph femn,sing,accs'), normal_form='свой', score=1.0, methods_stack=((DictionaryAnalyzer(), 'свою', 2851, 10),))\n",
      "Parse(word='семью', tag=OpencorporaTag('NOUN,inan,femn sing,accs'), normal_form='семья', score=0.768115, methods_stack=((DictionaryAnalyzer(), 'семью', 332, 3),))\n"
     ]
    }
   ],
   "source": [
    "tokens = [t.text for t in tokenize(raw)]\n",
    "for token in tokens:\n",
    "    p = morph.parse(token)\n",
    "    print(p[0])"
   ]
  },
  {
   "cell_type": "code",
   "execution_count": 15,
   "id": "6ec4689c-84c4-4d8c-b946-32d3dde69988",
   "metadata": {},
   "outputs": [
    {
     "data": {
      "text/plain": [
       "[Parse(word='семью', tag=OpencorporaTag('NOUN,inan,femn sing,accs'), normal_form='семья', score=0.768115, methods_stack=((DictionaryAnalyzer(), 'семью', 332, 3),)),\n",
       " Parse(word='семью', tag=OpencorporaTag('NUMR ablt'), normal_form='семь', score=0.217391, methods_stack=((DictionaryAnalyzer(), 'семью', 930, 4),)),\n",
       " Parse(word='семью', tag=OpencorporaTag('ADVB'), normal_form='семью', score=0.014492, methods_stack=((DictionaryAnalyzer(), 'семью', 3, 0),))]"
      ]
     },
     "execution_count": 15,
     "metadata": {},
     "output_type": "execute_result"
    }
   ],
   "source": [
    "p"
   ]
  },
  {
   "cell_type": "code",
   "execution_count": 16,
   "id": "081ce9f3-e44b-4596-b56f-8d44130ebc8c",
   "metadata": {},
   "outputs": [
    {
     "data": {
      "text/plain": [
       "'семья'"
      ]
     },
     "execution_count": 16,
     "metadata": {},
     "output_type": "execute_result"
    }
   ],
   "source": [
    "p[0].normal_form"
   ]
  },
  {
   "cell_type": "code",
   "execution_count": 22,
   "id": "e9ac4bb8-cac9-44c9-a2b0-b55bc8237b5e",
   "metadata": {},
   "outputs": [
    {
     "data": {
      "text/plain": [
       "'accs'"
      ]
     },
     "execution_count": 22,
     "metadata": {},
     "output_type": "execute_result"
    }
   ],
   "source": [
    "p[0].tag.case"
   ]
  },
  {
   "cell_type": "code",
   "execution_count": 23,
   "id": "8e3bbdac-77a4-4c8f-b73a-9784150527dc",
   "metadata": {},
   "outputs": [
    {
     "name": "stderr",
     "output_type": "stream",
     "text": [
      "Installing mystem to C:\\Users\\User/.local/bin\\mystem.exe from http://download.cdn.yandex.net/mystem/mystem-3.1-win-64bit.zip\n"
     ]
    }
   ],
   "source": [
    "import pymystem3\n",
    "from collections import Counter\n",
    "\n",
    "m = pymystem3.Mystem(entire_input=False)\n",
    "lemmas = m.lemmatize(raw)\n",
    "analysis = m.analyze(raw) # [t1, t2, t3, ...]\n",
    "pos = m.get_pos(analysis[0])\n",
    "[m.get_pos(t) for t in analysis]\n",
    "\n",
    "for k, v in c.items():\n",
    "    c[k] = ...\n",
    "    print(k, v / len(lst))"
   ]
  },
  {
   "cell_type": "code",
   "execution_count": 25,
   "id": "01af2f35-49de-4657-95b8-e53c7f915dd7",
   "metadata": {},
   "outputs": [
    {
     "data": {
      "text/plain": [
       "[{'analysis': [{'lex': 'я', 'wt': 0.9999716281, 'gr': 'SPRO,ед,1-л=им'}],\n",
       "  'text': 'Я'},\n",
       " {'analysis': [{'lex': 'навещать', 'wt': 1, 'gr': 'V=прош,ед,изъяв,муж,сов'}],\n",
       "  'text': 'навестил'},\n",
       " {'analysis': [{'lex': 'свой', 'wt': 1, 'gr': 'APRO=вин,ед,жен'}],\n",
       "  'text': 'свою'},\n",
       " {'analysis': [{'lex': 'семья',\n",
       "    'wt': 0.9455788819,\n",
       "    'gr': 'S,жен,неод=вин,ед'}],\n",
       "  'text': 'семью'}]"
      ]
     },
     "execution_count": 25,
     "metadata": {},
     "output_type": "execute_result"
    }
   ],
   "source": [
    "analysis"
   ]
  },
  {
   "cell_type": "code",
   "execution_count": 26,
   "id": "33755cff-e8cd-4df6-9d72-8ef9da3f213e",
   "metadata": {},
   "outputs": [],
   "source": [
    "raw = '''Марк Антоний Гордиан Семпрониан Роман Африкан (лат. Marcus Antonius Gordianus Sempronianus Romanus Africanus), более известный в римской историографии как Гордиан I, — римский император, правивший в 238 году.\n",
    "\n",
    "По всей видимости, происходил из малоазиатской провинциальной аристократии. Гордиан сделал долгую и успешную карьеру: управлял несколькими провинциями, занимал должность консула-суффекта, после был назначен проконсулом Африки. В начале 238 года группа богатых молодых землевладельцев, недовольная увеличением налоговых сборов, убила прокуратора, посланного в Африку императором Максимином I Фракийцем. Восставшие провозгласили Гордиана императором, который сделал соправителем своего сына, носившего такое же имя. Кандидатуру Гордиана поддержал и сенат, начавший борьбу против Максимина, а также ряд восточных провинций. Однако вскоре Гордиан-младший пал в сражении у Карфагена против нумидийского наместника Капелиана, который сохранил верность Максимину. Узнав о гибели сына, Гордиан I покончил жизнь самоубийством. Правление Гордиана продолжалось всего несколько недель. После его гибели сенат продолжил войну против Максимина, избрав новых императоров — Бальбина и Пупиена.'''"
   ]
  },
  {
   "cell_type": "code",
   "execution_count": 27,
   "id": "c09ac976-3162-43fd-be69-decb75a5a213",
   "metadata": {},
   "outputs": [],
   "source": [
    "text = m.lemmatize(raw)"
   ]
  },
  {
   "cell_type": "code",
   "execution_count": null,
   "id": "fae26a0e-7147-447c-83c9-0fb296c532dc",
   "metadata": {},
   "outputs": [],
   "source": [
    "m.analyze(file_path=path)"
   ]
  },
  {
   "cell_type": "code",
   "execution_count": 30,
   "id": "500fd3c8-d318-4509-9b91-c04d2ce9ae8e",
   "metadata": {},
   "outputs": [
    {
     "data": {
      "text/plain": [
       "['завод', 'по', 'производство', 'становиться']"
      ]
     },
     "execution_count": 30,
     "metadata": {},
     "output_type": "execute_result"
    }
   ],
   "source": [
    "raw = 'Завод по производству стали'\n",
    "m.lemmatize(raw)"
   ]
  },
  {
   "cell_type": "code",
   "execution_count": 31,
   "id": "070ccadf-da0b-42ad-bb5b-40951dae7e12",
   "metadata": {},
   "outputs": [],
   "source": [
    "raw = 'Глокая куздра штеко бодланула бокренка'"
   ]
  },
  {
   "cell_type": "code",
   "execution_count": 32,
   "id": "691dda1c-2931-4417-bbd6-e12854a851df",
   "metadata": {},
   "outputs": [
    {
     "data": {
      "text/plain": [
       "['глокай', 'куздра', 'штеко', 'бодлануть', 'бокренок']"
      ]
     },
     "execution_count": 32,
     "metadata": {},
     "output_type": "execute_result"
    }
   ],
   "source": [
    "m.lemmatize(raw)"
   ]
  },
  {
   "cell_type": "code",
   "execution_count": 37,
   "id": "6c75764f-32ac-4a91-8f70-d5a9f625a043",
   "metadata": {},
   "outputs": [
    {
     "ename": "ModuleNotFoundError",
     "evalue": "No module named 'tensorflow'",
     "output_type": "error",
     "traceback": [
      "\u001b[1;31m---------------------------------------------------------------------------\u001b[0m",
      "\u001b[1;31mModuleNotFoundError\u001b[0m                       Traceback (most recent call last)",
      "\u001b[1;32m<ipython-input-37-8456fa429796>\u001b[0m in \u001b[0;36m<module>\u001b[1;34m\u001b[0m\n\u001b[1;32m----> 1\u001b[1;33m \u001b[1;32mfrom\u001b[0m \u001b[0mrnnmorph\u001b[0m\u001b[1;33m.\u001b[0m\u001b[0mpredictor\u001b[0m \u001b[1;32mimport\u001b[0m \u001b[0mRNNMorphPredictor\u001b[0m\u001b[1;33m\u001b[0m\u001b[1;33m\u001b[0m\u001b[0m\n\u001b[0m",
      "\u001b[1;32mE:\\JupyterLab-Portable-3.0.16-3.8\\apps\\lib\\site-packages\\rnnmorph\\predictor.py\u001b[0m in \u001b[0;36m<module>\u001b[1;34m\u001b[0m\n\u001b[0;32m     11\u001b[0m \u001b[1;32mfrom\u001b[0m \u001b[0mrussian_tagsets\u001b[0m \u001b[1;32mimport\u001b[0m \u001b[0mconverters\u001b[0m\u001b[1;33m\u001b[0m\u001b[1;33m\u001b[0m\u001b[0m\n\u001b[0;32m     12\u001b[0m \u001b[1;33m\u001b[0m\u001b[0m\n\u001b[1;32m---> 13\u001b[1;33m \u001b[1;32mfrom\u001b[0m \u001b[0mrnnmorph\u001b[0m\u001b[1;33m.\u001b[0m\u001b[0mmodel\u001b[0m \u001b[1;32mimport\u001b[0m \u001b[0mLSTMMorphoAnalysis\u001b[0m\u001b[1;33m\u001b[0m\u001b[1;33m\u001b[0m\u001b[0m\n\u001b[0m\u001b[0;32m     14\u001b[0m \u001b[1;32mfrom\u001b[0m \u001b[0mrnnmorph\u001b[0m\u001b[1;33m.\u001b[0m\u001b[0mdata_preparation\u001b[0m\u001b[1;33m.\u001b[0m\u001b[0mprocess_tag\u001b[0m \u001b[1;32mimport\u001b[0m \u001b[0mconvert_from_opencorpora_tag\u001b[0m\u001b[1;33m,\u001b[0m \u001b[0mprocess_gram_tag\u001b[0m\u001b[1;33m\u001b[0m\u001b[1;33m\u001b[0m\u001b[0m\n\u001b[0;32m     15\u001b[0m \u001b[1;32mfrom\u001b[0m \u001b[0mrnnmorph\u001b[0m\u001b[1;33m.\u001b[0m\u001b[0mdata_preparation\u001b[0m\u001b[1;33m.\u001b[0m\u001b[0mword_form\u001b[0m \u001b[1;32mimport\u001b[0m \u001b[0mWordFormOut\u001b[0m\u001b[1;33m\u001b[0m\u001b[1;33m\u001b[0m\u001b[0m\n",
      "\u001b[1;32mE:\\JupyterLab-Portable-3.0.16-3.8\\apps\\lib\\site-packages\\rnnmorph\\model.py\u001b[0m in \u001b[0;36m<module>\u001b[1;34m\u001b[0m\n\u001b[0;32m      9\u001b[0m \u001b[1;32mfrom\u001b[0m \u001b[0mpymorphy2\u001b[0m \u001b[1;32mimport\u001b[0m \u001b[0mMorphAnalyzer\u001b[0m\u001b[1;33m\u001b[0m\u001b[1;33m\u001b[0m\u001b[0m\n\u001b[0;32m     10\u001b[0m \u001b[1;32mfrom\u001b[0m \u001b[0mrussian_tagsets\u001b[0m \u001b[1;32mimport\u001b[0m \u001b[0mconverters\u001b[0m\u001b[1;33m\u001b[0m\u001b[1;33m\u001b[0m\u001b[0m\n\u001b[1;32m---> 11\u001b[1;33m \u001b[1;32mfrom\u001b[0m \u001b[0mkeras\u001b[0m\u001b[1;33m.\u001b[0m\u001b[0mlayers\u001b[0m \u001b[1;32mimport\u001b[0m \u001b[0mInput\u001b[0m\u001b[1;33m,\u001b[0m \u001b[0mEmbedding\u001b[0m\u001b[1;33m,\u001b[0m \u001b[0mDense\u001b[0m\u001b[1;33m,\u001b[0m \u001b[0mLSTM\u001b[0m\u001b[1;33m,\u001b[0m \u001b[0mBatchNormalization\u001b[0m\u001b[1;33m,\u001b[0m \u001b[0mActivation\u001b[0m\u001b[1;33m,\u001b[0m\u001b[0;31m \u001b[0m\u001b[0;31m\\\u001b[0m\u001b[1;33m\u001b[0m\u001b[1;33m\u001b[0m\u001b[0m\n\u001b[0m\u001b[0;32m     12\u001b[0m     \u001b[0mconcatenate\u001b[0m\u001b[1;33m,\u001b[0m \u001b[0mBidirectional\u001b[0m\u001b[1;33m,\u001b[0m \u001b[0mTimeDistributed\u001b[0m\u001b[1;33m,\u001b[0m \u001b[0mDropout\u001b[0m\u001b[1;33m\u001b[0m\u001b[1;33m\u001b[0m\u001b[0m\n\u001b[0;32m     13\u001b[0m \u001b[1;32mfrom\u001b[0m \u001b[0mkeras\u001b[0m\u001b[1;33m.\u001b[0m\u001b[0mmodels\u001b[0m \u001b[1;32mimport\u001b[0m \u001b[0mModel\u001b[0m\u001b[1;33m,\u001b[0m \u001b[0mmodel_from_json\u001b[0m\u001b[1;33m\u001b[0m\u001b[1;33m\u001b[0m\u001b[0m\n",
      "\u001b[1;32mE:\\JupyterLab-Portable-3.0.16-3.8\\apps\\lib\\site-packages\\keras\\__init__.py\u001b[0m in \u001b[0;36m<module>\u001b[1;34m\u001b[0m\n\u001b[0;32m     19\u001b[0m \"\"\"\n\u001b[0;32m     20\u001b[0m \u001b[1;31m# pylint: disable=unused-import\u001b[0m\u001b[1;33m\u001b[0m\u001b[1;33m\u001b[0m\u001b[1;33m\u001b[0m\u001b[0m\n\u001b[1;32m---> 21\u001b[1;33m \u001b[1;32mfrom\u001b[0m \u001b[0mtensorflow\u001b[0m\u001b[1;33m.\u001b[0m\u001b[0mpython\u001b[0m \u001b[1;32mimport\u001b[0m \u001b[0mtf2\u001b[0m\u001b[1;33m\u001b[0m\u001b[1;33m\u001b[0m\u001b[0m\n\u001b[0m\u001b[0;32m     22\u001b[0m \u001b[1;32mfrom\u001b[0m \u001b[0mkeras\u001b[0m \u001b[1;32mimport\u001b[0m \u001b[0mdistribute\u001b[0m\u001b[1;33m\u001b[0m\u001b[1;33m\u001b[0m\u001b[0m\n\u001b[0;32m     23\u001b[0m \u001b[1;33m\u001b[0m\u001b[0m\n",
      "\u001b[1;31mModuleNotFoundError\u001b[0m: No module named 'tensorflow'"
     ]
    }
   ],
   "source": [
    "from rnnmorph.predictor import RNNMorphPredictor"
   ]
  },
  {
   "cell_type": "code",
   "execution_count": null,
   "id": "53e94cbf-29d0-4abd-92d1-bef05cd28d69",
   "metadata": {},
   "outputs": [],
   "source": [
    "pred = RNNMorphPredictor(language='ru')\n",
    "\n",
    "tokens = ['word1', 'word2', ...]\n",
    "parse = pred.predict(tokens)\n",
    "\n",
    "# [token1, token2...]\n",
    "parse[0].normal_form\n",
    "parse[0].word\n",
    "parse[0].pos\n",
    "parse[0].tag"
   ]
  }
 ],
 "metadata": {
  "kernelspec": {
   "display_name": "Python 3",
   "language": "python",
   "name": "python3"
  },
  "language_info": {
   "codemirror_mode": {
    "name": "ipython",
    "version": 3
   },
   "file_extension": ".py",
   "mimetype": "text/x-python",
   "name": "python",
   "nbconvert_exporter": "python",
   "pygments_lexer": "ipython3",
   "version": "3.8.10"
  }
 },
 "nbformat": 4,
 "nbformat_minor": 5
}
