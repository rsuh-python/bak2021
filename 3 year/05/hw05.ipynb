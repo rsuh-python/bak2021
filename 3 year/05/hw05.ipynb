{
 "cells": [
  {
   "cell_type": "markdown",
   "id": "be9e9c47-38ac-42b2-bee5-160eaadd429c",
   "metadata": {},
   "source": [
    "#### Задача 1.\n",
    "\n",
    "Возьмите любой русскоязычный текст в файле (он должен быть достаточно длинным) и сделайте его морфоразбор в любом понравившемся вам парсере. Посчитайте лексическое разнообразие (количество уникальных лемм / количество всех слов). "
   ]
  },
  {
   "cell_type": "code",
   "execution_count": null,
   "id": "ffab8514-c68a-459c-8aa3-c3713a840d0f",
   "metadata": {},
   "outputs": [],
   "source": [
    "# your code here"
   ]
  },
  {
   "cell_type": "markdown",
   "id": "94dcdf64-eef9-49d7-80ed-5d8aaeedf43b",
   "metadata": {},
   "source": [
    "#### Задача 2. \n",
    "\n",
    "Посчитайте, как часто в выбранном вами тексте прилагательное стоит сразу перед существительным, а как часто - наоборот. Достаточно вывести количество вхождений (столько-то раз встретилось прил + сущ, столько-то раз - сущ + прил). Подумайте, насколько можно доверять этим цифрам."
   ]
  },
  {
   "cell_type": "code",
   "execution_count": null,
   "id": "1ec9167d-410f-461c-bc96-1310ebd0720b",
   "metadata": {},
   "outputs": [],
   "source": [
    "# your code here"
   ]
  },
  {
   "cell_type": "markdown",
   "id": "9f39d276-b70c-4264-ab59-bc620b2d252a",
   "metadata": {},
   "source": [
    "#### Задача 3. \n",
    "\n",
    "Подготовьте пустой файл .conllu для вашего текста. Разберите его интегральным морфопарсером и отрисуйте графическое дерево зависимостей хотя бы для одного предложения. "
   ]
  },
  {
   "cell_type": "code",
   "execution_count": null,
   "id": "91efb79b-cebe-4a6d-ac8a-2b2e2f76d2bb",
   "metadata": {},
   "outputs": [],
   "source": [
    "# your code here"
   ]
  },
  {
   "cell_type": "markdown",
   "id": "61d9eb3c-cc27-44a7-8341-e32bd96c9709",
   "metadata": {},
   "source": [
    "#### Дополнительная задача на 5 бонусных баллов!\n",
    "\n",
    "Найдите в интернете морфопарсер для любого языка (который учите, например) и разберитесь, как его использовать. "
   ]
  }
 ],
 "metadata": {
  "kernelspec": {
   "display_name": "Python 3 (ipykernel)",
   "language": "python",
   "name": "python3"
  },
  "language_info": {
   "codemirror_mode": {
    "name": "ipython",
    "version": 3
   },
   "file_extension": ".py",
   "mimetype": "text/x-python",
   "name": "python",
   "nbconvert_exporter": "python",
   "pygments_lexer": "ipython3",
   "version": "3.8.10"
  }
 },
 "nbformat": 4,
 "nbformat_minor": 5
}
